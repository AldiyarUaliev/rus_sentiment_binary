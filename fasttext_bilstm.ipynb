{
 "cells": [
  {
   "cell_type": "code",
   "execution_count": 1,
   "metadata": {},
   "outputs": [
    {
     "name": "stderr",
     "output_type": "stream",
     "text": [
      "Using TensorFlow backend.\n"
     ]
    }
   ],
   "source": [
    "import re\n",
    "from nltk.tokenize.casual import TweetTokenizer\n",
    "from gensim.models import KeyedVectors\n",
    "import pandas as pd\n",
    "import numpy as np\n",
    "from sklearn.model_selection import train_test_split\n",
    "import matplotlib.pyplot as plt\n",
    "from sklearn.metrics import classification_report\n",
    "\n",
    "from keras.preprocessing import sequence\n",
    "from keras.models import Sequential\n",
    "from keras.layers import Dense, Dropout, Embedding, LSTM, Bidirectional\n",
    "from keras.callbacks import ModelCheckpoint\n",
    "from keras import backend as K\n",
    "\n",
    "%matplotlib inline"
   ]
  },
  {
   "cell_type": "markdown",
   "metadata": {},
   "source": [
    "Load words embeddings (FastText trained over VK posts)"
   ]
  },
  {
   "cell_type": "code",
   "execution_count": 2,
   "metadata": {},
   "outputs": [
    {
     "data": {
      "text/plain": [
       "[('котейко', 0.7458697557449341),\n",
       " ('Котейка', 0.7427492141723633),\n",
       " ('котейки', 0.6791476011276245),\n",
       " ('котейкой', 0.6727944612503052),\n",
       " ('кошак', 0.6622782945632935),\n",
       " ('котэ', 0.6595468521118164),\n",
       " ('совушка', 0.658632755279541),\n",
       " ('киса', 0.642015278339386),\n",
       " ('котейку', 0.633861243724823),\n",
       " ('собакадругчеловека', 0.6230987310409546)]"
      ]
     },
     "execution_count": 2,
     "metadata": {},
     "output_type": "execute_result"
    }
   ],
   "source": [
    "fasttext = KeyedVectors.load_word2vec_format('embeddings/fasttext_big_300d.vec')\n",
    "fasttext.most_similar('котейка')"
   ]
  },
  {
   "cell_type": "code",
   "execution_count": 3,
   "metadata": {},
   "outputs": [
    {
     "data": {
      "text/plain": [
       "[('cats', 0.8391395211219788),\n",
       " ('kitten', 0.8023779988288879),\n",
       " ('dog', 0.7982020378112793),\n",
       " ('kittens', 0.7829532623291016),\n",
       " ('pet', 0.7627919912338257),\n",
       " ('kitty', 0.7567681074142456),\n",
       " ('catsagram', 0.7563411593437195),\n",
       " ('catstagram', 0.75223708152771),\n",
       " ('petstagram', 0.7464101314544678),\n",
       " ('catsofinstagram', 0.7379685640335083)]"
      ]
     },
     "execution_count": 3,
     "metadata": {},
     "output_type": "execute_result"
    }
   ],
   "source": [
    "fasttext.most_similar('cat')"
   ]
  },
  {
   "cell_type": "markdown",
   "metadata": {},
   "source": [
    "Load tweets (https://study.mokoron.com/)"
   ]
  },
  {
   "cell_type": "code",
   "execution_count": 2,
   "metadata": {},
   "outputs": [
    {
     "data": {
      "text/html": [
       "<div>\n",
       "<style scoped>\n",
       "    .dataframe tbody tr th:only-of-type {\n",
       "        vertical-align: middle;\n",
       "    }\n",
       "\n",
       "    .dataframe tbody tr th {\n",
       "        vertical-align: top;\n",
       "    }\n",
       "\n",
       "    .dataframe thead th {\n",
       "        text-align: right;\n",
       "    }\n",
       "</style>\n",
       "<table border=\"1\" class=\"dataframe\">\n",
       "  <thead>\n",
       "    <tr style=\"text-align: right;\">\n",
       "      <th></th>\n",
       "      <th>text</th>\n",
       "      <th>class</th>\n",
       "    </tr>\n",
       "  </thead>\n",
       "  <tbody>\n",
       "    <tr>\n",
       "      <th>0</th>\n",
       "      <td>целую ночь почти не спала!((\\nкак я ненавижу болеть!</td>\n",
       "      <td>0</td>\n",
       "    </tr>\n",
       "    <tr>\n",
       "      <th>1</th>\n",
       "      <td>RT @detu_ulic_ZAO: #Детиулиц фестиваль \"Рубеж\" подошел к концу!)Всем участникам СПАСИБО! http://t.co/Se2YxvouAo</td>\n",
       "      <td>1</td>\n",
       "    </tr>\n",
       "    <tr>\n",
       "      <th>2</th>\n",
       "      <td>Утром все постеры свалились:(( Такой хуйни я чет не помню:(( http://t.co/Lds8htnQg4</td>\n",
       "      <td>0</td>\n",
       "    </tr>\n",
       "    <tr>\n",
       "      <th>3</th>\n",
       "      <td>Я забыла взять с собой что-нибудь покушать.. Я не доживу до окончания лекции((</td>\n",
       "      <td>0</td>\n",
       "    </tr>\n",
       "    <tr>\n",
       "      <th>4</th>\n",
       "      <td>Пидармоты ((((((  0:1 сукаааааааа бляяяяяяяяяя</td>\n",
       "      <td>0</td>\n",
       "    </tr>\n",
       "    <tr>\n",
       "      <th>5</th>\n",
       "      <td>Хотелось бы погулять, но отваливающаяся спина немного против :(</td>\n",
       "      <td>0</td>\n",
       "    </tr>\n",
       "    <tr>\n",
       "      <th>6</th>\n",
       "      <td>Как залечить душевные раны? — Музыкой) http://t.co/uhxPPe3yRU</td>\n",
       "      <td>1</td>\n",
       "    </tr>\n",
       "    <tr>\n",
       "      <th>7</th>\n",
       "      <td>RT @sufehabuqag: пора бы уже сделать кнопочку типа \"i like\" от фейсбука, только \"i hate\" :)</td>\n",
       "      <td>1</td>\n",
       "    </tr>\n",
       "    <tr>\n",
       "      <th>8</th>\n",
       "      <td>пропустила тренировочную по математике( печаль(</td>\n",
       "      <td>0</td>\n",
       "    </tr>\n",
       "    <tr>\n",
       "      <th>9</th>\n",
       "      <td>Есть задача для эникейщика — мешать заказчику мешать айтишнику :)</td>\n",
       "      <td>1</td>\n",
       "    </tr>\n",
       "  </tbody>\n",
       "</table>\n",
       "</div>"
      ],
      "text/plain": [
       "                                                                                                              text  \\\n",
       "0  целую ночь почти не спала!((\\nкак я ненавижу болеть!                                                              \n",
       "1  RT @detu_ulic_ZAO: #Детиулиц фестиваль \"Рубеж\" подошел к концу!)Всем участникам СПАСИБО! http://t.co/Se2YxvouAo   \n",
       "2  Утром все постеры свалились:(( Такой хуйни я чет не помню:(( http://t.co/Lds8htnQg4                               \n",
       "3  Я забыла взять с собой что-нибудь покушать.. Я не доживу до окончания лекции((                                    \n",
       "4  Пидармоты ((((((  0:1 сукаааааааа бляяяяяяяяяя                                                                    \n",
       "5  Хотелось бы погулять, но отваливающаяся спина немного против :(                                                   \n",
       "6  Как залечить душевные раны? — Музыкой) http://t.co/uhxPPe3yRU                                                     \n",
       "7  RT @sufehabuqag: пора бы уже сделать кнопочку типа \"i like\" от фейсбука, только \"i hate\" :)                       \n",
       "8  пропустила тренировочную по математике( печаль(                                                                   \n",
       "9  Есть задача для эникейщика — мешать заказчику мешать айтишнику :)                                                 \n",
       "\n",
       "   class  \n",
       "0  0      \n",
       "1  1      \n",
       "2  0      \n",
       "3  0      \n",
       "4  0      \n",
       "5  0      \n",
       "6  1      \n",
       "7  1      \n",
       "8  0      \n",
       "9  1      "
      ]
     },
     "execution_count": 2,
     "metadata": {},
     "output_type": "execute_result"
    }
   ],
   "source": [
    "pd.set_option('max_colwidth', -1)\n",
    "\n",
    "negative = pd.read_csv('data/negative.csv', header=None, sep=';', usecols=[3])\n",
    "negative['class'] = 0\n",
    "positive = pd.read_csv('data/positive.csv', header=None, sep=';', usecols=[3])\n",
    "positive['class'] = 1\n",
    "df = pd.concat([negative, positive], ignore_index=True, copy=False)\n",
    "df = df.sample(frac=1).reset_index(drop=True)\n",
    "df.rename(columns={3: 'text'}, inplace=True)\n",
    "df.head(n=10)"
   ]
  },
  {
   "cell_type": "code",
   "execution_count": 3,
   "metadata": {},
   "outputs": [
    {
     "data": {
      "text/plain": [
       "<matplotlib.axes._subplots.AxesSubplot at 0x7f07ac122908>"
      ]
     },
     "execution_count": 3,
     "metadata": {},
     "output_type": "execute_result"
    },
    {
     "data": {
      "image/png": "[encoded data removed]",
      "text/plain": [
       "<Figure size 432x288 with 1 Axes>"
      ]
     },
     "metadata": {
      "needs_background": "light"
     },
     "output_type": "display_data"
    }
   ],
   "source": [
    "df['class'].hist()"
   ]
  },
  {
   "cell_type": "code",
   "execution_count": 4,
   "metadata": {},
   "outputs": [
    {
     "data": {
      "text/plain": [
       "1    114911\n",
       "0    111923\n",
       "Name: class, dtype: int64"
      ]
     },
     "execution_count": 4,
     "metadata": {},
     "output_type": "execute_result"
    }
   ],
   "source": [
    "df['class'].value_counts()"
   ]
  },
  {
   "cell_type": "code",
   "execution_count": 5,
   "metadata": {},
   "outputs": [],
   "source": [
    "def preprocess_text(text):\n",
    "    # Lower text\n",
    "    text = text.lower()\n",
    "    # Remove URLs\n",
    "    text = re.sub(r\"http\\S+\", \"\", text)\n",
    "    # Remove @ mentions\n",
    "    text = re.sub(r\"@\\S+\", \"\", text)\n",
    "    # Remove hashtags\n",
    "    text = re.sub(r\"#\\S+\", \"\", text)\n",
    "    # Remove rt (retweets)\n",
    "    text = re.sub(\"rt\", \"\", text)\n",
    "    # Remove unneeded symbols\n",
    "    text = re.sub(r\"[/~/`/@/#/$/%/&/-/_/+/,/.]\", \"\", text)\n",
    "    # Remove extra spaces\n",
    "    text = re.sub(\" +\", ' ', text)\n",
    "    \n",
    "    return text"
   ]
  },
  {
   "cell_type": "code",
   "execution_count": 6,
   "metadata": {},
   "outputs": [
    {
     "data": {
      "text/html": [
       "<div>\n",
       "<style scoped>\n",
       "    .dataframe tbody tr th:only-of-type {\n",
       "        vertical-align: middle;\n",
       "    }\n",
       "\n",
       "    .dataframe tbody tr th {\n",
       "        vertical-align: top;\n",
       "    }\n",
       "\n",
       "    .dataframe thead th {\n",
       "        text-align: right;\n",
       "    }\n",
       "</style>\n",
       "<table border=\"1\" class=\"dataframe\">\n",
       "  <thead>\n",
       "    <tr style=\"text-align: right;\">\n",
       "      <th></th>\n",
       "      <th>text</th>\n",
       "      <th>class</th>\n",
       "      <th>preprocessed_text</th>\n",
       "    </tr>\n",
       "  </thead>\n",
       "  <tbody>\n",
       "    <tr>\n",
       "      <th>0</th>\n",
       "      <td>целую ночь почти не спала!((\\nкак я ненавижу болеть!</td>\n",
       "      <td>0</td>\n",
       "      <td>целую ночь почти не спала!((\\nкак я ненавижу болеть!</td>\n",
       "    </tr>\n",
       "    <tr>\n",
       "      <th>1</th>\n",
       "      <td>RT @detu_ulic_ZAO: #Детиулиц фестиваль \"Рубеж\" подошел к концу!)Всем участникам СПАСИБО! http://t.co/Se2YxvouAo</td>\n",
       "      <td>1</td>\n",
       "      <td>фестиваль \"рубеж\" подошел к концу!)всем участникам спасибо!</td>\n",
       "    </tr>\n",
       "    <tr>\n",
       "      <th>2</th>\n",
       "      <td>Утром все постеры свалились:(( Такой хуйни я чет не помню:(( http://t.co/Lds8htnQg4</td>\n",
       "      <td>0</td>\n",
       "      <td>утром все постеры свалились:(( такой хуйни я чет не помню:((</td>\n",
       "    </tr>\n",
       "    <tr>\n",
       "      <th>3</th>\n",
       "      <td>Я забыла взять с собой что-нибудь покушать.. Я не доживу до окончания лекции((</td>\n",
       "      <td>0</td>\n",
       "      <td>я забыла взять с собой что-нибудь покушать я не доживу до окончания лекции((</td>\n",
       "    </tr>\n",
       "    <tr>\n",
       "      <th>4</th>\n",
       "      <td>Пидармоты ((((((  0:1 сукаааааааа бляяяяяяяяяя</td>\n",
       "      <td>0</td>\n",
       "      <td>пидармоты (((((( 0:1 сукаааааааа бляяяяяяяяяя</td>\n",
       "    </tr>\n",
       "  </tbody>\n",
       "</table>\n",
       "</div>"
      ],
      "text/plain": [
       "                                                                                                              text  \\\n",
       "0  целую ночь почти не спала!((\\nкак я ненавижу болеть!                                                              \n",
       "1  RT @detu_ulic_ZAO: #Детиулиц фестиваль \"Рубеж\" подошел к концу!)Всем участникам СПАСИБО! http://t.co/Se2YxvouAo   \n",
       "2  Утром все постеры свалились:(( Такой хуйни я чет не помню:(( http://t.co/Lds8htnQg4                               \n",
       "3  Я забыла взять с собой что-нибудь покушать.. Я не доживу до окончания лекции((                                    \n",
       "4  Пидармоты ((((((  0:1 сукаааааааа бляяяяяяяяяя                                                                    \n",
       "\n",
       "   class  \\\n",
       "0  0       \n",
       "1  1       \n",
       "2  0       \n",
       "3  0       \n",
       "4  0       \n",
       "\n",
       "                                                               preprocessed_text  \n",
       "0  целую ночь почти не спала!((\\nкак я ненавижу болеть!                           \n",
       "1   фестиваль \"рубеж\" подошел к концу!)всем участникам спасибо!                   \n",
       "2  утром все постеры свалились:(( такой хуйни я чет не помню:((                   \n",
       "3  я забыла взять с собой что-нибудь покушать я не доживу до окончания лекции((   \n",
       "4  пидармоты (((((( 0:1 сукаааааааа бляяяяяяяяяя                                  "
      ]
     },
     "execution_count": 6,
     "metadata": {},
     "output_type": "execute_result"
    }
   ],
   "source": [
    "df['preprocessed_text'] = df['text'].apply(lambda x: preprocess_text(x))\n",
    "df.head()"
   ]
  },
  {
   "cell_type": "markdown",
   "metadata": {},
   "source": [
    "Split text to train/test"
   ]
  },
  {
   "cell_type": "code",
   "execution_count": 7,
   "metadata": {},
   "outputs": [],
   "source": [
    "text_train, text_test, label_train, label_test = train_test_split(\n",
    "    df['preprocessed_text'],\n",
    "    df['class'],\n",
    "    test_size=0.2,\n",
    "    shuffle=True,\n",
    "    random_state=42\n",
    ")"
   ]
  },
  {
   "cell_type": "markdown",
   "metadata": {},
   "source": [
    "Tweet tokenizer"
   ]
  },
  {
   "cell_type": "code",
   "execution_count": 8,
   "metadata": {},
   "outputs": [],
   "source": [
    "tweet_tokenizer = TweetTokenizer()"
   ]
  },
  {
   "cell_type": "markdown",
   "metadata": {},
   "source": [
    "Prepare data for BiLSTM"
   ]
  },
  {
   "cell_type": "code",
   "execution_count": 11,
   "metadata": {},
   "outputs": [],
   "source": [
    "def text_data_to_tokens(texts):\n",
    "    res = []\n",
    "    for txt in texts:\n",
    "        tokenized_txt = tweet_tokenizer.tokenize(txt)\n",
    "        replaced_by_num = [fasttext.vocab[word].index for word in tokenized_txt if word in fasttext.vocab]\n",
    "        res.append(replaced_by_num)\n",
    "    return res"
   ]
  },
  {
   "cell_type": "code",
   "execution_count": 12,
   "metadata": {},
   "outputs": [
    {
     "data": {
      "text/plain": [
       "(181467, 45367)"
      ]
     },
     "execution_count": 12,
     "metadata": {},
     "output_type": "execute_result"
    }
   ],
   "source": [
    "X_train_bilstm = text_data_to_tokens(text_train)\n",
    "X_test_bilstm = text_data_to_tokens(text_test)\n",
    "len(X_train_bilstm), len(X_test_bilstm)"
   ]
  },
  {
   "cell_type": "markdown",
   "metadata": {},
   "source": [
    "The longest sentence length"
   ]
  },
  {
   "cell_type": "code",
   "execution_count": 13,
   "metadata": {},
   "outputs": [
    {
     "data": {
      "text/plain": [
       "47"
      ]
     },
     "execution_count": 13,
     "metadata": {},
     "output_type": "execute_result"
    }
   ],
   "source": [
    "max([max([len(x) for x in X_train_bilstm]), max([len(x) for x in X_test_bilstm])])"
   ]
  },
  {
   "cell_type": "markdown",
   "metadata": {},
   "source": [
    "Embedding layer params"
   ]
  },
  {
   "cell_type": "code",
   "execution_count": 14,
   "metadata": {},
   "outputs": [
    {
     "name": "stdout",
     "output_type": "stream",
     "text": [
      "WARNING:tensorflow:From /home/rdalex/venv3/lib/python3.6/site-packages/keras/backend/tensorflow_backend.py:74: The name tf.get_default_graph is deprecated. Please use tf.compat.v1.get_default_graph instead.\n",
      "\n"
     ]
    },
    {
     "data": {
      "text/plain": [
       "{'name': 'embedding_1',\n",
       " 'trainable': False,\n",
       " 'batch_input_shape': (None, None),\n",
       " 'dtype': 'float32',\n",
       " 'input_dim': 507470,\n",
       " 'output_dim': 300,\n",
       " 'embeddings_initializer': {'class_name': 'RandomUniform',\n",
       "  'config': {'minval': -0.05, 'maxval': 0.05, 'seed': None}},\n",
       " 'embeddings_regularizer': None,\n",
       " 'activity_regularizer': None,\n",
       " 'embeddings_constraint': None,\n",
       " 'mask_zero': False,\n",
       " 'input_length': None}"
      ]
     },
     "execution_count": 14,
     "metadata": {},
     "output_type": "execute_result"
    }
   ],
   "source": [
    "fasttext.get_keras_embedding().get_config()"
   ]
  },
  {
   "cell_type": "markdown",
   "metadata": {},
   "source": [
    "Some metrics definition"
   ]
  },
  {
   "cell_type": "code",
   "execution_count": 15,
   "metadata": {},
   "outputs": [],
   "source": [
    "def precision(y_true, y_pred):\n",
    "    \"\"\"Precision metric.\n",
    "\n",
    "    Only computes a batch-wise average of precision.\n",
    "\n",
    "    Computes the precision, a metric for multi-label classification of\n",
    "    how many selected items are relevant.\n",
    "    \"\"\"\n",
    "    true_positives = K.sum(K.round(K.clip(y_true * y_pred, 0, 1)))\n",
    "    predicted_positives = K.sum(K.round(K.clip(y_pred, 0, 1)))\n",
    "    precision = true_positives / (predicted_positives + K.epsilon())\n",
    "    return precision\n",
    "\n",
    "\n",
    "def recall(y_true, y_pred):\n",
    "    \"\"\"Recall metric.\n",
    "\n",
    "    Only computes a batch-wise average of recall.\n",
    "\n",
    "    Computes the recall, a metric for multi-label classification of\n",
    "    how many relevant items are selected.\n",
    "    \"\"\"\n",
    "    true_positives = K.sum(K.round(K.clip(y_true * y_pred, 0, 1)))\n",
    "    possible_positives = K.sum(K.round(K.clip(y_true, 0, 1)))\n",
    "    recall = true_positives / (possible_positives + K.epsilon())\n",
    "    return recall\n",
    "\n",
    "\n",
    "def f1(y_true, y_pred):\n",
    "    def recall(y_true, y_pred):\n",
    "        \"\"\"Recall metric.\n",
    "\n",
    "        Only computes a batch-wise average of recall.\n",
    "\n",
    "        Computes the recall, a metric for multi-label classification of\n",
    "        how many relevant items are selected.\n",
    "        \"\"\"\n",
    "        true_positives = K.sum(K.round(K.clip(y_true * y_pred, 0, 1)))\n",
    "        possible_positives = K.sum(K.round(K.clip(y_true, 0, 1)))\n",
    "        recall = true_positives / (possible_positives + K.epsilon())\n",
    "        return recall\n",
    "\n",
    "    def precision(y_true, y_pred):\n",
    "        \"\"\"Precision metric.\n",
    "\n",
    "        Only computes a batch-wise average of precision.\n",
    "\n",
    "        Computes the precision, a metric for multi-label classification of\n",
    "        how many selected items are relevant.\n",
    "        \"\"\"\n",
    "        true_positives = K.sum(K.round(K.clip(y_true * y_pred, 0, 1)))\n",
    "        predicted_positives = K.sum(K.round(K.clip(y_pred, 0, 1)))\n",
    "        precision = true_positives / (predicted_positives + K.epsilon())\n",
    "        return precision\n",
    "\n",
    "    precision = precision(y_true, y_pred)\n",
    "    recall = recall(y_true, y_pred)\n",
    "    return 2 * ((precision * recall) / (precision + recall + K.epsilon()))"
   ]
  },
  {
   "cell_type": "markdown",
   "metadata": {},
   "source": [
    "BiLSTM training"
   ]
  },
  {
   "cell_type": "code",
   "execution_count": 16,
   "metadata": {},
   "outputs": [
    {
     "name": "stdout",
     "output_type": "stream",
     "text": [
      "X_train shape: (181467, 64)\n",
      "X_test shape: (45367, 64)\n",
      "WARNING:tensorflow:From /home/rdalex/venv3/lib/python3.6/site-packages/keras/backend/tensorflow_backend.py:517: The name tf.placeholder is deprecated. Please use tf.compat.v1.placeholder instead.\n",
      "\n",
      "WARNING:tensorflow:From /home/rdalex/venv3/lib/python3.6/site-packages/keras/backend/tensorflow_backend.py:4138: The name tf.random_uniform is deprecated. Please use tf.random.uniform instead.\n",
      "\n",
      "WARNING:tensorflow:From /home/rdalex/venv3/lib/python3.6/site-packages/keras/backend/tensorflow_backend.py:174: The name tf.get_default_session is deprecated. Please use tf.compat.v1.get_default_session instead.\n",
      "\n",
      "WARNING:tensorflow:From /home/rdalex/venv3/lib/python3.6/site-packages/keras/backend/tensorflow_backend.py:181: The name tf.ConfigProto is deprecated. Please use tf.compat.v1.ConfigProto instead.\n",
      "\n",
      "WARNING:tensorflow:From /home/rdalex/venv3/lib/python3.6/site-packages/keras/backend/tensorflow_backend.py:186: The name tf.Session is deprecated. Please use tf.compat.v1.Session instead.\n",
      "\n",
      "WARNING:tensorflow:From /home/rdalex/venv3/lib/python3.6/site-packages/keras/backend/tensorflow_backend.py:190: The name tf.global_variables is deprecated. Please use tf.compat.v1.global_variables instead.\n",
      "\n",
      "WARNING:tensorflow:From /home/rdalex/venv3/lib/python3.6/site-packages/keras/backend/tensorflow_backend.py:199: The name tf.is_variable_initialized is deprecated. Please use tf.compat.v1.is_variable_initialized instead.\n",
      "\n",
      "WARNING:tensorflow:From /home/rdalex/venv3/lib/python3.6/site-packages/keras/backend/tensorflow_backend.py:206: The name tf.variables_initializer is deprecated. Please use tf.compat.v1.variables_initializer instead.\n",
      "\n",
      "WARNING:tensorflow:From /home/rdalex/venv3/lib/python3.6/site-packages/keras/backend/tensorflow_backend.py:133: The name tf.placeholder_with_default is deprecated. Please use tf.compat.v1.placeholder_with_default instead.\n",
      "\n",
      "WARNING:tensorflow:From /home/rdalex/venv3/lib/python3.6/site-packages/keras/backend/tensorflow_backend.py:3445: calling dropout (from tensorflow.python.ops.nn_ops) with keep_prob is deprecated and will be removed in a future version.\n",
      "Instructions for updating:\n",
      "Please use `rate` instead of `keep_prob`. Rate should be set to `rate = 1 - keep_prob`.\n",
      "WARNING:tensorflow:From /home/rdalex/venv3/lib/python3.6/site-packages/keras/optimizers.py:790: The name tf.train.Optimizer is deprecated. Please use tf.compat.v1.train.Optimizer instead.\n",
      "\n",
      "WARNING:tensorflow:From /home/rdalex/venv3/lib/python3.6/site-packages/keras/backend/tensorflow_backend.py:3376: The name tf.log is deprecated. Please use tf.math.log instead.\n",
      "\n",
      "WARNING:tensorflow:From /home/rdalex/venv3/lib/python3.6/site-packages/tensorflow_core/python/ops/nn_impl.py:183: where (from tensorflow.python.ops.array_ops) is deprecated and will be removed in a future version.\n",
      "Instructions for updating:\n",
      "Use tf.where in 2.0, which has the same broadcast rule as np.where\n",
      "WARNING:tensorflow:From /home/rdalex/venv3/lib/python3.6/site-packages/keras/backend/tensorflow_backend.py:986: The name tf.assign_add is deprecated. Please use tf.compat.v1.assign_add instead.\n",
      "\n",
      "WARNING:tensorflow:From /home/rdalex/venv3/lib/python3.6/site-packages/keras/backend/tensorflow_backend.py:973: The name tf.assign is deprecated. Please use tf.compat.v1.assign instead.\n",
      "\n",
      "Train on 163320 samples, validate on 18147 samples\n",
      "Epoch 1/30\n",
      "163320/163320 [==============================] - 69s 421us/step - loss: 0.3023 - precision: 0.8490 - recall: 0.8748 - f1: 0.8575 - val_loss: 0.2563 - val_precision: 0.8227 - val_recall: 0.9415 - val_f1: 0.8778\n",
      "Epoch 2/30\n",
      "163320/163320 [==============================] - 67s 409us/step - loss: 0.2336 - precision: 0.8819 - recall: 0.8864 - f1: 0.8829 - val_loss: 0.2216 - val_precision: 0.8854 - val_recall: 0.8886 - val_f1: 0.8867\n",
      "Epoch 3/30\n",
      "163320/163320 [==============================] - 66s 406us/step - loss: 0.2179 - precision: 0.8895 - recall: 0.8901 - f1: 0.8888 - val_loss: 0.2161 - val_precision: 0.8759 - val_recall: 0.9066 - val_f1: 0.8907\n",
      "Epoch 4/30\n",
      "163320/163320 [==============================] - 66s 403us/step - loss: 0.2100 - precision: 0.8949 - recall: 0.8944 - f1: 0.8937 - val_loss: 0.2122 - val_precision: 0.8714 - val_recall: 0.9160 - val_f1: 0.8928\n",
      "Epoch 5/30\n",
      "163320/163320 [==============================] - 66s 404us/step - loss: 0.2048 - precision: 0.8975 - recall: 0.8972 - f1: 0.8965 - val_loss: 0.2112 - val_precision: 0.9158 - val_recall: 0.8632 - val_f1: 0.8884\n",
      "Epoch 6/30\n",
      "163320/163320 [==============================] - 66s 403us/step - loss: 0.2007 - precision: 0.9012 - recall: 0.8985 - f1: 0.8991 - val_loss: 0.2084 - val_precision: 0.9213 - val_recall: 0.8589 - val_f1: 0.8887\n",
      "Epoch 7/30\n",
      "163320/163320 [==============================] - 66s 404us/step - loss: 0.1970 - precision: 0.9023 - recall: 0.9013 - f1: 0.9010 - val_loss: 0.2052 - val_precision: 0.9118 - val_recall: 0.8754 - val_f1: 0.8929\n",
      "Epoch 8/30\n",
      "163320/163320 [==============================] - 66s 404us/step - loss: 0.1935 - precision: 0.9061 - recall: 0.9025 - f1: 0.9036 - val_loss: 0.2035 - val_precision: 0.8774 - val_recall: 0.9187 - val_f1: 0.8973\n",
      "Epoch 9/30\n",
      "163320/163320 [==============================] - 65s 399us/step - loss: 0.1912 - precision: 0.9072 - recall: 0.9043 - f1: 0.9050 - val_loss: 0.2009 - val_precision: 0.8954 - val_recall: 0.8995 - val_f1: 0.8971\n",
      "Epoch 10/30\n",
      "163320/163320 [==============================] - 66s 401us/step - loss: 0.1880 - precision: 0.9088 - recall: 0.9058 - f1: 0.9067 - val_loss: 0.2004 - val_precision: 0.9029 - val_recall: 0.8916 - val_f1: 0.8969\n",
      "Epoch 11/30\n",
      "163320/163320 [==============================] - 66s 404us/step - loss: 0.1851 - precision: 0.9115 - recall: 0.9078 - f1: 0.9090 - val_loss: 0.1992 - val_precision: 0.9198 - val_recall: 0.8727 - val_f1: 0.8953\n",
      "Epoch 12/30\n",
      "163320/163320 [==============================] - 66s 403us/step - loss: 0.1830 - precision: 0.9127 - recall: 0.9090 - f1: 0.9103 - val_loss: 0.1992 - val_precision: 0.9231 - val_recall: 0.8701 - val_f1: 0.8955\n",
      "Epoch 13/30\n",
      "163320/163320 [==============================] - 66s 403us/step - loss: 0.1804 - precision: 0.9137 - recall: 0.9118 - f1: 0.9122 - val_loss: 0.1987 - val_precision: 0.9221 - val_recall: 0.8751 - val_f1: 0.8977\n",
      "Epoch 14/30\n",
      "163320/163320 [==============================] - 66s 403us/step - loss: 0.1779 - precision: 0.9158 - recall: 0.9124 - f1: 0.9136 - val_loss: 0.1974 - val_precision: 0.9064 - val_recall: 0.8927 - val_f1: 0.8991\n",
      "Epoch 15/30\n",
      "163320/163320 [==============================] - 65s 397us/step - loss: 0.1754 - precision: 0.9172 - recall: 0.9150 - f1: 0.9156 - val_loss: 0.1963 - val_precision: 0.9086 - val_recall: 0.8969 - val_f1: 0.9024\n",
      "Epoch 16/30\n",
      "163320/163320 [==============================] - 65s 401us/step - loss: 0.1732 - precision: 0.9186 - recall: 0.9151 - f1: 0.9163 - val_loss: 0.1966 - val_precision: 0.9081 - val_recall: 0.8936 - val_f1: 0.9004\n",
      "Epoch 17/30\n",
      "163320/163320 [==============================] - 65s 400us/step - loss: 0.1710 - precision: 0.9201 - recall: 0.9169 - f1: 0.9180 - val_loss: 0.1981 - val_precision: 0.9120 - val_recall: 0.8908 - val_f1: 0.9009\n",
      "Epoch 18/30\n",
      "163320/163320 [==============================] - 66s 401us/step - loss: 0.1679 - precision: 0.9225 - recall: 0.9192 - f1: 0.9204 - val_loss: 0.1982 - val_precision: 0.9011 - val_recall: 0.9058 - val_f1: 0.9031\n",
      "Epoch 19/30\n",
      "163320/163320 [==============================] - 66s 402us/step - loss: 0.1658 - precision: 0.9232 - recall: 0.9205 - f1: 0.9214 - val_loss: 0.2002 - val_precision: 0.9134 - val_recall: 0.8925 - val_f1: 0.9025\n",
      "Epoch 20/30\n",
      "163320/163320 [==============================] - 65s 401us/step - loss: 0.1633 - precision: 0.9248 - recall: 0.9217 - f1: 0.9228 - val_loss: 0.2036 - val_precision: 0.9004 - val_recall: 0.9080 - val_f1: 0.9039\n",
      "Epoch 21/30\n",
      "163320/163320 [==============================] - 66s 402us/step - loss: 0.1605 - precision: 0.9263 - recall: 0.9239 - f1: 0.9246 - val_loss: 0.2056 - val_precision: 0.8868 - val_recall: 0.9179 - val_f1: 0.9018\n",
      "Epoch 22/30\n",
      "163320/163320 [==============================] - 64s 389us/step - loss: 0.1575 - precision: 0.9276 - recall: 0.9253 - f1: 0.9260 - val_loss: 0.2084 - val_precision: 0.9038 - val_recall: 0.9047 - val_f1: 0.9039\n"
     ]
    },
    {
     "name": "stdout",
     "output_type": "stream",
     "text": [
      "Epoch 23/30\n",
      "163320/163320 [==============================] - 66s 403us/step - loss: 0.1546 - precision: 0.9301 - recall: 0.9271 - f1: 0.9282 - val_loss: 0.2076 - val_precision: 0.8947 - val_recall: 0.9155 - val_f1: 0.9047\n",
      "Epoch 24/30\n",
      "163320/163320 [==============================] - 65s 401us/step - loss: 0.1524 - precision: 0.9311 - recall: 0.9284 - f1: 0.9293 - val_loss: 0.2040 - val_precision: 0.8949 - val_recall: 0.9138 - val_f1: 0.9039\n",
      "Epoch 25/30\n",
      "163320/163320 [==============================] - 65s 399us/step - loss: 0.1492 - precision: 0.9333 - recall: 0.9306 - f1: 0.9315 - val_loss: 0.2153 - val_precision: 0.9141 - val_recall: 0.8863 - val_f1: 0.8996\n",
      "Epoch 26/30\n",
      "163320/163320 [==============================] - 64s 393us/step - loss: 0.1461 - precision: 0.9347 - recall: 0.9318 - f1: 0.9329 - val_loss: 0.2130 - val_precision: 0.9165 - val_recall: 0.8885 - val_f1: 0.9019\n",
      "Epoch 27/30\n",
      "163320/163320 [==============================] - 105s 641us/step - loss: 0.1438 - precision: 0.9356 - recall: 0.9328 - f1: 0.9338 - val_loss: 0.2103 - val_precision: 0.9002 - val_recall: 0.9105 - val_f1: 0.9050\n",
      "Epoch 28/30\n",
      "163320/163320 [==============================] - 108s 662us/step - loss: 0.1400 - precision: 0.9376 - recall: 0.9349 - f1: 0.9359 - val_loss: 0.2241 - val_precision: 0.9248 - val_recall: 0.8730 - val_f1: 0.8978\n",
      "Epoch 29/30\n",
      "163320/163320 [==============================] - 107s 657us/step - loss: 0.1374 - precision: 0.9397 - recall: 0.9370 - f1: 0.9379 - val_loss: 0.2230 - val_precision: 0.9057 - val_recall: 0.9029 - val_f1: 0.9039\n",
      "Epoch 30/30\n",
      "163320/163320 [==============================] - 103s 628us/step - loss: 0.1340 - precision: 0.9413 - recall: 0.9388 - f1: 0.9397 - val_loss: 0.2201 - val_precision: 0.9005 - val_recall: 0.9084 - val_f1: 0.9041\n"
     ]
    }
   ],
   "source": [
    "maxlen = 64\n",
    "batch_size = 256\n",
    "epochs = 30\n",
    "\n",
    "X_train = sequence.pad_sequences(X_train_bilstm, maxlen=maxlen)\n",
    "X_test = sequence.pad_sequences(X_test_bilstm, maxlen=maxlen)\n",
    "print('X_train shape:', X_train.shape)\n",
    "print('X_test shape:', X_test.shape)\n",
    "y_train = np.array(label_train)\n",
    "y_test = np.array(label_test)\n",
    "\n",
    "model = Sequential()\n",
    "model.add(fasttext.get_keras_embedding())\n",
    "model.add(Bidirectional(LSTM(64)))\n",
    "model.add(Dropout(0.3))\n",
    "model.add(Dense(1, activation='sigmoid'))\n",
    "\n",
    "callbacks = [ModelCheckpoint(filepath='trained_models/fasttext_bilstm.h5', \n",
    "                             monitor='val_loss', \n",
    "                             save_best_only=True)\n",
    "            ]\n",
    "model.compile('adadelta', 'binary_crossentropy', metrics=[precision, recall, f1])\n",
    "history = model.fit(X_train, y_train, batch_size=batch_size, epochs=epochs, \n",
    "                    validation_split=0.1, \n",
    "                    callbacks=callbacks)"
   ]
  },
  {
   "cell_type": "code",
   "execution_count": 22,
   "metadata": {},
   "outputs": [
    {
     "name": "stdout",
     "output_type": "stream",
     "text": [
      "_________________________________________________________________\n",
      "Layer (type)                 Output Shape              Param #   \n",
      "=================================================================\n",
      "embedding_2 (Embedding)      (None, None, 300)         152241000 \n",
      "_________________________________________________________________\n",
      "bidirectional_1 (Bidirection (None, 128)               186880    \n",
      "_________________________________________________________________\n",
      "dropout_1 (Dropout)          (None, 128)               0         \n",
      "_________________________________________________________________\n",
      "dense_1 (Dense)              (None, 1)                 129       \n",
      "=================================================================\n",
      "Total params: 152,428,009\n",
      "Trainable params: 187,009\n",
      "Non-trainable params: 152,241,000\n",
      "_________________________________________________________________\n"
     ]
    }
   ],
   "source": [
    "model.summary()"
   ]
  },
  {
   "cell_type": "markdown",
   "metadata": {},
   "source": [
    "Some plots"
   ]
  },
  {
   "cell_type": "code",
   "execution_count": 17,
   "metadata": {},
   "outputs": [
    {
     "data": {
      "image/png": "[encoded data removed]",
      "text/plain": [
       "<Figure size 432x288 with 1 Axes>"
      ]
     },
     "metadata": {
      "needs_background": "light"
     },
     "output_type": "display_data"
    }
   ],
   "source": [
    "plt.plot(history.history['f1'])\n",
    "plt.plot(history.history['val_f1'])\n",
    "plt.title('Model F1')\n",
    "plt.ylabel('F1')\n",
    "plt.xlabel('Epoch')\n",
    "plt.legend(['Train', 'Validation'], loc='upper left')\n",
    "plt.show()"
   ]
  },
  {
   "cell_type": "code",
   "execution_count": 18,
   "metadata": {},
   "outputs": [
    {
     "data": {
      "image/png": "[encoded data removed]",
      "text/plain": [
       "<Figure size 432x288 with 1 Axes>"
      ]
     },
     "metadata": {
      "needs_background": "light"
     },
     "output_type": "display_data"
    }
   ],
   "source": [
    "plt.plot(history.history['precision'])\n",
    "plt.plot(history.history['val_precision'])\n",
    "plt.title('Model precision')\n",
    "plt.ylabel('Precision')\n",
    "plt.xlabel('Epoch')\n",
    "plt.legend(['Train', 'Validation'], loc='upper left')\n",
    "plt.show()"
   ]
  },
  {
   "cell_type": "code",
   "execution_count": 19,
   "metadata": {},
   "outputs": [
    {
     "data": {
      "image/png": "[encoded data removed]",
      "text/plain": [
       "<Figure size 432x288 with 1 Axes>"
      ]
     },
     "metadata": {
      "needs_background": "light"
     },
     "output_type": "display_data"
    }
   ],
   "source": [
    "plt.plot(history.history['recall'])\n",
    "plt.plot(history.history['val_recall'])\n",
    "plt.title('Model recall')\n",
    "plt.ylabel('Recall')\n",
    "plt.xlabel('Epoch')\n",
    "plt.legend(['Train', 'Validation'], loc='upper left')\n",
    "plt.show()"
   ]
  },
  {
   "cell_type": "code",
   "execution_count": 20,
   "metadata": {},
   "outputs": [
    {
     "data": {
      "image/png": "[encoded data removed]",
      "text/plain": [
       "<Figure size 432x288 with 1 Axes>"
      ]
     },
     "metadata": {
      "needs_background": "light"
     },
     "output_type": "display_data"
    }
   ],
   "source": [
    "plt.plot(history.history['loss'])\n",
    "plt.plot(history.history['val_loss'])\n",
    "plt.title('Model loss')\n",
    "plt.ylabel('Loss')\n",
    "plt.xlabel('Epoch')\n",
    "plt.legend(['Train', 'Validation'], loc='upper right')\n",
    "plt.show()"
   ]
  },
  {
   "cell_type": "markdown",
   "metadata": {},
   "source": [
    "Test classification report"
   ]
  },
  {
   "cell_type": "code",
   "execution_count": 21,
   "metadata": {},
   "outputs": [
    {
     "name": "stdout",
     "output_type": "stream",
     "text": [
      "              precision    recall  f1-score   support\n",
      "\n",
      "           0       0.91      0.90      0.90     22473\n",
      "           1       0.90      0.91      0.91     22894\n",
      "\n",
      "    accuracy                           0.90     45367\n",
      "   macro avg       0.90      0.90      0.90     45367\n",
      "weighted avg       0.90      0.90      0.90     45367\n",
      "\n"
     ]
    }
   ],
   "source": [
    "print(classification_report(y_test, model.predict_classes(X_test)))"
   ]
  }
 ],
 "metadata": {
  "kernelspec": {
   "display_name": "Python 3",
   "language": "python",
   "name": "python3"
  },
  "language_info": {
   "codemirror_mode": {
    "name": "ipython",
    "version": 3
   },
   "file_extension": ".py",
   "mimetype": "text/x-python",
   "name": "python",
   "nbconvert_exporter": "python",
   "pygments_lexer": "ipython3",
   "version": "3.6.7"
  },
  "pycharm": {
   "stem_cell": {
    "cell_type": "raw",
    "metadata": {
     "collapsed": false
    },
    "source": []
   }
  }
 },
 "nbformat": 4,
 "nbformat_minor": 2
}
