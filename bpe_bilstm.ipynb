{
 "cells": [
  {
   "cell_type": "markdown",
   "metadata": {},
   "source": [
    "Some imports"
   ]
  },
  {
   "cell_type": "code",
   "execution_count": 1,
   "metadata": {},
   "outputs": [
    {
     "name": "stderr",
     "output_type": "stream",
     "text": [
      "[nltk_data] Downloading package punkt to /home/rdalex/nltk_data...\n",
      "[nltk_data]   Package punkt is already up-to-date!\n",
      "[nltk_data] Downloading package stopwords to /home/rdalex/nltk_data...\n",
      "[nltk_data]   Package stopwords is already up-to-date!\n",
      "[nltk_data] Downloading package perluniprops to\n",
      "[nltk_data]     /home/rdalex/nltk_data...\n",
      "[nltk_data]   Package perluniprops is already up-to-date!\n",
      "[nltk_data] Downloading package nonbreaking_prefixes to\n",
      "[nltk_data]     /home/rdalex/nltk_data...\n",
      "[nltk_data]   Package nonbreaking_prefixes is already up-to-date!\n",
      "Using TensorFlow backend.\n"
     ]
    }
   ],
   "source": [
    "from deeppavlov.models.embedders.elmo_embedder import ELMoEmbedder\n",
    "import pandas as pd\n",
    "import re\n",
    "import pandas as pd\n",
    "import numpy as np\n",
    "from sklearn.model_selection import train_test_split\n",
    "import matplotlib.pyplot as plt\n",
    "from sklearn.metrics import classification_report\n",
    "from bpemb import BPEmb\n",
    "\n",
    "from keras.preprocessing import sequence\n",
    "from keras.models import Sequential\n",
    "from keras.layers import Dense, Dropout, LSTM, Bidirectional\n",
    "from keras.callbacks import ModelCheckpoint\n",
    "from keras import backend as K\n",
    "\n",
    "%matplotlib inline"
   ]
  },
  {
   "cell_type": "markdown",
   "metadata": {},
   "source": [
    "Load the data"
   ]
  },
  {
   "cell_type": "code",
   "execution_count": 2,
   "metadata": {},
   "outputs": [
    {
     "data": {
      "text/html": [
       "<div>\n",
       "<style scoped>\n",
       "    .dataframe tbody tr th:only-of-type {\n",
       "        vertical-align: middle;\n",
       "    }\n",
       "\n",
       "    .dataframe tbody tr th {\n",
       "        vertical-align: top;\n",
       "    }\n",
       "\n",
       "    .dataframe thead th {\n",
       "        text-align: right;\n",
       "    }\n",
       "</style>\n",
       "<table border=\"1\" class=\"dataframe\">\n",
       "  <thead>\n",
       "    <tr style=\"text-align: right;\">\n",
       "      <th></th>\n",
       "      <th>text</th>\n",
       "      <th>class</th>\n",
       "    </tr>\n",
       "  </thead>\n",
       "  <tbody>\n",
       "    <tr>\n",
       "      <th>0</th>\n",
       "      <td>Договорился с пацаном катнуть на мотоциклах, к...</td>\n",
       "      <td>1</td>\n",
       "    </tr>\n",
       "    <tr>\n",
       "      <th>1</th>\n",
       "      <td>Ты цел?))))))) \"@leo_about_leo: Боги, кто бы м...</td>\n",
       "      <td>1</td>\n",
       "    </tr>\n",
       "    <tr>\n",
       "      <th>2</th>\n",
       "      <td>Наконец то я дома! Закончился рабочий день:) Д...</td>\n",
       "      <td>1</td>\n",
       "    </tr>\n",
       "    <tr>\n",
       "      <th>3</th>\n",
       "      <td>Суджу опять Новый год не дома встретят :(\\nНО ...</td>\n",
       "      <td>0</td>\n",
       "    </tr>\n",
       "    <tr>\n",
       "      <th>4</th>\n",
       "      <td>Муж жене: -Какого тёща приежает? -Каого что, Ч...</td>\n",
       "      <td>0</td>\n",
       "    </tr>\n",
       "  </tbody>\n",
       "</table>\n",
       "</div>"
      ],
      "text/plain": [
       "                                                text  class\n",
       "0  Договорился с пацаном катнуть на мотоциклах, к...      1\n",
       "1  Ты цел?))))))) \"@leo_about_leo: Боги, кто бы м...      1\n",
       "2  Наконец то я дома! Закончился рабочий день:) Д...      1\n",
       "3  Суджу опять Новый год не дома встретят :(\\nНО ...      0\n",
       "4  Муж жене: -Какого тёща приежает? -Каого что, Ч...      0"
      ]
     },
     "execution_count": 2,
     "metadata": {},
     "output_type": "execute_result"
    }
   ],
   "source": [
    "negative = pd.read_csv('data/negative.csv', header=None, sep=';', usecols=[3])\n",
    "negative['class'] = 0\n",
    "positive = pd.read_csv('data/positive.csv', header=None, sep=';', usecols=[3])\n",
    "positive['class'] = 1\n",
    "df = pd.concat([negative, positive], ignore_index=True, copy=False)\n",
    "df = df.sample(frac=1).reset_index(drop=True)\n",
    "df.rename(columns={3: 'text'}, inplace=True)\n",
    "df.head(n=5)"
   ]
  },
  {
   "cell_type": "markdown",
   "metadata": {},
   "source": [
    "Preprocess sentences"
   ]
  },
  {
   "cell_type": "code",
   "execution_count": 3,
   "metadata": {},
   "outputs": [],
   "source": [
    "def preprocess_text(text):\n",
    "    # Lower text\n",
    "    text = text.lower()\n",
    "    # Remove URLs\n",
    "    text = re.sub(r\"http\\S+\", \"\", text)\n",
    "    # Remove @ mentions\n",
    "    text = re.sub(r\"@\\S+\", \"\", text)\n",
    "    # Remove hashtags\n",
    "    text = re.sub(r\"#\\S+\", \"\", text)\n",
    "    # Remove rt (retweets)\n",
    "    text = re.sub(\"rt\", \"\", text)\n",
    "    # Remove unneeded symbols\n",
    "    text = re.sub(r\"[/~/`/@/#/$/%/&/-/_/+/,/.]\", \"\", text)\n",
    "    # Remove extra spaces\n",
    "    text = re.sub(\" +\", ' ', text)\n",
    "    \n",
    "    return text"
   ]
  },
  {
   "cell_type": "code",
   "execution_count": 4,
   "metadata": {},
   "outputs": [
    {
     "data": {
      "text/html": [
       "<div>\n",
       "<style scoped>\n",
       "    .dataframe tbody tr th:only-of-type {\n",
       "        vertical-align: middle;\n",
       "    }\n",
       "\n",
       "    .dataframe tbody tr th {\n",
       "        vertical-align: top;\n",
       "    }\n",
       "\n",
       "    .dataframe thead th {\n",
       "        text-align: right;\n",
       "    }\n",
       "</style>\n",
       "<table border=\"1\" class=\"dataframe\">\n",
       "  <thead>\n",
       "    <tr style=\"text-align: right;\">\n",
       "      <th></th>\n",
       "      <th>text</th>\n",
       "      <th>class</th>\n",
       "      <th>preprocessed_text</th>\n",
       "    </tr>\n",
       "  </thead>\n",
       "  <tbody>\n",
       "    <tr>\n",
       "      <th>0</th>\n",
       "      <td>Договорился с пацаном катнуть на мотоциклах, к...</td>\n",
       "      <td>1</td>\n",
       "      <td>договорился с пацаном катнуть на мотоциклах ко...</td>\n",
       "    </tr>\n",
       "    <tr>\n",
       "      <th>1</th>\n",
       "      <td>Ты цел?))))))) \"@leo_about_leo: Боги, кто бы м...</td>\n",
       "      <td>1</td>\n",
       "      <td>ты цел?))))))) \" боги кто бы мог подумать что ...</td>\n",
       "    </tr>\n",
       "    <tr>\n",
       "      <th>2</th>\n",
       "      <td>Наконец то я дома! Закончился рабочий день:) Д...</td>\n",
       "      <td>1</td>\n",
       "      <td>наконец то я дома! закончился рабочий день:) д...</td>\n",
       "    </tr>\n",
       "    <tr>\n",
       "      <th>3</th>\n",
       "      <td>Суджу опять Новый год не дома встретят :(\\nНО ...</td>\n",
       "      <td>0</td>\n",
       "      <td>суджу опять новый год не дома встретят :(\\nно ...</td>\n",
       "    </tr>\n",
       "    <tr>\n",
       "      <th>4</th>\n",
       "      <td>Муж жене: -Какого тёща приежает? -Каого что, Ч...</td>\n",
       "      <td>0</td>\n",
       "      <td>муж жене: -какого тёща приежает? -каого что чи...</td>\n",
       "    </tr>\n",
       "  </tbody>\n",
       "</table>\n",
       "</div>"
      ],
      "text/plain": [
       "                                                text  class  \\\n",
       "0  Договорился с пацаном катнуть на мотоциклах, к...      1   \n",
       "1  Ты цел?))))))) \"@leo_about_leo: Боги, кто бы м...      1   \n",
       "2  Наконец то я дома! Закончился рабочий день:) Д...      1   \n",
       "3  Суджу опять Новый год не дома встретят :(\\nНО ...      0   \n",
       "4  Муж жене: -Какого тёща приежает? -Каого что, Ч...      0   \n",
       "\n",
       "                                   preprocessed_text  \n",
       "0  договорился с пацаном катнуть на мотоциклах ко...  \n",
       "1  ты цел?))))))) \" боги кто бы мог подумать что ...  \n",
       "2  наконец то я дома! закончился рабочий день:) д...  \n",
       "3  суджу опять новый год не дома встретят :(\\nно ...  \n",
       "4  муж жене: -какого тёща приежает? -каого что чи...  "
      ]
     },
     "execution_count": 4,
     "metadata": {},
     "output_type": "execute_result"
    }
   ],
   "source": [
    "df['preprocessed_text'] = df['text'].apply(lambda x: preprocess_text(x))\n",
    "df.head()"
   ]
  },
  {
   "cell_type": "markdown",
   "metadata": {},
   "source": [
    "Load BPE model"
   ]
  },
  {
   "cell_type": "code",
   "execution_count": 8,
   "metadata": {},
   "outputs": [
    {
     "name": "stdout",
     "output_type": "stream",
     "text": [
      "BPEmb fallback: ru from vocab size 30000 to 200000\n",
      "['▁привет', ',', '▁ну', '▁как', '▁ты', '▁там', '▁по', 'жива', 'ешь', '?', '▁:', ')', '▁слышал', ',', '▁что', '▁у', '▁тебя', '▁были', '▁недавно', '▁серьёзные', '▁проблемы']\n"
     ]
    }
   ],
   "source": [
    "bpe = BPEmb(lang='ru', vs=30000)\n",
    "print(bpe.encode('Привет, ну как ты там поживаешь? :) Слышал, что у тебя были недавно серьёзные проблемы'))"
   ]
  },
  {
   "cell_type": "markdown",
   "metadata": {},
   "source": [
    "Translate tokenized text to indices in embedding dictionary"
   ]
  },
  {
   "cell_type": "code",
   "execution_count": 9,
   "metadata": {},
   "outputs": [],
   "source": [
    "def text_data_to_tokens(texts):\n",
    "    res = []\n",
    "    for txt in texts:\n",
    "        tokenized_txt = bpe.encode(txt)\n",
    "        replaced_by_num = [bpe.emb.vocab[word].index for word in tokenized_txt if word in bpe.emb.vocab]\n",
    "        res.append(replaced_by_num)\n",
    "    return res"
   ]
  },
  {
   "cell_type": "code",
   "execution_count": 11,
   "metadata": {},
   "outputs": [
    {
     "name": "stdout",
     "output_type": "stream",
     "text": [
      "[[68777, 6, 80907, 206, 23579, 7094, 35, 116017, 1097, 53, 2888, 114229, 199947, 34878], [1032, 161239, 9948, 11211, 11211, 11211, 1318, 11380, 3492, 96, 4604, 82912, 219, 8628, 3, 1318, 78121, 24147, 199974, 8946, 18111, 2457, 1913, 59585]]\n"
     ]
    }
   ],
   "source": [
    "X = text_data_to_tokens(list(df['preprocessed_text']))\n",
    "print(X[:2])"
   ]
  },
  {
   "cell_type": "markdown",
   "metadata": {},
   "source": [
    "Train/test split"
   ]
  },
  {
   "cell_type": "code",
   "execution_count": 12,
   "metadata": {},
   "outputs": [],
   "source": [
    "data_train, data_test, label_train, label_test = train_test_split(\n",
    "    X,\n",
    "    df['class'],\n",
    "    test_size=0.2,\n",
    "    shuffle=True,\n",
    "    random_state=42\n",
    ")"
   ]
  },
  {
   "cell_type": "markdown",
   "metadata": {},
   "source": [
    "Longest sentence length"
   ]
  },
  {
   "cell_type": "code",
   "execution_count": 13,
   "metadata": {},
   "outputs": [
    {
     "data": {
      "text/plain": [
       "131"
      ]
     },
     "execution_count": 13,
     "metadata": {},
     "output_type": "execute_result"
    }
   ],
   "source": [
    "max([len(x) for x in X])"
   ]
  },
  {
   "cell_type": "markdown",
   "metadata": {},
   "source": [
    "Embedding layer params"
   ]
  },
  {
   "cell_type": "code",
   "execution_count": 14,
   "metadata": {},
   "outputs": [
    {
     "name": "stdout",
     "output_type": "stream",
     "text": [
      "WARNING:tensorflow:From /home/rdalex/venv3/lib/python3.6/site-packages/keras/backend/tensorflow_backend.py:74: The name tf.get_default_graph is deprecated. Please use tf.compat.v1.get_default_graph instead.\n",
      "\n"
     ]
    },
    {
     "data": {
      "text/plain": [
       "{'name': 'embedding_1',\n",
       " 'trainable': False,\n",
       " 'batch_input_shape': (None, None),\n",
       " 'dtype': 'float32',\n",
       " 'input_dim': 200000,\n",
       " 'output_dim': 100,\n",
       " 'embeddings_initializer': {'class_name': 'RandomUniform',\n",
       "  'config': {'minval': -0.05, 'maxval': 0.05, 'seed': None}},\n",
       " 'embeddings_regularizer': None,\n",
       " 'activity_regularizer': None,\n",
       " 'embeddings_constraint': None,\n",
       " 'mask_zero': False,\n",
       " 'input_length': None}"
      ]
     },
     "execution_count": 14,
     "metadata": {},
     "output_type": "execute_result"
    }
   ],
   "source": [
    "bpe.emb.get_keras_embedding().get_config()"
   ]
  },
  {
   "cell_type": "code",
   "execution_count": 15,
   "metadata": {},
   "outputs": [],
   "source": [
    "def precision(y_true, y_pred):\n",
    "    \"\"\"Precision metric.\n",
    "\n",
    "    Only computes a batch-wise average of precision.\n",
    "\n",
    "    Computes the precision, a metric for multi-label classification of\n",
    "    how many selected items are relevant.\n",
    "    \"\"\"\n",
    "    true_positives = K.sum(K.round(K.clip(y_true * y_pred, 0, 1)))\n",
    "    predicted_positives = K.sum(K.round(K.clip(y_pred, 0, 1)))\n",
    "    precision = true_positives / (predicted_positives + K.epsilon())\n",
    "    return precision\n",
    "\n",
    "\n",
    "def recall(y_true, y_pred):\n",
    "    \"\"\"Recall metric.\n",
    "\n",
    "    Only computes a batch-wise average of recall.\n",
    "\n",
    "    Computes the recall, a metric for multi-label classification of\n",
    "    how many relevant items are selected.\n",
    "    \"\"\"\n",
    "    true_positives = K.sum(K.round(K.clip(y_true * y_pred, 0, 1)))\n",
    "    possible_positives = K.sum(K.round(K.clip(y_true, 0, 1)))\n",
    "    recall = true_positives / (possible_positives + K.epsilon())\n",
    "    return recall\n",
    "\n",
    "\n",
    "def f1(y_true, y_pred):\n",
    "    def recall(y_true, y_pred):\n",
    "        \"\"\"Recall metric.\n",
    "\n",
    "        Only computes a batch-wise average of recall.\n",
    "\n",
    "        Computes the recall, a metric for multi-label classification of\n",
    "        how many relevant items are selected.\n",
    "        \"\"\"\n",
    "        true_positives = K.sum(K.round(K.clip(y_true * y_pred, 0, 1)))\n",
    "        possible_positives = K.sum(K.round(K.clip(y_true, 0, 1)))\n",
    "        recall = true_positives / (possible_positives + K.epsilon())\n",
    "        return recall\n",
    "\n",
    "    def precision(y_true, y_pred):\n",
    "        \"\"\"Precision metric.\n",
    "\n",
    "        Only computes a batch-wise average of precision.\n",
    "\n",
    "        Computes the precision, a metric for multi-label classification of\n",
    "        how many selected items are relevant.\n",
    "        \"\"\"\n",
    "        true_positives = K.sum(K.round(K.clip(y_true * y_pred, 0, 1)))\n",
    "        predicted_positives = K.sum(K.round(K.clip(y_pred, 0, 1)))\n",
    "        precision = true_positives / (predicted_positives + K.epsilon())\n",
    "        return precision\n",
    "\n",
    "    precision = precision(y_true, y_pred)\n",
    "    recall = recall(y_true, y_pred)\n",
    "    return 2 * ((precision * recall) / (precision + recall + K.epsilon()))"
   ]
  },
  {
   "cell_type": "markdown",
   "metadata": {},
   "source": [
    "Training"
   ]
  },
  {
   "cell_type": "code",
   "execution_count": 16,
   "metadata": {},
   "outputs": [
    {
     "name": "stdout",
     "output_type": "stream",
     "text": [
      "X_train shape: (181467, 150)\n",
      "X_test shape: (45367, 150)\n",
      "WARNING:tensorflow:From /home/rdalex/venv3/lib/python3.6/site-packages/keras/backend/tensorflow_backend.py:517: The name tf.placeholder is deprecated. Please use tf.compat.v1.placeholder instead.\n",
      "\n",
      "WARNING:tensorflow:From /home/rdalex/venv3/lib/python3.6/site-packages/keras/backend/tensorflow_backend.py:4138: The name tf.random_uniform is deprecated. Please use tf.random.uniform instead.\n",
      "\n",
      "WARNING:tensorflow:From /home/rdalex/venv3/lib/python3.6/site-packages/keras/backend/tensorflow_backend.py:174: The name tf.get_default_session is deprecated. Please use tf.compat.v1.get_default_session instead.\n",
      "\n",
      "WARNING:tensorflow:From /home/rdalex/venv3/lib/python3.6/site-packages/keras/backend/tensorflow_backend.py:181: The name tf.ConfigProto is deprecated. Please use tf.compat.v1.ConfigProto instead.\n",
      "\n",
      "WARNING:tensorflow:From /home/rdalex/venv3/lib/python3.6/site-packages/keras/backend/tensorflow_backend.py:186: The name tf.Session is deprecated. Please use tf.compat.v1.Session instead.\n",
      "\n",
      "WARNING:tensorflow:From /home/rdalex/venv3/lib/python3.6/site-packages/keras/backend/tensorflow_backend.py:190: The name tf.global_variables is deprecated. Please use tf.compat.v1.global_variables instead.\n",
      "\n",
      "WARNING:tensorflow:From /home/rdalex/venv3/lib/python3.6/site-packages/keras/backend/tensorflow_backend.py:199: The name tf.is_variable_initialized is deprecated. Please use tf.compat.v1.is_variable_initialized instead.\n",
      "\n",
      "WARNING:tensorflow:From /home/rdalex/venv3/lib/python3.6/site-packages/keras/backend/tensorflow_backend.py:206: The name tf.variables_initializer is deprecated. Please use tf.compat.v1.variables_initializer instead.\n",
      "\n",
      "WARNING:tensorflow:From /home/rdalex/venv3/lib/python3.6/site-packages/keras/backend/tensorflow_backend.py:133: The name tf.placeholder_with_default is deprecated. Please use tf.compat.v1.placeholder_with_default instead.\n",
      "\n",
      "WARNING:tensorflow:From /home/rdalex/venv3/lib/python3.6/site-packages/keras/backend/tensorflow_backend.py:3445: calling dropout (from tensorflow.python.ops.nn_ops) with keep_prob is deprecated and will be removed in a future version.\n",
      "Instructions for updating:\n",
      "Please use `rate` instead of `keep_prob`. Rate should be set to `rate = 1 - keep_prob`.\n",
      "WARNING:tensorflow:From /home/rdalex/venv3/lib/python3.6/site-packages/keras/optimizers.py:790: The name tf.train.Optimizer is deprecated. Please use tf.compat.v1.train.Optimizer instead.\n",
      "\n",
      "WARNING:tensorflow:From /home/rdalex/venv3/lib/python3.6/site-packages/keras/backend/tensorflow_backend.py:3376: The name tf.log is deprecated. Please use tf.math.log instead.\n",
      "\n",
      "WARNING:tensorflow:From /home/rdalex/venv3/lib/python3.6/site-packages/tensorflow_core/python/ops/nn_impl.py:183: where (from tensorflow.python.ops.array_ops) is deprecated and will be removed in a future version.\n",
      "Instructions for updating:\n",
      "Use tf.where in 2.0, which has the same broadcast rule as np.where\n",
      "WARNING:tensorflow:From /home/rdalex/venv3/lib/python3.6/site-packages/keras/backend/tensorflow_backend.py:986: The name tf.assign_add is deprecated. Please use tf.compat.v1.assign_add instead.\n",
      "\n",
      "WARNING:tensorflow:From /home/rdalex/venv3/lib/python3.6/site-packages/keras/backend/tensorflow_backend.py:973: The name tf.assign is deprecated. Please use tf.compat.v1.assign instead.\n",
      "\n",
      "Train on 163320 samples, validate on 18147 samples\n",
      "Epoch 1/30\n",
      "163320/163320 [==============================] - 226s 1ms/step - loss: 0.1582 - precision: 0.9224 - recall: 0.9596 - f1: 0.9389 - val_loss: 0.0671 - val_precision: 0.9705 - val_recall: 0.9866 - val_f1: 0.9784\n",
      "Epoch 2/30\n",
      "163320/163320 [==============================] - 224s 1ms/step - loss: 0.0496 - precision: 0.9784 - recall: 0.9885 - f1: 0.9833 - val_loss: 0.0346 - val_precision: 0.9874 - val_recall: 0.9919 - val_f1: 0.9896\n",
      "Epoch 3/30\n",
      "163320/163320 [==============================] - 224s 1ms/step - loss: 0.0276 - precision: 0.9901 - recall: 0.9923 - f1: 0.9911 - val_loss: 0.0218 - val_precision: 0.9930 - val_recall: 0.9940 - val_f1: 0.9935\n",
      "Epoch 4/30\n",
      "163320/163320 [==============================] - 223s 1ms/step - loss: 0.0198 - precision: 0.9929 - recall: 0.9938 - f1: 0.9933 - val_loss: 0.0178 - val_precision: 0.9958 - val_recall: 0.9940 - val_f1: 0.9949\n",
      "Epoch 5/30\n",
      "163320/163320 [==============================] - 223s 1ms/step - loss: 0.0155 - precision: 0.9950 - recall: 0.9953 - f1: 0.9951 - val_loss: 0.0153 - val_precision: 0.9961 - val_recall: 0.9951 - val_f1: 0.9956\n",
      "Epoch 6/30\n",
      "163320/163320 [==============================] - 223s 1ms/step - loss: 0.0131 - precision: 0.9960 - recall: 0.9958 - f1: 0.9959 - val_loss: 0.0142 - val_precision: 0.9948 - val_recall: 0.9969 - val_f1: 0.9958\n",
      "Epoch 7/30\n",
      "163320/163320 [==============================] - 223s 1ms/step - loss: 0.0115 - precision: 0.9968 - recall: 0.9964 - f1: 0.9966 - val_loss: 0.0125 - val_precision: 0.9973 - val_recall: 0.9961 - val_f1: 0.9967\n",
      "Epoch 8/30\n",
      "163320/163320 [==============================] - 223s 1ms/step - loss: 0.0106 - precision: 0.9968 - recall: 0.9965 - f1: 0.9966 - val_loss: 0.0121 - val_precision: 0.9964 - val_recall: 0.9964 - val_f1: 0.9964\n",
      "Epoch 9/30\n",
      "163320/163320 [==============================] - 223s 1ms/step - loss: 0.0095 - precision: 0.9973 - recall: 0.9966 - f1: 0.9969 - val_loss: 0.0115 - val_precision: 0.9980 - val_recall: 0.9957 - val_f1: 0.9968\n",
      "Epoch 10/30\n",
      "163320/163320 [==============================] - 223s 1ms/step - loss: 0.0087 - precision: 0.9976 - recall: 0.9969 - f1: 0.9972 - val_loss: 0.0113 - val_precision: 0.9971 - val_recall: 0.9969 - val_f1: 0.9970\n",
      "Epoch 11/30\n",
      "163320/163320 [==============================] - 223s 1ms/step - loss: 0.0082 - precision: 0.9977 - recall: 0.9971 - f1: 0.9974 - val_loss: 0.0152 - val_precision: 0.9984 - val_recall: 0.9932 - val_f1: 0.9958\n",
      "Epoch 12/30\n",
      "163320/163320 [==============================] - 223s 1ms/step - loss: 0.0074 - precision: 0.9981 - recall: 0.9972 - f1: 0.9977 - val_loss: 0.0117 - val_precision: 0.9981 - val_recall: 0.9964 - val_f1: 0.9973\n",
      "Epoch 13/30\n",
      "163320/163320 [==============================] - 223s 1ms/step - loss: 0.0070 - precision: 0.9981 - recall: 0.9972 - f1: 0.9977 - val_loss: 0.0108 - val_precision: 0.9966 - val_recall: 0.9972 - val_f1: 0.9969\n",
      "Epoch 14/30\n",
      "163320/163320 [==============================] - 223s 1ms/step - loss: 0.0065 - precision: 0.9981 - recall: 0.9975 - f1: 0.9978 - val_loss: 0.0107 - val_precision: 0.9979 - val_recall: 0.9961 - val_f1: 0.9970\n",
      "Epoch 15/30\n",
      "163320/163320 [==============================] - 223s 1ms/step - loss: 0.0060 - precision: 0.9984 - recall: 0.9977 - f1: 0.9981 - val_loss: 0.0104 - val_precision: 0.9982 - val_recall: 0.9965 - val_f1: 0.9974\n",
      "Epoch 16/30\n",
      "163320/163320 [==============================] - 223s 1ms/step - loss: 0.0082 - precision: 0.9986 - recall: 0.9969 - f1: 0.9976 - val_loss: 0.0098 - val_precision: 0.9978 - val_recall: 0.9967 - val_f1: 0.9972\n",
      "Epoch 17/30\n",
      "163320/163320 [==============================] - 223s 1ms/step - loss: 0.0054 - precision: 0.9986 - recall: 0.9978 - f1: 0.9982 - val_loss: 0.0101 - val_precision: 0.9979 - val_recall: 0.9968 - val_f1: 0.9973\n",
      "Epoch 18/30\n",
      "163320/163320 [==============================] - 223s 1ms/step - loss: 0.0049 - precision: 0.9988 - recall: 0.9981 - f1: 0.9984 - val_loss: 0.0103 - val_precision: 0.9978 - val_recall: 0.9967 - val_f1: 0.9973\n",
      "Epoch 19/30\n",
      "163320/163320 [==============================] - 223s 1ms/step - loss: 0.0047 - precision: 0.9988 - recall: 0.9980 - f1: 0.9984 - val_loss: 0.0105 - val_precision: 0.9980 - val_recall: 0.9965 - val_f1: 0.9972\n",
      "Epoch 20/30\n",
      "163320/163320 [==============================] - 223s 1ms/step - loss: 0.0043 - precision: 0.9990 - recall: 0.9983 - f1: 0.9986 - val_loss: 0.0109 - val_precision: 0.9975 - val_recall: 0.9966 - val_f1: 0.9970\n",
      "Epoch 21/30\n",
      "163320/163320 [==============================] - 222s 1ms/step - loss: 0.0044 - precision: 0.9989 - recall: 0.9982 - f1: 0.9985 - val_loss: 0.0119 - val_precision: 0.9975 - val_recall: 0.9970 - val_f1: 0.9972\n",
      "Epoch 22/30\n",
      "163320/163320 [==============================] - 223s 1ms/step - loss: 0.0038 - precision: 0.9991 - recall: 0.9984 - f1: 0.9987 - val_loss: 0.0113 - val_precision: 0.9979 - val_recall: 0.9966 - val_f1: 0.9973\n"
     ]
    },
    {
     "name": "stdout",
     "output_type": "stream",
     "text": [
      "Epoch 23/30\n",
      "163320/163320 [==============================] - 223s 1ms/step - loss: 0.0037 - precision: 0.9992 - recall: 0.9985 - f1: 0.9988 - val_loss: 0.0116 - val_precision: 0.9980 - val_recall: 0.9964 - val_f1: 0.9972\n",
      "Epoch 24/30\n",
      "163320/163320 [==============================] - 223s 1ms/step - loss: 0.0034 - precision: 0.9992 - recall: 0.9988 - f1: 0.9990 - val_loss: 0.0117 - val_precision: 0.9974 - val_recall: 0.9970 - val_f1: 0.9972\n",
      "Epoch 25/30\n",
      "163320/163320 [==============================] - 223s 1ms/step - loss: 0.0031 - precision: 0.9992 - recall: 0.9988 - f1: 0.9990 - val_loss: 0.0135 - val_precision: 0.9960 - val_recall: 0.9974 - val_f1: 0.9967\n",
      "Epoch 26/30\n",
      "163320/163320 [==============================] - 223s 1ms/step - loss: 0.0031 - precision: 0.9992 - recall: 0.9988 - f1: 0.9990 - val_loss: 0.0122 - val_precision: 0.9977 - val_recall: 0.9967 - val_f1: 0.9972\n",
      "Epoch 27/30\n",
      "163320/163320 [==============================] - 223s 1ms/step - loss: 0.0028 - precision: 0.9993 - recall: 0.9989 - f1: 0.9991 - val_loss: 0.0118 - val_precision: 0.9975 - val_recall: 0.9971 - val_f1: 0.9973\n",
      "Epoch 28/30\n",
      "163320/163320 [==============================] - 223s 1ms/step - loss: 0.0027 - precision: 0.9994 - recall: 0.9989 - f1: 0.9991 - val_loss: 0.0116 - val_precision: 0.9978 - val_recall: 0.9967 - val_f1: 0.9973\n",
      "Epoch 29/30\n",
      "163320/163320 [==============================] - 223s 1ms/step - loss: 0.0023 - precision: 0.9994 - recall: 0.9990 - f1: 0.9992 - val_loss: 0.0128 - val_precision: 0.9980 - val_recall: 0.9968 - val_f1: 0.9974\n",
      "Epoch 30/30\n",
      "163320/163320 [==============================] - 223s 1ms/step - loss: 0.0024 - precision: 0.9993 - recall: 0.9991 - f1: 0.9992 - val_loss: 0.0126 - val_precision: 0.9980 - val_recall: 0.9965 - val_f1: 0.9973\n"
     ]
    }
   ],
   "source": [
    "maxlen = 150\n",
    "batch_size = 256\n",
    "epochs = 30\n",
    "\n",
    "X_train = sequence.pad_sequences(data_train, maxlen=maxlen)\n",
    "X_test = sequence.pad_sequences(data_test, maxlen=maxlen)\n",
    "print('X_train shape:', X_train.shape)\n",
    "print('X_test shape:', X_test.shape)\n",
    "y_train = np.array(label_train)\n",
    "y_test = np.array(label_test)\n",
    "\n",
    "model = Sequential()\n",
    "model.add(bpe.emb.get_keras_embedding())\n",
    "model.add(Bidirectional(LSTM(150)))\n",
    "model.add(Dropout(0.3))\n",
    "model.add(Dense(1, activation='sigmoid'))\n",
    "\n",
    "callbacks = [ModelCheckpoint(filepath='trained_models/bpe_bilstm.h5', \n",
    "                             monitor='val_loss', \n",
    "                             save_best_only=True)\n",
    "            ]\n",
    "model.compile('adadelta', 'binary_crossentropy', metrics=[precision, recall, f1])\n",
    "history = model.fit(\n",
    "    X_train, \n",
    "    y_train, \n",
    "    batch_size=batch_size, \n",
    "    epochs=epochs, \n",
    "    validation_split=0.1, \n",
    "    callbacks=callbacks\n",
    ")"
   ]
  },
  {
   "cell_type": "code",
   "execution_count": 17,
   "metadata": {},
   "outputs": [
    {
     "name": "stdout",
     "output_type": "stream",
     "text": [
      "_________________________________________________________________\n",
      "Layer (type)                 Output Shape              Param #   \n",
      "=================================================================\n",
      "embedding_2 (Embedding)      (None, None, 100)         20000000  \n",
      "_________________________________________________________________\n",
      "bidirectional_1 (Bidirection (None, 300)               301200    \n",
      "_________________________________________________________________\n",
      "dropout_1 (Dropout)          (None, 300)               0         \n",
      "_________________________________________________________________\n",
      "dense_1 (Dense)              (None, 1)                 301       \n",
      "=================================================================\n",
      "Total params: 20,301,501\n",
      "Trainable params: 301,501\n",
      "Non-trainable params: 20,000,000\n",
      "_________________________________________________________________\n"
     ]
    }
   ],
   "source": [
    "model.summary()"
   ]
  },
  {
   "cell_type": "code",
   "execution_count": 18,
   "metadata": {},
   "outputs": [
    {
     "data": {
      "image/png": "[encoded data removed]",
      "text/plain": [
       "<Figure size 432x288 with 1 Axes>"
      ]
     },
     "metadata": {
      "needs_background": "light"
     },
     "output_type": "display_data"
    }
   ],
   "source": [
    "plt.plot(history.history['f1'])\n",
    "plt.plot(history.history['val_f1'])\n",
    "plt.title('Model F1')\n",
    "plt.ylabel('F1')\n",
    "plt.xlabel('Epoch')\n",
    "plt.legend(['Train', 'Validation'], loc='upper left')\n",
    "plt.show()"
   ]
  },
  {
   "cell_type": "code",
   "execution_count": 19,
   "metadata": {},
   "outputs": [
    {
     "data": {
      "image/png": "[encoded data removed]",
      "text/plain": [
       "<Figure size 432x288 with 1 Axes>"
      ]
     },
     "metadata": {
      "needs_background": "light"
     },
     "output_type": "display_data"
    }
   ],
   "source": [
    "plt.plot(history.history['precision'])\n",
    "plt.plot(history.history['val_precision'])\n",
    "plt.title('Model precision')\n",
    "plt.ylabel('Precision')\n",
    "plt.xlabel('Epoch')\n",
    "plt.legend(['Train', 'Validation'], loc='upper left')\n",
    "plt.show()"
   ]
  },
  {
   "cell_type": "code",
   "execution_count": 20,
   "metadata": {},
   "outputs": [
    {
     "data": {
      "image/png": "[encoded data removed]",
      "text/plain": [
       "<Figure size 432x288 with 1 Axes>"
      ]
     },
     "metadata": {
      "needs_background": "light"
     },
     "output_type": "display_data"
    }
   ],
   "source": [
    "plt.plot(history.history['recall'])\n",
    "plt.plot(history.history['val_recall'])\n",
    "plt.title('Model recall')\n",
    "plt.ylabel('Recall')\n",
    "plt.xlabel('Epoch')\n",
    "plt.legend(['Train', 'Validation'], loc='upper left')\n",
    "plt.show()"
   ]
  },
  {
   "cell_type": "code",
   "execution_count": 21,
   "metadata": {},
   "outputs": [
    {
     "data": {
      "image/png": "[encoded data removed]",
      "text/plain": [
       "<Figure size 432x288 with 1 Axes>"
      ]
     },
     "metadata": {
      "needs_background": "light"
     },
     "output_type": "display_data"
    }
   ],
   "source": [
    "plt.plot(history.history['loss'])\n",
    "plt.plot(history.history['val_loss'])\n",
    "plt.title('Model loss')\n",
    "plt.ylabel('Loss')\n",
    "plt.xlabel('Epoch')\n",
    "plt.legend(['Train', 'Validation'], loc='upper right')\n",
    "plt.show()"
   ]
  },
  {
   "cell_type": "code",
   "execution_count": 22,
   "metadata": {},
   "outputs": [
    {
     "name": "stdout",
     "output_type": "stream",
     "text": [
      "              precision    recall  f1-score   support\n",
      "\n",
      "           0       1.00      1.00      1.00     22301\n",
      "           1       1.00      1.00      1.00     23066\n",
      "\n",
      "    accuracy                           1.00     45367\n",
      "   macro avg       1.00      1.00      1.00     45367\n",
      "weighted avg       1.00      1.00      1.00     45367\n",
      "\n"
     ]
    }
   ],
   "source": [
    "print(classification_report(y_test, model.predict_classes(X_test)))"
   ]
  },
  {
   "cell_type": "code",
   "execution_count": null,
   "metadata": {},
   "outputs": [],
   "source": []
  }
 ],
 "metadata": {
  "kernelspec": {
   "display_name": "Python 3",
   "language": "python",
   "name": "python3"
  },
  "language_info": {
   "codemirror_mode": {
    "name": "ipython",
    "version": 3
   },
   "file_extension": ".py",
   "mimetype": "text/x-python",
   "name": "python",
   "nbconvert_exporter": "python",
   "pygments_lexer": "ipython3",
   "version": "3.6.7"
  }
 },
 "nbformat": 4,
 "nbformat_minor": 4
}
