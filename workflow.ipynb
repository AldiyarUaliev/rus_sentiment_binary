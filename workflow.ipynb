{
 "cells": [
  {
   "cell_type": "code",
   "execution_count": 1,
   "metadata": {},
   "outputs": [
    {
     "name": "stderr",
     "output_type": "stream",
     "text": [
      "Using TensorFlow backend.\n"
     ]
    }
   ],
   "source": [
    "import re\n",
    "from nltk.tokenize.casual import TweetTokenizer\n",
    "from gensim.models import KeyedVectors\n",
    "import pandas as pd\n",
    "import numpy as np\n",
    "from sklearn.model_selection import train_test_split\n",
    "import matplotlib.pyplot as plt\n",
    "\n",
    "from keras.preprocessing import sequence\n",
    "from keras.models import Sequential\n",
    "from keras.layers import Dense, Dropout, Embedding, LSTM, Bidirectional\n",
    "from keras.callbacks import ModelCheckpoint\n",
    "from keras import backend as K\n",
    "\n",
    "%matplotlib inline"
   ]
  },
  {
   "cell_type": "markdown",
   "metadata": {},
   "source": [
    "Load words embeddings (FastText trained over VK posts)"
   ]
  },
  {
   "cell_type": "code",
   "execution_count": 2,
   "metadata": {},
   "outputs": [
    {
     "data": {
      "text/plain": [
       "[('котейко', 0.7458697557449341),\n",
       " ('Котейка', 0.7427492141723633),\n",
       " ('котейки', 0.6791476011276245),\n",
       " ('котейкой', 0.6727944612503052),\n",
       " ('кошак', 0.6622782945632935),\n",
       " ('котэ', 0.6595468521118164),\n",
       " ('совушка', 0.658632755279541),\n",
       " ('киса', 0.642015278339386),\n",
       " ('котейку', 0.633861243724823),\n",
       " ('собакадругчеловека', 0.6230987310409546)]"
      ]
     },
     "execution_count": 2,
     "metadata": {},
     "output_type": "execute_result"
    }
   ],
   "source": [
    "fasttext = KeyedVectors.load_word2vec_format('embeddings/fasttext_big_300d.vec')\n",
    "fasttext.most_similar('котейка')"
   ]
  },
  {
   "cell_type": "code",
   "execution_count": 3,
   "metadata": {},
   "outputs": [
    {
     "data": {
      "text/plain": [
       "[('cats', 0.8391395211219788),\n",
       " ('kitten', 0.8023779988288879),\n",
       " ('dog', 0.7982020378112793),\n",
       " ('kittens', 0.7829532623291016),\n",
       " ('pet', 0.7627919912338257),\n",
       " ('kitty', 0.7567681074142456),\n",
       " ('catsagram', 0.7563411593437195),\n",
       " ('catstagram', 0.75223708152771),\n",
       " ('petstagram', 0.7464101314544678),\n",
       " ('catsofinstagram', 0.7379685640335083)]"
      ]
     },
     "execution_count": 3,
     "metadata": {},
     "output_type": "execute_result"
    }
   ],
   "source": [
    "fasttext.most_similar('cat')"
   ]
  },
  {
   "cell_type": "markdown",
   "metadata": {},
   "source": [
    "Load tweets (https://study.mokoron.com/)"
   ]
  },
  {
   "cell_type": "code",
   "execution_count": 4,
   "metadata": {},
   "outputs": [
    {
     "data": {
      "text/html": [
       "<div>\n",
       "<style scoped>\n",
       "    .dataframe tbody tr th:only-of-type {\n",
       "        vertical-align: middle;\n",
       "    }\n",
       "\n",
       "    .dataframe tbody tr th {\n",
       "        vertical-align: top;\n",
       "    }\n",
       "\n",
       "    .dataframe thead th {\n",
       "        text-align: right;\n",
       "    }\n",
       "</style>\n",
       "<table border=\"1\" class=\"dataframe\">\n",
       "  <thead>\n",
       "    <tr style=\"text-align: right;\">\n",
       "      <th></th>\n",
       "      <th>text</th>\n",
       "      <th>class</th>\n",
       "    </tr>\n",
       "  </thead>\n",
       "  <tbody>\n",
       "    <tr>\n",
       "      <th>0</th>\n",
       "      <td>Я не верю.Завтра свободное воскресенье.Никуда не надо идти.Это рай,ребята :D</td>\n",
       "      <td>1</td>\n",
       "    </tr>\n",
       "    <tr>\n",
       "      <th>1</th>\n",
       "      <td>Устала... пора спать)\\nСпосибо Кате, Яне, Дашке,Владику, Юрке и Леше за прекрасные дни)</td>\n",
       "      <td>1</td>\n",
       "    </tr>\n",
       "    <tr>\n",
       "      <th>2</th>\n",
       "      <td>Очень рад, что успел к игре Гладбаха с Шальке. Жеребцы в этом сезоне радуют глаз)</td>\n",
       "      <td>1</td>\n",
       "    </tr>\n",
       "    <tr>\n",
       "      <th>3</th>\n",
       "      <td>дурацкое предчувствие...почему ты оказалось правдой?(</td>\n",
       "      <td>0</td>\n",
       "    </tr>\n",
       "    <tr>\n",
       "      <th>4</th>\n",
       "      <td>Понедельник, работа, бюджет, нет желания(((</td>\n",
       "      <td>0</td>\n",
       "    </tr>\n",
       "    <tr>\n",
       "      <th>5</th>\n",
       "      <td>Наконец-то снова на стадион.=) Что-то я волнуюсь...=)</td>\n",
       "      <td>1</td>\n",
       "    </tr>\n",
       "    <tr>\n",
       "      <th>6</th>\n",
       "      <td>@SugarVodonaeva а я смотрю на тебя на 1 канале :) Ален, ты не стала доказывать и рефлексировать? Абстрагировалась, кста, отличный выход.</td>\n",
       "      <td>1</td>\n",
       "    </tr>\n",
       "    <tr>\n",
       "      <th>7</th>\n",
       "      <td>Хотя,конечно,жалко ее.с другой стороны,она меня так бесит,что я удивляюсь,что это сделала не я)</td>\n",
       "      <td>1</td>\n",
       "    </tr>\n",
       "    <tr>\n",
       "      <th>8</th>\n",
       "      <td>http://t.co/oaEboCimfc Сегодня узнала, что могу садиться на шпагат...на мокром линолиуме...после душа((((</td>\n",
       "      <td>0</td>\n",
       "    </tr>\n",
       "    <tr>\n",
       "      <th>9</th>\n",
       "      <td>@Polsuperman16 моя вторая тройка в четверти за всю жизнь :( но я заслужила</td>\n",
       "      <td>0</td>\n",
       "    </tr>\n",
       "  </tbody>\n",
       "</table>\n",
       "</div>"
      ],
      "text/plain": [
       "                                                                                                                                       text  \\\n",
       "0  Я не верю.Завтра свободное воскресенье.Никуда не надо идти.Это рай,ребята :D                                                               \n",
       "1  Устала... пора спать)\\nСпосибо Кате, Яне, Дашке,Владику, Юрке и Леше за прекрасные дни)                                                    \n",
       "2  Очень рад, что успел к игре Гладбаха с Шальке. Жеребцы в этом сезоне радуют глаз)                                                          \n",
       "3  дурацкое предчувствие...почему ты оказалось правдой?(                                                                                      \n",
       "4  Понедельник, работа, бюджет, нет желания(((                                                                                                \n",
       "5  Наконец-то снова на стадион.=) Что-то я волнуюсь...=)                                                                                      \n",
       "6  @SugarVodonaeva а я смотрю на тебя на 1 канале :) Ален, ты не стала доказывать и рефлексировать? Абстрагировалась, кста, отличный выход.   \n",
       "7  Хотя,конечно,жалко ее.с другой стороны,она меня так бесит,что я удивляюсь,что это сделала не я)                                            \n",
       "8  http://t.co/oaEboCimfc Сегодня узнала, что могу садиться на шпагат...на мокром линолиуме...после душа((((                                  \n",
       "9  @Polsuperman16 моя вторая тройка в четверти за всю жизнь :( но я заслужила                                                                 \n",
       "\n",
       "   class  \n",
       "0  1      \n",
       "1  1      \n",
       "2  1      \n",
       "3  0      \n",
       "4  0      \n",
       "5  1      \n",
       "6  1      \n",
       "7  1      \n",
       "8  0      \n",
       "9  0      "
      ]
     },
     "execution_count": 4,
     "metadata": {},
     "output_type": "execute_result"
    }
   ],
   "source": [
    "pd.set_option('max_colwidth', -1)\n",
    "\n",
    "negative = pd.read_csv('datasets/negative.csv', header=None, sep=';', usecols=[3])\n",
    "negative['class'] = 0\n",
    "positive = pd.read_csv('datasets/positive.csv', header=None, sep=';', usecols=[3])\n",
    "positive['class'] = 1\n",
    "df = pd.concat([negative, positive], ignore_index=True, copy=False)\n",
    "df = df.sample(frac=1).reset_index(drop=True)\n",
    "df.rename(columns={3: 'text'}, inplace=True)\n",
    "df.head(n=10)"
   ]
  },
  {
   "cell_type": "code",
   "execution_count": 5,
   "metadata": {},
   "outputs": [
    {
     "data": {
      "text/plain": [
       "<matplotlib.axes._subplots.AxesSubplot at 0x7f44b2dcf278>"
      ]
     },
     "execution_count": 5,
     "metadata": {},
     "output_type": "execute_result"
    },
    {
     "data": {
      "image/png": "[encoded data removed]",
      "text/plain": [
       "<Figure size 432x288 with 1 Axes>"
      ]
     },
     "metadata": {
      "needs_background": "light"
     },
     "output_type": "display_data"
    }
   ],
   "source": [
    "df['class'].hist()"
   ]
  },
  {
   "cell_type": "code",
   "execution_count": 6,
   "metadata": {},
   "outputs": [
    {
     "data": {
      "text/plain": [
       "1    114911\n",
       "0    111923\n",
       "Name: class, dtype: int64"
      ]
     },
     "execution_count": 6,
     "metadata": {},
     "output_type": "execute_result"
    }
   ],
   "source": [
    "df['class'].value_counts()"
   ]
  },
  {
   "cell_type": "code",
   "execution_count": 7,
   "metadata": {},
   "outputs": [],
   "source": [
    "def preprocess_text(text):\n",
    "    # Lower text\n",
    "    text = text.lower()\n",
    "    # Remove URLs\n",
    "    text = re.sub(r\"http\\S+\", \"\", text)\n",
    "    # Remove @ mentions\n",
    "    text = re.sub(r\"@\\S+\", \"\", text)\n",
    "    # Remove hashtags\n",
    "    text = re.sub(r\"#\\S+\", \"\", text)\n",
    "    # Remove rt (retweets)\n",
    "    text = re.sub(\"rt\", \"\", text)\n",
    "    # Remove unneeded symbols\n",
    "    text = re.sub(r\"[/~/`/@/#/$/%/&/-/_/+/,/.]\", \"\", text)\n",
    "    # Remove extra spaces\n",
    "    text = re.sub(\" +\", ' ', text)\n",
    "    \n",
    "    return text"
   ]
  },
  {
   "cell_type": "code",
   "execution_count": 8,
   "metadata": {},
   "outputs": [
    {
     "data": {
      "text/html": [
       "<div>\n",
       "<style scoped>\n",
       "    .dataframe tbody tr th:only-of-type {\n",
       "        vertical-align: middle;\n",
       "    }\n",
       "\n",
       "    .dataframe tbody tr th {\n",
       "        vertical-align: top;\n",
       "    }\n",
       "\n",
       "    .dataframe thead th {\n",
       "        text-align: right;\n",
       "    }\n",
       "</style>\n",
       "<table border=\"1\" class=\"dataframe\">\n",
       "  <thead>\n",
       "    <tr style=\"text-align: right;\">\n",
       "      <th></th>\n",
       "      <th>text</th>\n",
       "      <th>class</th>\n",
       "      <th>preprocessed_text</th>\n",
       "    </tr>\n",
       "  </thead>\n",
       "  <tbody>\n",
       "    <tr>\n",
       "      <th>0</th>\n",
       "      <td>Я не верю.Завтра свободное воскресенье.Никуда не надо идти.Это рай,ребята :D</td>\n",
       "      <td>1</td>\n",
       "      <td>я не верюзавтра свободное воскресеньеникуда не надо идтиэто райребята :d</td>\n",
       "    </tr>\n",
       "    <tr>\n",
       "      <th>1</th>\n",
       "      <td>Устала... пора спать)\\nСпосибо Кате, Яне, Дашке,Владику, Юрке и Леше за прекрасные дни)</td>\n",
       "      <td>1</td>\n",
       "      <td>устала пора спать)\\nспосибо кате яне дашкевладику юрке и леше за прекрасные дни)</td>\n",
       "    </tr>\n",
       "    <tr>\n",
       "      <th>2</th>\n",
       "      <td>Очень рад, что успел к игре Гладбаха с Шальке. Жеребцы в этом сезоне радуют глаз)</td>\n",
       "      <td>1</td>\n",
       "      <td>очень рад что успел к игре гладбаха с шальке жеребцы в этом сезоне радуют глаз)</td>\n",
       "    </tr>\n",
       "    <tr>\n",
       "      <th>3</th>\n",
       "      <td>дурацкое предчувствие...почему ты оказалось правдой?(</td>\n",
       "      <td>0</td>\n",
       "      <td>дурацкое предчувствиепочему ты оказалось правдой?(</td>\n",
       "    </tr>\n",
       "    <tr>\n",
       "      <th>4</th>\n",
       "      <td>Понедельник, работа, бюджет, нет желания(((</td>\n",
       "      <td>0</td>\n",
       "      <td>понедельник работа бюджет нет желания(((</td>\n",
       "    </tr>\n",
       "  </tbody>\n",
       "</table>\n",
       "</div>"
      ],
      "text/plain": [
       "                                                                                      text  \\\n",
       "0  Я не верю.Завтра свободное воскресенье.Никуда не надо идти.Это рай,ребята :D              \n",
       "1  Устала... пора спать)\\nСпосибо Кате, Яне, Дашке,Владику, Юрке и Леше за прекрасные дни)   \n",
       "2  Очень рад, что успел к игре Гладбаха с Шальке. Жеребцы в этом сезоне радуют глаз)         \n",
       "3  дурацкое предчувствие...почему ты оказалось правдой?(                                     \n",
       "4  Понедельник, работа, бюджет, нет желания(((                                               \n",
       "\n",
       "   class  \\\n",
       "0  1       \n",
       "1  1       \n",
       "2  1       \n",
       "3  0       \n",
       "4  0       \n",
       "\n",
       "                                                                  preprocessed_text  \n",
       "0  я не верюзавтра свободное воскресеньеникуда не надо идтиэто райребята :d          \n",
       "1  устала пора спать)\\nспосибо кате яне дашкевладику юрке и леше за прекрасные дни)  \n",
       "2  очень рад что успел к игре гладбаха с шальке жеребцы в этом сезоне радуют глаз)   \n",
       "3  дурацкое предчувствиепочему ты оказалось правдой?(                                \n",
       "4  понедельник работа бюджет нет желания(((                                          "
      ]
     },
     "execution_count": 8,
     "metadata": {},
     "output_type": "execute_result"
    }
   ],
   "source": [
    "df['preprocessed_text'] = df['text'].apply(lambda x: preprocess_text(x))\n",
    "df.head()"
   ]
  },
  {
   "cell_type": "markdown",
   "metadata": {},
   "source": [
    "Split text to train/test"
   ]
  },
  {
   "cell_type": "code",
   "execution_count": 9,
   "metadata": {},
   "outputs": [],
   "source": [
    "text_train, text_test, label_train, label_test = train_test_split(\n",
    "    df['preprocessed_text'],\n",
    "    df['class'],\n",
    "    test_size=0.2,\n",
    "    shuffle=True,\n",
    "    random_state=42\n",
    ")"
   ]
  },
  {
   "cell_type": "markdown",
   "metadata": {},
   "source": [
    "Tweet tokenizer"
   ]
  },
  {
   "cell_type": "code",
   "execution_count": 10,
   "metadata": {},
   "outputs": [],
   "source": [
    "tweet_tokenizer = TweetTokenizer()"
   ]
  },
  {
   "cell_type": "markdown",
   "metadata": {},
   "source": [
    "Prepare data for BiLSTM"
   ]
  },
  {
   "cell_type": "code",
   "execution_count": 11,
   "metadata": {},
   "outputs": [],
   "source": [
    "def text_data_to_tokens(texts):\n",
    "    res = []\n",
    "    for txt in texts:\n",
    "        tokenized_txt = tweet_tokenizer.tokenize(txt)\n",
    "        replaced_by_num = [fasttext.vocab[word].index for word in tokenized_txt if word in fasttext.vocab]\n",
    "        res.append(replaced_by_num)\n",
    "    return res"
   ]
  },
  {
   "cell_type": "code",
   "execution_count": 12,
   "metadata": {},
   "outputs": [
    {
     "data": {
      "text/plain": [
       "(181467, 45367)"
      ]
     },
     "execution_count": 12,
     "metadata": {},
     "output_type": "execute_result"
    }
   ],
   "source": [
    "X_train_bilstm = text_data_to_tokens(text_train)\n",
    "X_test_bilstm = text_data_to_tokens(text_test)\n",
    "len(X_train_bilstm), len(X_test_bilstm)"
   ]
  },
  {
   "cell_type": "markdown",
   "metadata": {},
   "source": [
    "The longest sentence length"
   ]
  },
  {
   "cell_type": "code",
   "execution_count": 13,
   "metadata": {},
   "outputs": [
    {
     "data": {
      "text/plain": [
       "47"
      ]
     },
     "execution_count": 13,
     "metadata": {},
     "output_type": "execute_result"
    }
   ],
   "source": [
    "max([max([len(x) for x in X_train_bilstm]), max([len(x) for x in X_test_bilstm])])"
   ]
  },
  {
   "cell_type": "markdown",
   "metadata": {},
   "source": [
    "Embedding layer params"
   ]
  },
  {
   "cell_type": "code",
   "execution_count": 14,
   "metadata": {},
   "outputs": [
    {
     "name": "stdout",
     "output_type": "stream",
     "text": [
      "WARNING:tensorflow:From /home/rdalex/venv3/lib/python3.6/site-packages/keras/backend/tensorflow_backend.py:74: The name tf.get_default_graph is deprecated. Please use tf.compat.v1.get_default_graph instead.\n",
      "\n"
     ]
    },
    {
     "data": {
      "text/plain": [
       "{'name': 'embedding_1',\n",
       " 'trainable': False,\n",
       " 'batch_input_shape': (None, None),\n",
       " 'dtype': 'float32',\n",
       " 'input_dim': 507470,\n",
       " 'output_dim': 300,\n",
       " 'embeddings_initializer': {'class_name': 'RandomUniform',\n",
       "  'config': {'minval': -0.05, 'maxval': 0.05, 'seed': None}},\n",
       " 'embeddings_regularizer': None,\n",
       " 'activity_regularizer': None,\n",
       " 'embeddings_constraint': None,\n",
       " 'mask_zero': False,\n",
       " 'input_length': None}"
      ]
     },
     "execution_count": 14,
     "metadata": {},
     "output_type": "execute_result"
    }
   ],
   "source": [
    "fasttext.get_keras_embedding().get_config()"
   ]
  },
  {
   "cell_type": "markdown",
   "metadata": {},
   "source": [
    "Some metrics definition"
   ]
  },
  {
   "cell_type": "code",
   "execution_count": 15,
   "metadata": {},
   "outputs": [],
   "source": [
    "def precision(y_true, y_pred):\n",
    "    \"\"\"Precision metric.\n",
    "\n",
    "    Only computes a batch-wise average of precision.\n",
    "\n",
    "    Computes the precision, a metric for multi-label classification of\n",
    "    how many selected items are relevant.\n",
    "    \"\"\"\n",
    "    true_positives = K.sum(K.round(K.clip(y_true * y_pred, 0, 1)))\n",
    "    predicted_positives = K.sum(K.round(K.clip(y_pred, 0, 1)))\n",
    "    precision = true_positives / (predicted_positives + K.epsilon())\n",
    "    return precision\n",
    "\n",
    "\n",
    "def recall(y_true, y_pred):\n",
    "    \"\"\"Recall metric.\n",
    "\n",
    "    Only computes a batch-wise average of recall.\n",
    "\n",
    "    Computes the recall, a metric for multi-label classification of\n",
    "    how many relevant items are selected.\n",
    "    \"\"\"\n",
    "    true_positives = K.sum(K.round(K.clip(y_true * y_pred, 0, 1)))\n",
    "    possible_positives = K.sum(K.round(K.clip(y_true, 0, 1)))\n",
    "    recall = true_positives / (possible_positives + K.epsilon())\n",
    "    return recall\n",
    "\n",
    "\n",
    "def f1(y_true, y_pred):\n",
    "    def recall(y_true, y_pred):\n",
    "        \"\"\"Recall metric.\n",
    "\n",
    "        Only computes a batch-wise average of recall.\n",
    "\n",
    "        Computes the recall, a metric for multi-label classification of\n",
    "        how many relevant items are selected.\n",
    "        \"\"\"\n",
    "        true_positives = K.sum(K.round(K.clip(y_true * y_pred, 0, 1)))\n",
    "        possible_positives = K.sum(K.round(K.clip(y_true, 0, 1)))\n",
    "        recall = true_positives / (possible_positives + K.epsilon())\n",
    "        return recall\n",
    "\n",
    "    def precision(y_true, y_pred):\n",
    "        \"\"\"Precision metric.\n",
    "\n",
    "        Only computes a batch-wise average of precision.\n",
    "\n",
    "        Computes the precision, a metric for multi-label classification of\n",
    "        how many selected items are relevant.\n",
    "        \"\"\"\n",
    "        true_positives = K.sum(K.round(K.clip(y_true * y_pred, 0, 1)))\n",
    "        predicted_positives = K.sum(K.round(K.clip(y_pred, 0, 1)))\n",
    "        precision = true_positives / (predicted_positives + K.epsilon())\n",
    "        return precision\n",
    "\n",
    "    precision = precision(y_true, y_pred)\n",
    "    recall = recall(y_true, y_pred)\n",
    "    return 2 * ((precision * recall) / (precision + recall + K.epsilon()))"
   ]
  },
  {
   "cell_type": "markdown",
   "metadata": {},
   "source": [
    "BiLSTM training"
   ]
  },
  {
   "cell_type": "code",
   "execution_count": 16,
   "metadata": {},
   "outputs": [
    {
     "name": "stdout",
     "output_type": "stream",
     "text": [
      "X_train shape: (181467, 64)\n",
      "X_test shape: (45367, 64)\n",
      "WARNING:tensorflow:From /home/rdalex/venv3/lib/python3.6/site-packages/keras/backend/tensorflow_backend.py:517: The name tf.placeholder is deprecated. Please use tf.compat.v1.placeholder instead.\n",
      "\n",
      "WARNING:tensorflow:From /home/rdalex/venv3/lib/python3.6/site-packages/keras/backend/tensorflow_backend.py:4138: The name tf.random_uniform is deprecated. Please use tf.random.uniform instead.\n",
      "\n",
      "WARNING:tensorflow:From /home/rdalex/venv3/lib/python3.6/site-packages/keras/backend/tensorflow_backend.py:174: The name tf.get_default_session is deprecated. Please use tf.compat.v1.get_default_session instead.\n",
      "\n",
      "WARNING:tensorflow:From /home/rdalex/venv3/lib/python3.6/site-packages/keras/backend/tensorflow_backend.py:181: The name tf.ConfigProto is deprecated. Please use tf.compat.v1.ConfigProto instead.\n",
      "\n",
      "WARNING:tensorflow:From /home/rdalex/venv3/lib/python3.6/site-packages/keras/backend/tensorflow_backend.py:186: The name tf.Session is deprecated. Please use tf.compat.v1.Session instead.\n",
      "\n",
      "WARNING:tensorflow:From /home/rdalex/venv3/lib/python3.6/site-packages/keras/backend/tensorflow_backend.py:190: The name tf.global_variables is deprecated. Please use tf.compat.v1.global_variables instead.\n",
      "\n",
      "WARNING:tensorflow:From /home/rdalex/venv3/lib/python3.6/site-packages/keras/backend/tensorflow_backend.py:199: The name tf.is_variable_initialized is deprecated. Please use tf.compat.v1.is_variable_initialized instead.\n",
      "\n",
      "WARNING:tensorflow:From /home/rdalex/venv3/lib/python3.6/site-packages/keras/backend/tensorflow_backend.py:206: The name tf.variables_initializer is deprecated. Please use tf.compat.v1.variables_initializer instead.\n",
      "\n",
      "WARNING:tensorflow:From /home/rdalex/venv3/lib/python3.6/site-packages/keras/backend/tensorflow_backend.py:133: The name tf.placeholder_with_default is deprecated. Please use tf.compat.v1.placeholder_with_default instead.\n",
      "\n",
      "WARNING:tensorflow:From /home/rdalex/venv3/lib/python3.6/site-packages/keras/backend/tensorflow_backend.py:3445: calling dropout (from tensorflow.python.ops.nn_ops) with keep_prob is deprecated and will be removed in a future version.\n",
      "Instructions for updating:\n",
      "Please use `rate` instead of `keep_prob`. Rate should be set to `rate = 1 - keep_prob`.\n",
      "WARNING:tensorflow:From /home/rdalex/venv3/lib/python3.6/site-packages/keras/optimizers.py:790: The name tf.train.Optimizer is deprecated. Please use tf.compat.v1.train.Optimizer instead.\n",
      "\n",
      "WARNING:tensorflow:From /home/rdalex/venv3/lib/python3.6/site-packages/keras/backend/tensorflow_backend.py:3376: The name tf.log is deprecated. Please use tf.math.log instead.\n",
      "\n",
      "WARNING:tensorflow:From /home/rdalex/venv3/lib/python3.6/site-packages/tensorflow_core/python/ops/nn_impl.py:183: where (from tensorflow.python.ops.array_ops) is deprecated and will be removed in a future version.\n",
      "Instructions for updating:\n",
      "Use tf.where in 2.0, which has the same broadcast rule as np.where\n",
      "WARNING:tensorflow:From /home/rdalex/venv3/lib/python3.6/site-packages/keras/backend/tensorflow_backend.py:986: The name tf.assign_add is deprecated. Please use tf.compat.v1.assign_add instead.\n",
      "\n",
      "WARNING:tensorflow:From /home/rdalex/venv3/lib/python3.6/site-packages/keras/backend/tensorflow_backend.py:973: The name tf.assign is deprecated. Please use tf.compat.v1.assign instead.\n",
      "\n",
      "Train on 163320 samples, validate on 18147 samples\n",
      "Epoch 1/20\n",
      "163320/163320 [==============================] - 70s 428us/step - loss: 0.2999 - precision: 0.8510 - recall: 0.8731 - f1: 0.8575 - val_loss: 0.2486 - val_precision: 0.8333 - val_recall: 0.9339 - val_f1: 0.8803\n",
      "Epoch 2/20\n",
      "163320/163320 [==============================] - 66s 406us/step - loss: 0.2322 - precision: 0.8829 - recall: 0.8865 - f1: 0.8835 - val_loss: 0.2192 - val_precision: 0.9107 - val_recall: 0.8641 - val_f1: 0.8864\n",
      "Epoch 3/20\n",
      "163320/163320 [==============================] - 67s 409us/step - loss: 0.2167 - precision: 0.8919 - recall: 0.8920 - f1: 0.8910 - val_loss: 0.2178 - val_precision: 0.8554 - val_recall: 0.9337 - val_f1: 0.8925\n",
      "Epoch 4/20\n",
      "163320/163320 [==============================] - 66s 406us/step - loss: 0.2094 - precision: 0.8956 - recall: 0.8943 - f1: 0.8940 - val_loss: 0.2077 - val_precision: 0.9207 - val_recall: 0.8635 - val_f1: 0.8909\n",
      "Epoch 5/20\n",
      "163320/163320 [==============================] - 65s 400us/step - loss: 0.2048 - precision: 0.8981 - recall: 0.8974 - f1: 0.8969 - val_loss: 0.2056 - val_precision: 0.9182 - val_recall: 0.8729 - val_f1: 0.8946\n",
      "Epoch 6/20\n",
      "163320/163320 [==============================] - 66s 403us/step - loss: 0.2004 - precision: 0.9009 - recall: 0.9004 - f1: 0.8999 - val_loss: 0.2010 - val_precision: 0.8951 - val_recall: 0.9062 - val_f1: 0.9003\n",
      "Epoch 7/20\n",
      "163320/163320 [==============================] - 65s 399us/step - loss: 0.1972 - precision: 0.9029 - recall: 0.9011 - f1: 0.9013 - val_loss: 0.1991 - val_precision: 0.9043 - val_recall: 0.8961 - val_f1: 0.8998\n",
      "Epoch 8/20\n",
      "163320/163320 [==============================] - 66s 402us/step - loss: 0.1937 - precision: 0.9048 - recall: 0.9030 - f1: 0.9032 - val_loss: 0.1975 - val_precision: 0.9053 - val_recall: 0.8920 - val_f1: 0.8983\n",
      "Epoch 9/20\n",
      "163320/163320 [==============================] - 66s 404us/step - loss: 0.1910 - precision: 0.9074 - recall: 0.9040 - f1: 0.9050 - val_loss: 0.1981 - val_precision: 0.8895 - val_recall: 0.9184 - val_f1: 0.9034\n",
      "Epoch 10/20\n",
      "163320/163320 [==============================] - 66s 403us/step - loss: 0.1887 - precision: 0.9090 - recall: 0.9063 - f1: 0.9070 - val_loss: 0.1960 - val_precision: 0.9073 - val_recall: 0.8983 - val_f1: 0.9024\n",
      "Epoch 11/20\n",
      "163320/163320 [==============================] - 66s 405us/step - loss: 0.1861 - precision: 0.9111 - recall: 0.9067 - f1: 0.9083 - val_loss: 0.1952 - val_precision: 0.9131 - val_recall: 0.8916 - val_f1: 0.9019\n",
      "Epoch 12/20\n",
      "163320/163320 [==============================] - 65s 399us/step - loss: 0.1836 - precision: 0.9124 - recall: 0.9081 - f1: 0.9097 - val_loss: 0.1948 - val_precision: 0.8940 - val_recall: 0.9161 - val_f1: 0.9046\n",
      "Epoch 13/20\n",
      "163320/163320 [==============================] - 66s 406us/step - loss: 0.1813 - precision: 0.9136 - recall: 0.9106 - f1: 0.9115 - val_loss: 0.1968 - val_precision: 0.8904 - val_recall: 0.9229 - val_f1: 0.9060\n",
      "Epoch 14/20\n",
      "163320/163320 [==============================] - 66s 404us/step - loss: 0.1790 - precision: 0.9151 - recall: 0.9117 - f1: 0.9128 - val_loss: 0.1975 - val_precision: 0.8791 - val_recall: 0.9309 - val_f1: 0.9040\n",
      "Epoch 15/20\n",
      "163320/163320 [==============================] - 66s 405us/step - loss: 0.1764 - precision: 0.9168 - recall: 0.9136 - f1: 0.9146 - val_loss: 0.1941 - val_precision: 0.9053 - val_recall: 0.9047 - val_f1: 0.9046\n",
      "Epoch 16/20\n",
      "163320/163320 [==============================] - 66s 405us/step - loss: 0.1746 - precision: 0.9187 - recall: 0.9146 - f1: 0.9161 - val_loss: 0.1977 - val_precision: 0.8867 - val_recall: 0.9299 - val_f1: 0.9074\n",
      "Epoch 17/20\n",
      "163320/163320 [==============================] - 66s 405us/step - loss: 0.1725 - precision: 0.9188 - recall: 0.9154 - f1: 0.9166 - val_loss: 0.1939 - val_precision: 0.9168 - val_recall: 0.8882 - val_f1: 0.9018\n",
      "Epoch 18/20\n",
      "163320/163320 [==============================] - 66s 404us/step - loss: 0.1696 - precision: 0.9206 - recall: 0.9174 - f1: 0.9185 - val_loss: 0.1954 - val_precision: 0.9263 - val_recall: 0.8768 - val_f1: 0.9005\n",
      "Epoch 19/20\n",
      "163320/163320 [==============================] - 66s 404us/step - loss: 0.1673 - precision: 0.9233 - recall: 0.9185 - f1: 0.9204 - val_loss: 0.1949 - val_precision: 0.9039 - val_recall: 0.9059 - val_f1: 0.9045\n",
      "Epoch 20/20\n",
      "163320/163320 [==============================] - 66s 405us/step - loss: 0.1647 - precision: 0.9237 - recall: 0.9200 - f1: 0.9213 - val_loss: 0.1974 - val_precision: 0.9140 - val_recall: 0.8946 - val_f1: 0.9038\n"
     ]
    }
   ],
   "source": [
    "maxlen = 64\n",
    "batch_size = 256\n",
    "epochs = 20\n",
    "\n",
    "X_train = sequence.pad_sequences(X_train_bilstm, maxlen=maxlen)\n",
    "X_test = sequence.pad_sequences(X_test_bilstm, maxlen=maxlen)\n",
    "print('X_train shape:', X_train.shape)\n",
    "print('X_test shape:', X_test.shape)\n",
    "y_train = np.array(label_train)\n",
    "y_test = np.array(label_test)\n",
    "\n",
    "model = Sequential()\n",
    "model.add(fasttext.get_keras_embedding())\n",
    "model.add(Bidirectional(LSTM(64)))\n",
    "model.add(Dropout(0.3))\n",
    "model.add(Dense(1, activation='sigmoid'))\n",
    "\n",
    "callbacks = [ModelCheckpoint(filepath='trained_models/fasttext_bilstm.h5', \n",
    "                             monitor='val_loss', \n",
    "                             save_best_only=True)\n",
    "            ]\n",
    "model.compile('adadelta', 'binary_crossentropy', metrics=[precision, recall, f1])\n",
    "history = model.fit(X_train, y_train, batch_size=batch_size, epochs=epochs, \n",
    "                    validation_split=0.1, \n",
    "                    callbacks=callbacks)"
   ]
  },
  {
   "cell_type": "markdown",
   "metadata": {},
   "source": [
    "Some plots"
   ]
  },
  {
   "cell_type": "code",
   "execution_count": 17,
   "metadata": {},
   "outputs": [
    {
     "data": {
      "image/png": "[encoded data removed]",
      "text/plain": [
       "<Figure size 432x288 with 1 Axes>"
      ]
     },
     "metadata": {
      "needs_background": "light"
     },
     "output_type": "display_data"
    }
   ],
   "source": [
    "plt.plot(history.history['f1'])\n",
    "plt.plot(history.history['val_f1'])\n",
    "plt.title('Model F1')\n",
    "plt.ylabel('F1')\n",
    "plt.xlabel('Epoch')\n",
    "plt.legend(['Train', 'Validation'], loc='upper left')\n",
    "plt.show()"
   ]
  },
  {
   "cell_type": "code",
   "execution_count": 18,
   "metadata": {},
   "outputs": [
    {
     "data": {
      "image/png": "[encoded data removed]",
      "text/plain": [
       "<Figure size 432x288 with 1 Axes>"
      ]
     },
     "metadata": {
      "needs_background": "light"
     },
     "output_type": "display_data"
    }
   ],
   "source": [
    "plt.plot(history.history['precision'])\n",
    "plt.plot(history.history['val_precision'])\n",
    "plt.title('Model precision')\n",
    "plt.ylabel('Precision')\n",
    "plt.xlabel('Epoch')\n",
    "plt.legend(['Train', 'Validation'], loc='upper left')\n",
    "plt.show()"
   ]
  },
  {
   "cell_type": "code",
   "execution_count": 19,
   "metadata": {},
   "outputs": [
    {
     "data": {
      "image/png": "[encoded data removed]",
      "text/plain": [
       "<Figure size 432x288 with 1 Axes>"
      ]
     },
     "metadata": {
      "needs_background": "light"
     },
     "output_type": "display_data"
    }
   ],
   "source": [
    "plt.plot(history.history['recall'])\n",
    "plt.plot(history.history['val_recall'])\n",
    "plt.title('Model recall')\n",
    "plt.ylabel('Recall')\n",
    "plt.xlabel('Epoch')\n",
    "plt.legend(['Train', 'Validation'], loc='upper left')\n",
    "plt.show()"
   ]
  },
  {
   "cell_type": "code",
   "execution_count": 20,
   "metadata": {},
   "outputs": [
    {
     "data": {
      "image/png": "[encoded data removed]",
      "text/plain": [
       "<Figure size 432x288 with 1 Axes>"
      ]
     },
     "metadata": {
      "needs_background": "light"
     },
     "output_type": "display_data"
    }
   ],
   "source": [
    "plt.plot(history.history['loss'])\n",
    "plt.plot(history.history['val_loss'])\n",
    "plt.title('Model loss')\n",
    "plt.ylabel('Loss')\n",
    "plt.xlabel('Epoch')\n",
    "plt.legend(['Train', 'Validation'], loc='upper right')\n",
    "plt.show()"
   ]
  },
  {
   "cell_type": "markdown",
   "metadata": {},
   "source": [
    "Test classification report"
   ]
  },
  {
   "cell_type": "code",
   "execution_count": 21,
   "metadata": {},
   "outputs": [
    {
     "name": "stdout",
     "output_type": "stream",
     "text": [
      "              precision    recall  f1-score   support\n",
      "\n",
      "           0       0.89      0.91      0.90     22358\n",
      "           1       0.91      0.89      0.90     23009\n",
      "\n",
      "    accuracy                           0.90     45367\n",
      "   macro avg       0.90      0.90      0.90     45367\n",
      "weighted avg       0.90      0.90      0.90     45367\n",
      "\n"
     ]
    }
   ],
   "source": [
    "from sklearn.metrics import classification_report\n",
    "\n",
    "print(classification_report(y_test, model.predict_classes(X_test)))"
   ]
  },
  {
   "cell_type": "code",
   "execution_count": null,
   "metadata": {},
   "outputs": [],
   "source": []
  }
 ],
 "metadata": {
  "kernelspec": {
   "display_name": "Python 3",
   "language": "python",
   "name": "python3"
  },
  "language_info": {
   "codemirror_mode": {
    "name": "ipython",
    "version": 3
   },
   "file_extension": ".py",
   "mimetype": "text/x-python",
   "name": "python",
   "nbconvert_exporter": "python",
   "pygments_lexer": "ipython3",
   "version": "3.6.7"
  },
  "pycharm": {
   "stem_cell": {
    "cell_type": "raw",
    "metadata": {
     "collapsed": false
    },
    "source": []
   }
  }
 },
 "nbformat": 4,
 "nbformat_minor": 2
}
