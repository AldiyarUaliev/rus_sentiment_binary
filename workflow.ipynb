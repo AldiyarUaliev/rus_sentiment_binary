{
 "cells": [
  {
   "cell_type": "code",
   "execution_count": 1,
   "metadata": {},
   "outputs": [
    {
     "name": "stderr",
     "output_type": "stream",
     "text": [
      "Using TensorFlow backend.\n",
      "/home/rdalex/venv3/lib/python3.6/site-packages/tensorflow/python/framework/dtypes.py:516: FutureWarning: Passing (type, 1) or '1type' as a synonym of type is deprecated; in a future version of numpy, it will be understood as (type, (1,)) / '(1,)type'.\n",
      "  _np_qint8 = np.dtype([(\"qint8\", np.int8, 1)])\n",
      "/home/rdalex/venv3/lib/python3.6/site-packages/tensorflow/python/framework/dtypes.py:517: FutureWarning: Passing (type, 1) or '1type' as a synonym of type is deprecated; in a future version of numpy, it will be understood as (type, (1,)) / '(1,)type'.\n",
      "  _np_quint8 = np.dtype([(\"quint8\", np.uint8, 1)])\n",
      "/home/rdalex/venv3/lib/python3.6/site-packages/tensorflow/python/framework/dtypes.py:518: FutureWarning: Passing (type, 1) or '1type' as a synonym of type is deprecated; in a future version of numpy, it will be understood as (type, (1,)) / '(1,)type'.\n",
      "  _np_qint16 = np.dtype([(\"qint16\", np.int16, 1)])\n",
      "/home/rdalex/venv3/lib/python3.6/site-packages/tensorflow/python/framework/dtypes.py:519: FutureWarning: Passing (type, 1) or '1type' as a synonym of type is deprecated; in a future version of numpy, it will be understood as (type, (1,)) / '(1,)type'.\n",
      "  _np_quint16 = np.dtype([(\"quint16\", np.uint16, 1)])\n",
      "/home/rdalex/venv3/lib/python3.6/site-packages/tensorflow/python/framework/dtypes.py:520: FutureWarning: Passing (type, 1) or '1type' as a synonym of type is deprecated; in a future version of numpy, it will be understood as (type, (1,)) / '(1,)type'.\n",
      "  _np_qint32 = np.dtype([(\"qint32\", np.int32, 1)])\n",
      "/home/rdalex/venv3/lib/python3.6/site-packages/tensorflow/python/framework/dtypes.py:525: FutureWarning: Passing (type, 1) or '1type' as a synonym of type is deprecated; in a future version of numpy, it will be understood as (type, (1,)) / '(1,)type'.\n",
      "  np_resource = np.dtype([(\"resource\", np.ubyte, 1)])\n",
      "/home/rdalex/venv3/lib/python3.6/site-packages/tensorboard/compat/tensorflow_stub/dtypes.py:541: FutureWarning: Passing (type, 1) or '1type' as a synonym of type is deprecated; in a future version of numpy, it will be understood as (type, (1,)) / '(1,)type'.\n",
      "  _np_qint8 = np.dtype([(\"qint8\", np.int8, 1)])\n",
      "/home/rdalex/venv3/lib/python3.6/site-packages/tensorboard/compat/tensorflow_stub/dtypes.py:542: FutureWarning: Passing (type, 1) or '1type' as a synonym of type is deprecated; in a future version of numpy, it will be understood as (type, (1,)) / '(1,)type'.\n",
      "  _np_quint8 = np.dtype([(\"quint8\", np.uint8, 1)])\n",
      "/home/rdalex/venv3/lib/python3.6/site-packages/tensorboard/compat/tensorflow_stub/dtypes.py:543: FutureWarning: Passing (type, 1) or '1type' as a synonym of type is deprecated; in a future version of numpy, it will be understood as (type, (1,)) / '(1,)type'.\n",
      "  _np_qint16 = np.dtype([(\"qint16\", np.int16, 1)])\n",
      "/home/rdalex/venv3/lib/python3.6/site-packages/tensorboard/compat/tensorflow_stub/dtypes.py:544: FutureWarning: Passing (type, 1) or '1type' as a synonym of type is deprecated; in a future version of numpy, it will be understood as (type, (1,)) / '(1,)type'.\n",
      "  _np_quint16 = np.dtype([(\"quint16\", np.uint16, 1)])\n",
      "/home/rdalex/venv3/lib/python3.6/site-packages/tensorboard/compat/tensorflow_stub/dtypes.py:545: FutureWarning: Passing (type, 1) or '1type' as a synonym of type is deprecated; in a future version of numpy, it will be understood as (type, (1,)) / '(1,)type'.\n",
      "  _np_qint32 = np.dtype([(\"qint32\", np.int32, 1)])\n",
      "/home/rdalex/venv3/lib/python3.6/site-packages/tensorboard/compat/tensorflow_stub/dtypes.py:550: FutureWarning: Passing (type, 1) or '1type' as a synonym of type is deprecated; in a future version of numpy, it will be understood as (type, (1,)) / '(1,)type'.\n",
      "  np_resource = np.dtype([(\"resource\", np.ubyte, 1)])\n"
     ]
    }
   ],
   "source": [
    "import re\n",
    "from nltk.tokenize.casual import TweetTokenizer\n",
    "from gensim.models import KeyedVectors\n",
    "import pandas as pd\n",
    "import numpy as np\n",
    "from sklearn.model_selection import train_test_split\n",
    "import matplotlib.pyplot as plt\n",
    "\n",
    "from keras.preprocessing import sequence\n",
    "from keras.models import Sequential\n",
    "from keras.layers import Dense, Dropout, Embedding, LSTM, Bidirectional\n",
    "from keras.callbacks import ModelCheckpoint\n",
    "from keras import backend as K\n",
    "\n",
    "%matplotlib inline"
   ]
  },
  {
   "cell_type": "markdown",
   "metadata": {},
   "source": [
    "Load words embeddings (FastText trained over VK posts)"
   ]
  },
  {
   "cell_type": "code",
   "execution_count": 2,
   "metadata": {},
   "outputs": [
    {
     "data": {
      "text/plain": [
       "[('котейко', 0.7458697557449341),\n",
       " ('Котейка', 0.7427492141723633),\n",
       " ('котейки', 0.6791476011276245),\n",
       " ('котейкой', 0.6727944612503052),\n",
       " ('кошак', 0.6622782945632935),\n",
       " ('котэ', 0.6595468521118164),\n",
       " ('совушка', 0.658632755279541),\n",
       " ('киса', 0.642015278339386),\n",
       " ('котейку', 0.633861243724823),\n",
       " ('собакадругчеловека', 0.6230987310409546)]"
      ]
     },
     "execution_count": 2,
     "metadata": {},
     "output_type": "execute_result"
    }
   ],
   "source": [
    "fasttext = KeyedVectors.load_word2vec_format('embeddings/fasttext_big_300d.vec')\n",
    "fasttext.most_similar('котейка')"
   ]
  },
  {
   "cell_type": "code",
   "execution_count": 3,
   "metadata": {},
   "outputs": [
    {
     "data": {
      "text/plain": [
       "[('cats', 0.8391395211219788),\n",
       " ('kitten', 0.8023779988288879),\n",
       " ('dog', 0.7982020378112793),\n",
       " ('kittens', 0.7829532623291016),\n",
       " ('pet', 0.7627919912338257),\n",
       " ('kitty', 0.7567681074142456),\n",
       " ('catsagram', 0.7563411593437195),\n",
       " ('catstagram', 0.75223708152771),\n",
       " ('petstagram', 0.7464101314544678),\n",
       " ('catsofinstagram', 0.7379685640335083)]"
      ]
     },
     "execution_count": 3,
     "metadata": {},
     "output_type": "execute_result"
    }
   ],
   "source": [
    "fasttext.most_similar('cat')"
   ]
  },
  {
   "cell_type": "markdown",
   "metadata": {},
   "source": [
    "Load tweets (https://study.mokoron.com/)"
   ]
  },
  {
   "cell_type": "code",
   "execution_count": 4,
   "metadata": {},
   "outputs": [
    {
     "data": {
      "text/html": [
       "<div>\n",
       "<style scoped>\n",
       "    .dataframe tbody tr th:only-of-type {\n",
       "        vertical-align: middle;\n",
       "    }\n",
       "\n",
       "    .dataframe tbody tr th {\n",
       "        vertical-align: top;\n",
       "    }\n",
       "\n",
       "    .dataframe thead th {\n",
       "        text-align: right;\n",
       "    }\n",
       "</style>\n",
       "<table border=\"1\" class=\"dataframe\">\n",
       "  <thead>\n",
       "    <tr style=\"text-align: right;\">\n",
       "      <th></th>\n",
       "      <th>text</th>\n",
       "      <th>class</th>\n",
       "    </tr>\n",
       "  </thead>\n",
       "  <tbody>\n",
       "    <tr>\n",
       "      <th>0</th>\n",
       "      <td>@KrisVarvina ну да по приколу) думаешь найдется принц?)</td>\n",
       "      <td>1</td>\n",
       "    </tr>\n",
       "    <tr>\n",
       "      <th>1</th>\n",
       "      <td>В 5 классе будет учиться, на радость англичанке нашей))</td>\n",
       "      <td>1</td>\n",
       "    </tr>\n",
       "    <tr>\n",
       "      <th>2</th>\n",
       "      <td>@fantomrocker а я типа на расслабоне такая чувиха7)) тоже вот потею)))</td>\n",
       "      <td>1</td>\n",
       "    </tr>\n",
       "    <tr>\n",
       "      <th>3</th>\n",
       "      <td>RT @anya_pervert: Сказал в 7 часов позвонить и отчитаться  за выбор)</td>\n",
       "      <td>1</td>\n",
       "    </tr>\n",
       "    <tr>\n",
       "      <th>4</th>\n",
       "      <td>“@Summer_day_day: Однажды Чен признался, что он очень упрямый и возьмет то, что очень хочет, даже если это - девушка Криса.\\nзачет”\\nРисковый)</td>\n",
       "      <td>1</td>\n",
       "    </tr>\n",
       "    <tr>\n",
       "      <th>5</th>\n",
       "      <td>Целых десять дней...черт, как же это долго. Приезжай по-скорее, я тебя жду, любимая:* крабушу моя:*… http://t.co/8hpklZNrYy</td>\n",
       "      <td>1</td>\n",
       "    </tr>\n",
       "    <tr>\n",
       "      <th>6</th>\n",
       "      <td>Он такой пидр ебанутый пиздеец! #сорризаматы(</td>\n",
       "      <td>0</td>\n",
       "    </tr>\n",
       "    <tr>\n",
       "      <th>7</th>\n",
       "      <td>Опа, прилетело обновление до Android 4.4.2 на Nexus 4! Оперативно работают ребята :) http://t.co/Uy75zeP1ZU</td>\n",
       "      <td>1</td>\n",
       "    </tr>\n",
       "    <tr>\n",
       "      <th>8</th>\n",
       "      <td>в последнее время не читаю длинные посты\\n\\nтааак в падлу)</td>\n",
       "      <td>1</td>\n",
       "    </tr>\n",
       "    <tr>\n",
       "      <th>9</th>\n",
       "      <td>чо происходит RT @nindo_O: @Badou_N http://t.co/AemUGmrG7Y</td>\n",
       "      <td>0</td>\n",
       "    </tr>\n",
       "  </tbody>\n",
       "</table>\n",
       "</div>"
      ],
      "text/plain": [
       "                                                                                                                                             text  \\\n",
       "0  @KrisVarvina ну да по приколу) думаешь найдется принц?)                                                                                          \n",
       "1  В 5 классе будет учиться, на радость англичанке нашей))                                                                                          \n",
       "2  @fantomrocker а я типа на расслабоне такая чувиха7)) тоже вот потею)))                                                                           \n",
       "3  RT @anya_pervert: Сказал в 7 часов позвонить и отчитаться  за выбор)                                                                             \n",
       "4  “@Summer_day_day: Однажды Чен признался, что он очень упрямый и возьмет то, что очень хочет, даже если это - девушка Криса.\\nзачет”\\nРисковый)   \n",
       "5  Целых десять дней...черт, как же это долго. Приезжай по-скорее, я тебя жду, любимая:* крабушу моя:*… http://t.co/8hpklZNrYy                      \n",
       "6  Он такой пидр ебанутый пиздеец! #сорризаматы(                                                                                                    \n",
       "7  Опа, прилетело обновление до Android 4.4.2 на Nexus 4! Оперативно работают ребята :) http://t.co/Uy75zeP1ZU                                      \n",
       "8  в последнее время не читаю длинные посты\\n\\nтааак в падлу)                                                                                       \n",
       "9  чо происходит RT @nindo_O: @Badou_N http://t.co/AemUGmrG7Y                                                                                       \n",
       "\n",
       "   class  \n",
       "0  1      \n",
       "1  1      \n",
       "2  1      \n",
       "3  1      \n",
       "4  1      \n",
       "5  1      \n",
       "6  0      \n",
       "7  1      \n",
       "8  1      \n",
       "9  0      "
      ]
     },
     "execution_count": 4,
     "metadata": {},
     "output_type": "execute_result"
    }
   ],
   "source": [
    "pd.set_option('max_colwidth', -1)\n",
    "\n",
    "negative = pd.read_csv('datasets/negative.csv', header=None, sep=';', usecols=[3])\n",
    "negative['class'] = 0\n",
    "positive = pd.read_csv('datasets/positive.csv', header=None, sep=';', usecols=[3])\n",
    "positive['class'] = 1\n",
    "df = pd.concat([negative, positive], ignore_index=True, copy=False)\n",
    "df = df.sample(frac=1).reset_index(drop=True)\n",
    "df.rename(columns={3: 'text'}, inplace=True)\n",
    "df.head(n=10)"
   ]
  },
  {
   "cell_type": "code",
   "execution_count": 5,
   "metadata": {},
   "outputs": [
    {
     "data": {
      "text/plain": [
       "<matplotlib.axes._subplots.AxesSubplot at 0x7f11763814e0>"
      ]
     },
     "execution_count": 5,
     "metadata": {},
     "output_type": "execute_result"
    },
    {
     "data": {
      "image/png": "[encoded data removed]",
      "text/plain": [
       "<Figure size 432x288 with 1 Axes>"
      ]
     },
     "metadata": {
      "needs_background": "light"
     },
     "output_type": "display_data"
    }
   ],
   "source": [
    "df['class'].hist()"
   ]
  },
  {
   "cell_type": "code",
   "execution_count": 6,
   "metadata": {},
   "outputs": [
    {
     "data": {
      "text/plain": [
       "1    114911\n",
       "0    111923\n",
       "Name: class, dtype: int64"
      ]
     },
     "execution_count": 6,
     "metadata": {},
     "output_type": "execute_result"
    }
   ],
   "source": [
    "df['class'].value_counts()"
   ]
  },
  {
   "cell_type": "markdown",
   "metadata": {},
   "source": [
    "Clean text"
   ]
  },
  {
   "cell_type": "code",
   "execution_count": 7,
   "metadata": {},
   "outputs": [],
   "source": [
    "def preprocess_text(text):\n",
    "    # Lower text\n",
    "    text = text.lower()\n",
    "    # Remove URLs\n",
    "    text = re.sub(r\"http\\S+\", \"\", text)\n",
    "    # Remove @ mentions\n",
    "    text = re.sub(r\"@\\S+\", \"\", text)\n",
    "    # Remove hashtags\n",
    "    text = re.sub(r\"#\\S+\", \"\", text)\n",
    "    # Remove rt (retweets)\n",
    "    text = re.sub(\"rt\", \"\", text)\n",
    "    # Remove unneeded symbols\n",
    "    text = re.sub(r\"[/~/`/@/#/$/%/&/-/_/+/,/.]\", \"\", text)\n",
    "    # Remove extra spaces\n",
    "    text = re.sub(\" +\", ' ', text)\n",
    "    \n",
    "    return text"
   ]
  },
  {
   "cell_type": "code",
   "execution_count": 8,
   "metadata": {},
   "outputs": [],
   "source": [
    "tweet_tokenizer = TweetTokenizer()\n",
    "X = []\n",
    "y = []\n",
    "\n",
    "for _, row in df.iterrows():\n",
    "    txt = preprocess_text(row['text'])\n",
    "    tokenized_text = ''\n",
    "    try:\n",
    "        tokenized_text = tweet_tokenizer.tokenize(txt)\n",
    "    except:\n",
    "        continue\n",
    "    replaced_by_num = [fasttext.vocab[word].index for word in tokenized_text if word in fasttext.vocab]\n",
    "    X.append(replaced_by_num)\n",
    "    y.append(row['class'])"
   ]
  },
  {
   "cell_type": "markdown",
   "metadata": {},
   "source": [
    "The longest sentence length"
   ]
  },
  {
   "cell_type": "code",
   "execution_count": 9,
   "metadata": {},
   "outputs": [
    {
     "data": {
      "text/plain": [
       "47"
      ]
     },
     "execution_count": 9,
     "metadata": {},
     "output_type": "execute_result"
    }
   ],
   "source": [
    "max([len(x) for x in X])"
   ]
  },
  {
   "cell_type": "markdown",
   "metadata": {},
   "source": [
    "Divide data into the train and test"
   ]
  },
  {
   "cell_type": "code",
   "execution_count": 10,
   "metadata": {},
   "outputs": [],
   "source": [
    "X_train, X_test, y_train, y_test = train_test_split(X, y, test_size=0.25, shuffle=True, \n",
    "                                                    random_state=42)"
   ]
  },
  {
   "cell_type": "markdown",
   "metadata": {},
   "source": [
    "Embedding layer params"
   ]
  },
  {
   "cell_type": "code",
   "execution_count": 11,
   "metadata": {},
   "outputs": [
    {
     "data": {
      "text/plain": [
       "{'name': 'embedding_1',\n",
       " 'trainable': False,\n",
       " 'batch_input_shape': (None, None),\n",
       " 'dtype': 'float32',\n",
       " 'input_dim': 507470,\n",
       " 'output_dim': 300,\n",
       " 'embeddings_initializer': {'class_name': 'RandomUniform',\n",
       "  'config': {'minval': -0.05, 'maxval': 0.05, 'seed': None}},\n",
       " 'embeddings_regularizer': None,\n",
       " 'activity_regularizer': None,\n",
       " 'embeddings_constraint': None,\n",
       " 'mask_zero': False,\n",
       " 'input_length': None}"
      ]
     },
     "execution_count": 11,
     "metadata": {},
     "output_type": "execute_result"
    }
   ],
   "source": [
    "fasttext.get_keras_embedding().get_config()"
   ]
  },
  {
   "cell_type": "code",
   "execution_count": 12,
   "metadata": {},
   "outputs": [],
   "source": [
    "def precision(y_true, y_pred):\n",
    "    \"\"\"Precision metric.\n",
    "\n",
    "    Only computes a batch-wise average of precision.\n",
    "\n",
    "    Computes the precision, a metric for multi-label classification of\n",
    "    how many selected items are relevant.\n",
    "    \"\"\"\n",
    "    true_positives = K.sum(K.round(K.clip(y_true * y_pred, 0, 1)))\n",
    "    predicted_positives = K.sum(K.round(K.clip(y_pred, 0, 1)))\n",
    "    precision = true_positives / (predicted_positives + K.epsilon())\n",
    "    return precision\n",
    "\n",
    "\n",
    "def recall(y_true, y_pred):\n",
    "    \"\"\"Recall metric.\n",
    "\n",
    "    Only computes a batch-wise average of recall.\n",
    "\n",
    "    Computes the recall, a metric for multi-label classification of\n",
    "    how many relevant items are selected.\n",
    "    \"\"\"\n",
    "    true_positives = K.sum(K.round(K.clip(y_true * y_pred, 0, 1)))\n",
    "    possible_positives = K.sum(K.round(K.clip(y_true, 0, 1)))\n",
    "    recall = true_positives / (possible_positives + K.epsilon())\n",
    "    return recall\n",
    "\n",
    "\n",
    "def f1(y_true, y_pred):\n",
    "    def recall(y_true, y_pred):\n",
    "        \"\"\"Recall metric.\n",
    "\n",
    "        Only computes a batch-wise average of recall.\n",
    "\n",
    "        Computes the recall, a metric for multi-label classification of\n",
    "        how many relevant items are selected.\n",
    "        \"\"\"\n",
    "        true_positives = K.sum(K.round(K.clip(y_true * y_pred, 0, 1)))\n",
    "        possible_positives = K.sum(K.round(K.clip(y_true, 0, 1)))\n",
    "        recall = true_positives / (possible_positives + K.epsilon())\n",
    "        return recall\n",
    "\n",
    "    def precision(y_true, y_pred):\n",
    "        \"\"\"Precision metric.\n",
    "\n",
    "        Only computes a batch-wise average of precision.\n",
    "\n",
    "        Computes the precision, a metric for multi-label classification of\n",
    "        how many selected items are relevant.\n",
    "        \"\"\"\n",
    "        true_positives = K.sum(K.round(K.clip(y_true * y_pred, 0, 1)))\n",
    "        predicted_positives = K.sum(K.round(K.clip(y_pred, 0, 1)))\n",
    "        precision = true_positives / (predicted_positives + K.epsilon())\n",
    "        return precision\n",
    "\n",
    "    precision = precision(y_true, y_pred)\n",
    "    recall = recall(y_true, y_pred)\n",
    "    return 2 * ((precision * recall) / (precision + recall + K.epsilon()))"
   ]
  },
  {
   "cell_type": "markdown",
   "metadata": {},
   "source": [
    "Training"
   ]
  },
  {
   "cell_type": "code",
   "execution_count": 14,
   "metadata": {},
   "outputs": [
    {
     "name": "stdout",
     "output_type": "stream",
     "text": [
      "X_train shape: (170125, 50)\n",
      "X_test shape: (56709, 50)\n",
      "Train on 144606 samples, validate on 25519 samples\n",
      "Epoch 1/50\n",
      "144606/144606 [==============================] - 79s 547us/step - loss: 0.2752 - precision: 0.8609 - recall: 0.8777 - f1: 0.8648 - val_loss: 0.2291 - val_precision: 0.8950 - val_recall: 0.8703 - val_f1: 0.8817\n",
      "Epoch 2/50\n",
      "144606/144606 [==============================] - 78s 537us/step - loss: 0.2212 - precision: 0.8886 - recall: 0.8880 - f1: 0.8867 - val_loss: 0.2149 - val_precision: 0.8970 - val_recall: 0.8833 - val_f1: 0.8893\n",
      "Epoch 3/50\n",
      "144606/144606 [==============================] - 77s 535us/step - loss: 0.2098 - precision: 0.8943 - recall: 0.8928 - f1: 0.8922 - val_loss: 0.2095 - val_precision: 0.9036 - val_recall: 0.8815 - val_f1: 0.8916\n",
      "Epoch 4/50\n",
      "144606/144606 [==============================] - 77s 534us/step - loss: 0.2031 - precision: 0.8982 - recall: 0.8975 - f1: 0.8966 - val_loss: 0.2099 - val_precision: 0.9323 - val_recall: 0.8500 - val_f1: 0.8884\n",
      "Epoch 5/50\n",
      "144606/144606 [==============================] - 78s 537us/step - loss: 0.1996 - precision: 0.9011 - recall: 0.9001 - f1: 0.8994 - val_loss: 0.2120 - val_precision: 0.9405 - val_recall: 0.8406 - val_f1: 0.8869\n",
      "Epoch 6/50\n",
      "144606/144606 [==============================] - 77s 534us/step - loss: 0.1950 - precision: 0.9046 - recall: 0.9011 - f1: 0.9018 - val_loss: 0.2003 - val_precision: 0.9160 - val_recall: 0.8795 - val_f1: 0.8967\n",
      "Epoch 7/50\n",
      "144606/144606 [==============================] - 77s 535us/step - loss: 0.1917 - precision: 0.9068 - recall: 0.9030 - f1: 0.9037 - val_loss: 0.1976 - val_precision: 0.9008 - val_recall: 0.9022 - val_f1: 0.9007\n",
      "Epoch 8/50\n",
      "144606/144606 [==============================] - 78s 536us/step - loss: 0.1874 - precision: 0.9097 - recall: 0.9052 - f1: 0.9064 - val_loss: 0.1967 - val_precision: 0.8959 - val_recall: 0.9115 - val_f1: 0.9030\n",
      "Epoch 9/50\n",
      "144606/144606 [==============================] - 78s 537us/step - loss: 0.1849 - precision: 0.9116 - recall: 0.9061 - f1: 0.9078 - val_loss: 0.1958 - val_precision: 0.8988 - val_recall: 0.9099 - val_f1: 0.9036\n",
      "Epoch 10/50\n",
      "144606/144606 [==============================] - 77s 533us/step - loss: 0.1812 - precision: 0.9134 - recall: 0.9101 - f1: 0.9107 - val_loss: 0.2032 - val_precision: 0.8737 - val_recall: 0.9380 - val_f1: 0.9040\n",
      "Epoch 11/50\n",
      "144606/144606 [==============================] - 77s 535us/step - loss: 0.1781 - precision: 0.9156 - recall: 0.9117 - f1: 0.9128 - val_loss: 0.1924 - val_precision: 0.8981 - val_recall: 0.9130 - val_f1: 0.9047\n",
      "Epoch 12/50\n",
      "144606/144606 [==============================] - 77s 536us/step - loss: 0.1745 - precision: 0.9178 - recall: 0.9140 - f1: 0.9151 - val_loss: 0.1940 - val_precision: 0.8878 - val_recall: 0.9242 - val_f1: 0.9050\n",
      "Epoch 13/50\n",
      "144606/144606 [==============================] - 77s 534us/step - loss: 0.1717 - precision: 0.9198 - recall: 0.9153 - f1: 0.9167 - val_loss: 0.1926 - val_precision: 0.8929 - val_recall: 0.9229 - val_f1: 0.9070\n",
      "Epoch 14/50\n",
      "144606/144606 [==============================] - 77s 535us/step - loss: 0.1688 - precision: 0.9225 - recall: 0.9169 - f1: 0.9188 - val_loss: 0.1962 - val_precision: 0.9257 - val_recall: 0.8858 - val_f1: 0.9046\n",
      "Epoch 15/50\n",
      "144606/144606 [==============================] - 77s 535us/step - loss: 0.1647 - precision: 0.9237 - recall: 0.9202 - f1: 0.9212 - val_loss: 0.1923 - val_precision: 0.9189 - val_recall: 0.8930 - val_f1: 0.9051\n",
      "Epoch 16/50\n",
      "144606/144606 [==============================] - 77s 533us/step - loss: 0.1613 - precision: 0.9268 - recall: 0.9215 - f1: 0.9234 - val_loss: 0.2002 - val_precision: 0.8927 - val_recall: 0.9264 - val_f1: 0.9086\n",
      "Epoch 17/50\n",
      "144606/144606 [==============================] - 77s 535us/step - loss: 0.1571 - precision: 0.9292 - recall: 0.9238 - f1: 0.9258 - val_loss: 0.2100 - val_precision: 0.9296 - val_recall: 0.8748 - val_f1: 0.9006\n",
      "Epoch 18/50\n",
      "144606/144606 [==============================] - 77s 534us/step - loss: 0.1533 - precision: 0.9324 - recall: 0.9264 - f1: 0.9286 - val_loss: 0.2019 - val_precision: 0.8980 - val_recall: 0.9176 - val_f1: 0.9070\n",
      "Epoch 19/50\n",
      "144606/144606 [==============================] - 77s 535us/step - loss: 0.1486 - precision: 0.9346 - recall: 0.9283 - f1: 0.9307 - val_loss: 0.2024 - val_precision: 0.9072 - val_recall: 0.9066 - val_f1: 0.9062\n",
      "Epoch 20/50\n",
      "144606/144606 [==============================] - 77s 535us/step - loss: 0.1438 - precision: 0.9369 - recall: 0.9324 - f1: 0.9340 - val_loss: 0.2034 - val_precision: 0.9011 - val_recall: 0.9137 - val_f1: 0.9067\n",
      "Epoch 21/50\n",
      "144606/144606 [==============================] - 77s 536us/step - loss: 0.1393 - precision: 0.9390 - recall: 0.9344 - f1: 0.9361 - val_loss: 0.2138 - val_precision: 0.9146 - val_recall: 0.8995 - val_f1: 0.9063\n",
      "Epoch 22/50\n",
      "144606/144606 [==============================] - 78s 536us/step - loss: 0.1340 - precision: 0.9415 - recall: 0.9380 - f1: 0.9391 - val_loss: 0.2157 - val_precision: 0.9067 - val_recall: 0.9049 - val_f1: 0.9052\n",
      "Epoch 23/50\n",
      "144606/144606 [==============================] - 78s 537us/step - loss: 0.1295 - precision: 0.9434 - recall: 0.9391 - f1: 0.9407 - val_loss: 0.2187 - val_precision: 0.9027 - val_recall: 0.9111 - val_f1: 0.9062\n",
      "Epoch 24/50\n",
      "144606/144606 [==============================] - 77s 536us/step - loss: 0.1240 - precision: 0.9471 - recall: 0.9422 - f1: 0.9441 - val_loss: 0.2246 - val_precision: 0.8982 - val_recall: 0.9097 - val_f1: 0.9033\n",
      "Epoch 25/50\n",
      "144606/144606 [==============================] - 78s 536us/step - loss: 0.1188 - precision: 0.9495 - recall: 0.9455 - f1: 0.9470 - val_loss: 0.2479 - val_precision: 0.9135 - val_recall: 0.8988 - val_f1: 0.9055\n",
      "Epoch 26/50\n",
      "144606/144606 [==============================] - 77s 535us/step - loss: 0.1133 - precision: 0.9522 - recall: 0.9486 - f1: 0.9499 - val_loss: 0.2443 - val_precision: 0.9084 - val_recall: 0.9017 - val_f1: 0.9044\n",
      "Epoch 27/50\n",
      "144606/144606 [==============================] - 77s 536us/step - loss: 0.1078 - precision: 0.9542 - recall: 0.9518 - f1: 0.9525 - val_loss: 0.2643 - val_precision: 0.8995 - val_recall: 0.9109 - val_f1: 0.9046\n",
      "Epoch 28/50\n",
      "144606/144606 [==============================] - 78s 536us/step - loss: 0.1018 - precision: 0.9574 - recall: 0.9542 - f1: 0.9554 - val_loss: 0.2603 - val_precision: 0.9046 - val_recall: 0.9064 - val_f1: 0.9049\n",
      "Epoch 29/50\n",
      "144606/144606 [==============================] - 77s 535us/step - loss: 0.0973 - precision: 0.9596 - recall: 0.9565 - f1: 0.9577 - val_loss: 0.2756 - val_precision: 0.9110 - val_recall: 0.8966 - val_f1: 0.9031\n",
      "Epoch 30/50\n",
      "144606/144606 [==============================] - 78s 536us/step - loss: 0.0918 - precision: 0.9618 - recall: 0.9586 - f1: 0.9598 - val_loss: 0.2922 - val_precision: 0.9165 - val_recall: 0.8891 - val_f1: 0.9019\n",
      "Epoch 31/50\n",
      "144606/144606 [==============================] - 78s 536us/step - loss: 0.0869 - precision: 0.9645 - recall: 0.9617 - f1: 0.9628 - val_loss: 0.3017 - val_precision: 0.9190 - val_recall: 0.8836 - val_f1: 0.9003\n",
      "Epoch 32/50\n",
      "144606/144606 [==============================] - 78s 538us/step - loss: 0.0825 - precision: 0.9667 - recall: 0.9637 - f1: 0.9649 - val_loss: 0.3180 - val_precision: 0.9074 - val_recall: 0.8979 - val_f1: 0.9020\n",
      "Epoch 33/50\n",
      "144606/144606 [==============================] - 77s 535us/step - loss: 0.0762 - precision: 0.9693 - recall: 0.9667 - f1: 0.9677 - val_loss: 0.3311 - val_precision: 0.9047 - val_recall: 0.8994 - val_f1: 0.9014\n",
      "Epoch 34/50\n",
      "144606/144606 [==============================] - 77s 534us/step - loss: 0.0714 - precision: 0.9718 - recall: 0.9687 - f1: 0.9700 - val_loss: 0.3602 - val_precision: 0.9146 - val_recall: 0.8813 - val_f1: 0.8970\n",
      "Epoch 35/50\n",
      "144606/144606 [==============================] - 77s 536us/step - loss: 0.0679 - precision: 0.9733 - recall: 0.9706 - f1: 0.9717 - val_loss: 0.3622 - val_precision: 0.9065 - val_recall: 0.8984 - val_f1: 0.9019\n",
      "Epoch 36/50\n",
      "144606/144606 [==============================] - 77s 533us/step - loss: 0.0629 - precision: 0.9753 - recall: 0.9730 - f1: 0.9739 - val_loss: 0.3790 - val_precision: 0.9160 - val_recall: 0.8801 - val_f1: 0.8970\n",
      "Epoch 37/50\n"
     ]
    },
    {
     "name": "stdout",
     "output_type": "stream",
     "text": [
      "144606/144606 [==============================] - 77s 534us/step - loss: 0.0594 - precision: 0.9768 - recall: 0.9741 - f1: 0.9752 - val_loss: 0.3949 - val_precision: 0.8976 - val_recall: 0.8997 - val_f1: 0.8981\n",
      "Epoch 38/50\n",
      "144606/144606 [==============================] - 77s 535us/step - loss: 0.0566 - precision: 0.9782 - recall: 0.9758 - f1: 0.9768 - val_loss: 0.4240 - val_precision: 0.8931 - val_recall: 0.9089 - val_f1: 0.9003\n",
      "Epoch 39/50\n",
      "144606/144606 [==============================] - 77s 534us/step - loss: 0.0523 - precision: 0.9801 - recall: 0.9782 - f1: 0.9790 - val_loss: 0.4468 - val_precision: 0.9048 - val_recall: 0.8949 - val_f1: 0.8992\n",
      "Epoch 40/50\n",
      "144606/144606 [==============================] - 77s 534us/step - loss: 0.0489 - precision: 0.9818 - recall: 0.9797 - f1: 0.9806 - val_loss: 0.4578 - val_precision: 0.9058 - val_recall: 0.8932 - val_f1: 0.8989\n",
      "Epoch 41/50\n",
      "144606/144606 [==============================] - 77s 535us/step - loss: 0.0460 - precision: 0.9822 - recall: 0.9809 - f1: 0.9814 - val_loss: 0.5030 - val_precision: 0.9001 - val_recall: 0.9019 - val_f1: 0.9004\n",
      "Epoch 42/50\n",
      "144606/144606 [==============================] - 77s 535us/step - loss: 0.0432 - precision: 0.9834 - recall: 0.9817 - f1: 0.9824 - val_loss: 0.4837 - val_precision: 0.8867 - val_recall: 0.9111 - val_f1: 0.8980\n",
      "Epoch 43/50\n",
      "144606/144606 [==============================] - 77s 536us/step - loss: 0.0407 - precision: 0.9841 - recall: 0.9831 - f1: 0.9834 - val_loss: 0.5080 - val_precision: 0.8921 - val_recall: 0.9043 - val_f1: 0.8975\n",
      "Epoch 44/50\n",
      "144606/144606 [==============================] - 77s 534us/step - loss: 0.0373 - precision: 0.9860 - recall: 0.9844 - f1: 0.9851 - val_loss: 0.5255 - val_precision: 0.9069 - val_recall: 0.8898 - val_f1: 0.8976\n",
      "Epoch 45/50\n",
      "144606/144606 [==============================] - 77s 531us/step - loss: 0.0360 - precision: 0.9863 - recall: 0.9852 - f1: 0.9856 - val_loss: 0.5554 - val_precision: 0.8853 - val_recall: 0.9113 - val_f1: 0.8975\n",
      "Epoch 46/50\n",
      "144606/144606 [==============================] - 77s 534us/step - loss: 0.0339 - precision: 0.9876 - recall: 0.9862 - f1: 0.9868 - val_loss: 0.5708 - val_precision: 0.9129 - val_recall: 0.8770 - val_f1: 0.8938\n",
      "Epoch 47/50\n",
      "144606/144606 [==============================] - 77s 533us/step - loss: 0.0319 - precision: 0.9881 - recall: 0.9869 - f1: 0.9874 - val_loss: 0.5820 - val_precision: 0.8957 - val_recall: 0.9011 - val_f1: 0.8977\n",
      "Epoch 48/50\n",
      "144606/144606 [==============================] - 77s 533us/step - loss: 0.0304 - precision: 0.9887 - recall: 0.9879 - f1: 0.9882 - val_loss: 0.5941 - val_precision: 0.9054 - val_recall: 0.8926 - val_f1: 0.8982\n",
      "Epoch 49/50\n",
      "144606/144606 [==============================] - 77s 534us/step - loss: 0.0292 - precision: 0.9891 - recall: 0.9883 - f1: 0.9886 - val_loss: 0.6205 - val_precision: 0.8909 - val_recall: 0.9010 - val_f1: 0.8952\n",
      "Epoch 50/50\n",
      "144606/144606 [==============================] - 77s 534us/step - loss: 0.0277 - precision: 0.9896 - recall: 0.9889 - f1: 0.9892 - val_loss: 0.6435 - val_precision: 0.9126 - val_recall: 0.8765 - val_f1: 0.8934\n"
     ]
    }
   ],
   "source": [
    "maxlen = 50\n",
    "batch_size = 128\n",
    "epochs = 50\n",
    "\n",
    "X_train = sequence.pad_sequences(X_train, maxlen=maxlen)\n",
    "X_test = sequence.pad_sequences(X_test, maxlen=maxlen)\n",
    "print('X_train shape:', X_train.shape)\n",
    "print('X_test shape:', X_test.shape)\n",
    "y_train = np.array(y_train)\n",
    "y_test = np.array(y_test)\n",
    "\n",
    "model = Sequential()\n",
    "model.add(fasttext.get_keras_embedding())\n",
    "model.add(Bidirectional(LSTM(64)))\n",
    "model.add(Dropout(0.3))\n",
    "model.add(Dense(1, activation='sigmoid'))\n",
    "\n",
    "callbacks = [ModelCheckpoint(filepath='trained_models/fasttext_bilstm.h5', \n",
    "                             monitor='val_loss', \n",
    "                             save_best_only=True)\n",
    "            ]\n",
    "model.compile('adadelta', 'binary_crossentropy', metrics=[precision, recall, f1])\n",
    "history = model.fit(X_train, y_train, batch_size=batch_size, epochs=epochs, \n",
    "                    validation_split=0.15, \n",
    "                    callbacks=callbacks)"
   ]
  },
  {
   "cell_type": "markdown",
   "metadata": {},
   "source": [
    "Some plots"
   ]
  },
  {
   "cell_type": "code",
   "execution_count": 15,
   "metadata": {},
   "outputs": [
    {
     "data": {
      "image/png": "[encoded data removed]",
      "text/plain": [
       "<Figure size 432x288 with 1 Axes>"
      ]
     },
     "metadata": {
      "needs_background": "light"
     },
     "output_type": "display_data"
    }
   ],
   "source": [
    "plt.plot(history.history['f1'])\n",
    "plt.plot(history.history['val_f1'])\n",
    "plt.title('Model F1')\n",
    "plt.ylabel('F1')\n",
    "plt.xlabel('Epoch')\n",
    "plt.legend(['Train', 'Validation'], loc='upper left')\n",
    "plt.show()"
   ]
  },
  {
   "cell_type": "code",
   "execution_count": 16,
   "metadata": {},
   "outputs": [
    {
     "data": {
      "image/png": "[encoded data removed]",
      "text/plain": [
       "<Figure size 432x288 with 1 Axes>"
      ]
     },
     "metadata": {
      "needs_background": "light"
     },
     "output_type": "display_data"
    }
   ],
   "source": [
    "plt.plot(history.history['precision'])\n",
    "plt.plot(history.history['val_precision'])\n",
    "plt.title('Model precision')\n",
    "plt.ylabel('Precision')\n",
    "plt.xlabel('Epoch')\n",
    "plt.legend(['Train', 'Validation'], loc='upper left')\n",
    "plt.show()"
   ]
  },
  {
   "cell_type": "code",
   "execution_count": 17,
   "metadata": {},
   "outputs": [
    {
     "data": {
      "image/png": "[encoded data removed]",
      "text/plain": [
       "<Figure size 432x288 with 1 Axes>"
      ]
     },
     "metadata": {
      "needs_background": "light"
     },
     "output_type": "display_data"
    }
   ],
   "source": [
    "plt.plot(history.history['recall'])\n",
    "plt.plot(history.history['val_recall'])\n",
    "plt.title('Model recall')\n",
    "plt.ylabel('Recall')\n",
    "plt.xlabel('Epoch')\n",
    "plt.legend(['Train', 'Validation'], loc='upper left')\n",
    "plt.show()"
   ]
  },
  {
   "cell_type": "code",
   "execution_count": 18,
   "metadata": {},
   "outputs": [
    {
     "data": {
      "image/png": "[encoded data removed]",
      "text/plain": [
       "<Figure size 432x288 with 1 Axes>"
      ]
     },
     "metadata": {
      "needs_background": "light"
     },
     "output_type": "display_data"
    }
   ],
   "source": [
    "plt.plot(history.history['loss'])\n",
    "plt.plot(history.history['val_loss'])\n",
    "plt.title('Model loss')\n",
    "plt.ylabel('Loss')\n",
    "plt.xlabel('Epoch')\n",
    "plt.legend(['Train', 'Validation'], loc='upper right')\n",
    "plt.show()"
   ]
  },
  {
   "cell_type": "markdown",
   "metadata": {},
   "source": [
    "Test scores"
   ]
  },
  {
   "cell_type": "code",
   "execution_count": 19,
   "metadata": {},
   "outputs": [
    {
     "name": "stdout",
     "output_type": "stream",
     "text": [
      "              precision    recall  f1-score   support\n",
      "\n",
      "           0       0.88      0.91      0.89     28011\n",
      "           1       0.91      0.88      0.89     28698\n",
      "\n",
      "    accuracy                           0.89     56709\n",
      "   macro avg       0.89      0.89      0.89     56709\n",
      "weighted avg       0.89      0.89      0.89     56709\n",
      "\n"
     ]
    }
   ],
   "source": [
    "from sklearn.metrics import classification_report\n",
    "\n",
    "print(classification_report(y_test, model.predict_classes(X_test)))"
   ]
  },
  {
   "cell_type": "code",
   "execution_count": null,
   "metadata": {},
   "outputs": [],
   "source": []
  }
 ],
 "metadata": {
  "kernelspec": {
   "display_name": "Python 3",
   "language": "python",
   "name": "python3"
  },
  "language_info": {
   "codemirror_mode": {
    "name": "ipython",
    "version": 3
   },
   "file_extension": ".py",
   "mimetype": "text/x-python",
   "name": "python",
   "nbconvert_exporter": "python",
   "pygments_lexer": "ipython3",
   "version": "3.6.7"
  },
  "pycharm": {
   "stem_cell": {
    "cell_type": "raw",
    "metadata": {
     "collapsed": false
    },
    "source": []
   }
  }
 },
 "nbformat": 4,
 "nbformat_minor": 2
}
