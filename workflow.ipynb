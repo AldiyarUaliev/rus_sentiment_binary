{
 "cells": [
  {
   "cell_type": "code",
   "execution_count": 1,
   "metadata": {},
   "outputs": [
    {
     "name": "stderr",
     "output_type": "stream",
     "text": [
      "Using TensorFlow backend.\n"
     ]
    }
   ],
   "source": [
    "import re\n",
    "from nltk.tokenize.casual import TweetTokenizer\n",
    "from gensim.models import KeyedVectors\n",
    "import pandas as pd\n",
    "import numpy as np\n",
    "from sklearn.model_selection import train_test_split\n",
    "import matplotlib.pyplot as plt\n",
    "\n",
    "from keras.preprocessing import sequence\n",
    "from keras.models import Sequential\n",
    "from keras.layers import Dense, Dropout, Embedding, LSTM, Bidirectional\n",
    "from keras.callbacks import EarlyStopping, ModelCheckpoint\n",
    "from keras import backend as K\n",
    "\n",
    "%matplotlib inline"
   ]
  },
  {
   "cell_type": "markdown",
   "metadata": {},
   "source": [
    "Load words embeddings (FastText trained over VK posts)"
   ]
  },
  {
   "cell_type": "code",
   "execution_count": 2,
   "metadata": {},
   "outputs": [
    {
     "name": "stderr",
     "output_type": "stream",
     "text": [
      "c:\\users\\alex\\venv-3.6.8\\lib\\site-packages\\smart_open\\smart_open_lib.py:402: UserWarning: This function is deprecated, use smart_open.open instead. See the migration notes for details: https://github.com/RaRe-Technologies/smart_open/blob/master/README.rst#migrating-to-the-new-open-function\n",
      "  'See the migration notes for details: %s' % _MIGRATION_NOTES_URL\n"
     ]
    },
    {
     "data": {
      "text/plain": [
       "[('котейко', 0.7458697557449341),\n",
       " ('Котейка', 0.7427492141723633),\n",
       " ('котейки', 0.6791476011276245),\n",
       " ('котейкой', 0.6727944612503052),\n",
       " ('кошак', 0.6622782945632935),\n",
       " ('котэ', 0.6595468521118164),\n",
       " ('совушка', 0.658632755279541),\n",
       " ('киса', 0.642015278339386),\n",
       " ('котейку', 0.633861243724823),\n",
       " ('собакадругчеловека', 0.6230987310409546)]"
      ]
     },
     "execution_count": 2,
     "metadata": {},
     "output_type": "execute_result"
    }
   ],
   "source": [
    "fasttext = KeyedVectors.load_word2vec_format('embeddings/fasttext_big_300d.vec')\n",
    "fasttext.most_similar('котейка')"
   ]
  },
  {
   "cell_type": "code",
   "execution_count": 3,
   "metadata": {},
   "outputs": [
    {
     "data": {
      "text/plain": [
       "[('cats', 0.8391395211219788),\n",
       " ('kitten', 0.8023779988288879),\n",
       " ('dog', 0.7982020378112793),\n",
       " ('kittens', 0.7829532623291016),\n",
       " ('pet', 0.7627919912338257),\n",
       " ('kitty', 0.7567681074142456),\n",
       " ('catsagram', 0.7563411593437195),\n",
       " ('catstagram', 0.75223708152771),\n",
       " ('petstagram', 0.7464101314544678),\n",
       " ('catsofinstagram', 0.7379685640335083)]"
      ]
     },
     "execution_count": 3,
     "metadata": {},
     "output_type": "execute_result"
    }
   ],
   "source": [
    "fasttext.most_similar('cat')"
   ]
  },
  {
   "cell_type": "markdown",
   "metadata": {},
   "source": [
    "Load tweets (https://study.mokoron.com/)"
   ]
  },
  {
   "cell_type": "code",
   "execution_count": 4,
   "metadata": {},
   "outputs": [
    {
     "data": {
      "text/html": [
       "<div>\n",
       "<style scoped>\n",
       "    .dataframe tbody tr th:only-of-type {\n",
       "        vertical-align: middle;\n",
       "    }\n",
       "\n",
       "    .dataframe tbody tr th {\n",
       "        vertical-align: top;\n",
       "    }\n",
       "\n",
       "    .dataframe thead th {\n",
       "        text-align: right;\n",
       "    }\n",
       "</style>\n",
       "<table border=\"1\" class=\"dataframe\">\n",
       "  <thead>\n",
       "    <tr style=\"text-align: right;\">\n",
       "      <th></th>\n",
       "      <th>text</th>\n",
       "      <th>class</th>\n",
       "    </tr>\n",
       "  </thead>\n",
       "  <tbody>\n",
       "    <tr>\n",
       "      <th>0</th>\n",
       "      <td>RT @MsTrigon: Кому твит с новогодней картинкой?)#RT</td>\n",
       "      <td>1</td>\n",
       "    </tr>\n",
       "    <tr>\n",
       "      <th>1</th>\n",
       "      <td>Кстате, FTS больше нет, теперь наша необщедоступная команда разработчиков называется FDDP:) http://t.co/v8LRUhloTA</td>\n",
       "      <td>1</td>\n",
       "    </tr>\n",
       "    <tr>\n",
       "      <th>2</th>\n",
       "      <td>RT @AlyonaNabrina: Понять не могу или триндцатилетние девочки рано повзрослели, или я не развиваюсь:))</td>\n",
       "      <td>1</td>\n",
       "    </tr>\n",
       "    <tr>\n",
       "      <th>3</th>\n",
       "      <td>Дочитала Героев нашего времени.Всем советую.Конец только грустный(</td>\n",
       "      <td>0</td>\n",
       "    </tr>\n",
       "    <tr>\n",
       "      <th>4</th>\n",
       "      <td>@ALehnsherr ну догадайся кто у нас славится))\\nа я узнаю так поздно)</td>\n",
       "      <td>1</td>\n",
       "    </tr>\n",
       "    <tr>\n",
       "      <th>5</th>\n",
       "      <td>Ну и когда за окном плюс 1 и почти нет снега, нет рекламы кока-колы, один дома по телеку, елки, питард - праздника не будет(((</td>\n",
       "      <td>0</td>\n",
       "    </tr>\n",
       "    <tr>\n",
       "      <th>6</th>\n",
       "      <td>Этот неловкий момент, когда я отписалась от Кадони оО ну реально задолбал херню писать. Прошла любовь (</td>\n",
       "      <td>0</td>\n",
       "    </tr>\n",
       "    <tr>\n",
       "      <th>7</th>\n",
       "      <td>#TвитCоCтрокойИзПесни1D для @BirdAdele:)\\nWhenever I close my eyes,I picture you there\\nВсякийРаз,когдаЯзакрываю глаза,яПредставляю тебя рядом</td>\n",
       "      <td>1</td>\n",
       "    </tr>\n",
       "    <tr>\n",
       "      <th>8</th>\n",
       "      <td>Толстых вышел вручать приз и завёл долгую речь))) #перваяпятёрка</td>\n",
       "      <td>1</td>\n",
       "    </tr>\n",
       "    <tr>\n",
       "      <th>9</th>\n",
       "      <td>Пятница. Народ закупается шашлыками и алкоголем. А я на работе..эх(</td>\n",
       "      <td>0</td>\n",
       "    </tr>\n",
       "  </tbody>\n",
       "</table>\n",
       "</div>"
      ],
      "text/plain": [
       "                                                                                                                                             text  \\\n",
       "0  RT @MsTrigon: Кому твит с новогодней картинкой?)#RT                                                                                              \n",
       "1  Кстате, FTS больше нет, теперь наша необщедоступная команда разработчиков называется FDDP:) http://t.co/v8LRUhloTA                               \n",
       "2  RT @AlyonaNabrina: Понять не могу или триндцатилетние девочки рано повзрослели, или я не развиваюсь:))                                           \n",
       "3  Дочитала Героев нашего времени.Всем советую.Конец только грустный(                                                                               \n",
       "4  @ALehnsherr ну догадайся кто у нас славится))\\nа я узнаю так поздно)                                                                             \n",
       "5  Ну и когда за окном плюс 1 и почти нет снега, нет рекламы кока-колы, один дома по телеку, елки, питард - праздника не будет(((                   \n",
       "6  Этот неловкий момент, когда я отписалась от Кадони оО ну реально задолбал херню писать. Прошла любовь (                                          \n",
       "7  #TвитCоCтрокойИзПесни1D для @BirdAdele:)\\nWhenever I close my eyes,I picture you there\\nВсякийРаз,когдаЯзакрываю глаза,яПредставляю тебя рядом   \n",
       "8  Толстых вышел вручать приз и завёл долгую речь))) #перваяпятёрка                                                                                 \n",
       "9  Пятница. Народ закупается шашлыками и алкоголем. А я на работе..эх(                                                                              \n",
       "\n",
       "   class  \n",
       "0  1      \n",
       "1  1      \n",
       "2  1      \n",
       "3  0      \n",
       "4  1      \n",
       "5  0      \n",
       "6  0      \n",
       "7  1      \n",
       "8  1      \n",
       "9  0      "
      ]
     },
     "execution_count": 4,
     "metadata": {},
     "output_type": "execute_result"
    }
   ],
   "source": [
    "pd.set_option('max_colwidth', -1)\n",
    "\n",
    "negative = pd.read_csv('datasets/negative.csv', header=None, sep=';', usecols=[3])\n",
    "negative['class'] = 0\n",
    "positive = pd.read_csv('datasets/positive.csv', header=None, sep=';', usecols=[3])\n",
    "positive['class'] = 1\n",
    "df = pd.concat([negative, positive], ignore_index=True, copy=False)\n",
    "df = df.sample(frac=1).reset_index(drop=True)\n",
    "df.rename(columns={3: 'text'}, inplace=True)\n",
    "df.head(n=10)"
   ]
  },
  {
   "cell_type": "code",
   "execution_count": 5,
   "metadata": {},
   "outputs": [
    {
     "data": {
      "text/plain": [
       "<matplotlib.axes._subplots.AxesSubplot at 0x1ca3e8b1320>"
      ]
     },
     "execution_count": 5,
     "metadata": {},
     "output_type": "execute_result"
    },
    {
     "data": {
      "image/png": "[encoded data removed]",
      "text/plain": [
       "<Figure size 432x288 with 1 Axes>"
      ]
     },
     "metadata": {
      "needs_background": "light"
     },
     "output_type": "display_data"
    }
   ],
   "source": [
    "df['class'].hist()"
   ]
  },
  {
   "cell_type": "code",
   "execution_count": 6,
   "metadata": {},
   "outputs": [
    {
     "data": {
      "text/plain": [
       "1    114911\n",
       "0    111923\n",
       "Name: class, dtype: int64"
      ]
     },
     "execution_count": 6,
     "metadata": {},
     "output_type": "execute_result"
    }
   ],
   "source": [
    "df['class'].value_counts()"
   ]
  },
  {
   "cell_type": "markdown",
   "metadata": {},
   "source": [
    "Clean text"
   ]
  },
  {
   "cell_type": "code",
   "execution_count": 7,
   "metadata": {},
   "outputs": [],
   "source": [
    "def preprocess_text(text):\n",
    "    # Lower text\n",
    "    text = text.lower()\n",
    "    # Remove URLs\n",
    "    text = re.sub(r\"http\\S+\", \"\", text)\n",
    "    # Remove @ mentions\n",
    "    text = re.sub(r\"@\\S+\", \"\", text)\n",
    "    # Remove hashtags\n",
    "    text = re.sub(r\"#\\S+\", \"\", text)\n",
    "    # Remove rt (retweets)\n",
    "    text = re.sub(\"rt\", \"\", text)\n",
    "    # Remove unneeded symbols\n",
    "    text = re.sub(r\"[/~/`/@/#/$/%/&/-/_/+/,/.]\", \"\", text)\n",
    "    # Remove extra spaces\n",
    "    text = re.sub(\" +\", ' ', text)\n",
    "    \n",
    "    return text"
   ]
  },
  {
   "cell_type": "code",
   "execution_count": 8,
   "metadata": {},
   "outputs": [],
   "source": [
    "tweet_tokenizer = TweetTokenizer()\n",
    "X = []\n",
    "y = []\n",
    "\n",
    "for _, row in df.iterrows():\n",
    "    txt = preprocess_text(row['text'])\n",
    "    tokenized_text = ''\n",
    "    try:\n",
    "        tokenized_text = tweet_tokenizer.tokenize(txt)\n",
    "    except:\n",
    "        continue\n",
    "    replaced_by_num = [fasttext.vocab[word].index for word in tokenized_text if word in fasttext.vocab]\n",
    "    X.append(replaced_by_num)\n",
    "    y.append(row['class'])"
   ]
  },
  {
   "cell_type": "markdown",
   "metadata": {},
   "source": [
    "The longest sentence length"
   ]
  },
  {
   "cell_type": "code",
   "execution_count": 9,
   "metadata": {},
   "outputs": [
    {
     "data": {
      "text/plain": [
       "47"
      ]
     },
     "execution_count": 9,
     "metadata": {},
     "output_type": "execute_result"
    }
   ],
   "source": [
    "max([len(x) for x in X])"
   ]
  },
  {
   "cell_type": "markdown",
   "metadata": {},
   "source": [
    "Divide data into the train and test"
   ]
  },
  {
   "cell_type": "code",
   "execution_count": 10,
   "metadata": {},
   "outputs": [],
   "source": [
    "X_train, X_test, y_train, y_test = train_test_split(X, y, test_size=0.3, shuffle=True, \n",
    "                                                    random_state=42)"
   ]
  },
  {
   "cell_type": "markdown",
   "metadata": {},
   "source": [
    "Embedding layer params"
   ]
  },
  {
   "cell_type": "code",
   "execution_count": 11,
   "metadata": {},
   "outputs": [
    {
     "name": "stdout",
     "output_type": "stream",
     "text": [
      "WARNING:tensorflow:From c:\\users\\alex\\venv-3.6.8\\lib\\site-packages\\keras\\backend\\tensorflow_backend.py:74: The name tf.get_default_graph is deprecated. Please use tf.compat.v1.get_default_graph instead.\n",
      "\n"
     ]
    },
    {
     "data": {
      "text/plain": [
       "{'name': 'embedding_1',\n",
       " 'trainable': False,\n",
       " 'batch_input_shape': (None, None),\n",
       " 'dtype': 'float32',\n",
       " 'input_dim': 507470,\n",
       " 'output_dim': 300,\n",
       " 'embeddings_initializer': {'class_name': 'RandomUniform',\n",
       "  'config': {'minval': -0.05, 'maxval': 0.05, 'seed': None}},\n",
       " 'embeddings_regularizer': None,\n",
       " 'activity_regularizer': None,\n",
       " 'embeddings_constraint': None,\n",
       " 'mask_zero': False,\n",
       " 'input_length': None}"
      ]
     },
     "execution_count": 11,
     "metadata": {},
     "output_type": "execute_result"
    }
   ],
   "source": [
    "fasttext.get_keras_embedding().get_config()"
   ]
  },
  {
   "cell_type": "code",
   "execution_count": 12,
   "metadata": {},
   "outputs": [],
   "source": [
    "def precision(y_true, y_pred):\n",
    "    \"\"\"Precision metric.\n",
    "\n",
    "    Only computes a batch-wise average of precision.\n",
    "\n",
    "    Computes the precision, a metric for multi-label classification of\n",
    "    how many selected items are relevant.\n",
    "    \"\"\"\n",
    "    true_positives = K.sum(K.round(K.clip(y_true * y_pred, 0, 1)))\n",
    "    predicted_positives = K.sum(K.round(K.clip(y_pred, 0, 1)))\n",
    "    precision = true_positives / (predicted_positives + K.epsilon())\n",
    "    return precision\n",
    "\n",
    "\n",
    "def recall(y_true, y_pred):\n",
    "    \"\"\"Recall metric.\n",
    "\n",
    "    Only computes a batch-wise average of recall.\n",
    "\n",
    "    Computes the recall, a metric for multi-label classification of\n",
    "    how many relevant items are selected.\n",
    "    \"\"\"\n",
    "    true_positives = K.sum(K.round(K.clip(y_true * y_pred, 0, 1)))\n",
    "    possible_positives = K.sum(K.round(K.clip(y_true, 0, 1)))\n",
    "    recall = true_positives / (possible_positives + K.epsilon())\n",
    "    return recall\n",
    "\n",
    "\n",
    "def f1(y_true, y_pred):\n",
    "    def recall(y_true, y_pred):\n",
    "        \"\"\"Recall metric.\n",
    "\n",
    "        Only computes a batch-wise average of recall.\n",
    "\n",
    "        Computes the recall, a metric for multi-label classification of\n",
    "        how many relevant items are selected.\n",
    "        \"\"\"\n",
    "        true_positives = K.sum(K.round(K.clip(y_true * y_pred, 0, 1)))\n",
    "        possible_positives = K.sum(K.round(K.clip(y_true, 0, 1)))\n",
    "        recall = true_positives / (possible_positives + K.epsilon())\n",
    "        return recall\n",
    "\n",
    "    def precision(y_true, y_pred):\n",
    "        \"\"\"Precision metric.\n",
    "\n",
    "        Only computes a batch-wise average of precision.\n",
    "\n",
    "        Computes the precision, a metric for multi-label classification of\n",
    "        how many selected items are relevant.\n",
    "        \"\"\"\n",
    "        true_positives = K.sum(K.round(K.clip(y_true * y_pred, 0, 1)))\n",
    "        predicted_positives = K.sum(K.round(K.clip(y_pred, 0, 1)))\n",
    "        precision = true_positives / (predicted_positives + K.epsilon())\n",
    "        return precision\n",
    "\n",
    "    precision = precision(y_true, y_pred)\n",
    "    recall = recall(y_true, y_pred)\n",
    "    return 2 * ((precision * recall) / (precision + recall + K.epsilon()))"
   ]
  },
  {
   "cell_type": "markdown",
   "metadata": {},
   "source": [
    "BiLSTM model fitting"
   ]
  },
  {
   "cell_type": "code",
   "execution_count": 13,
   "metadata": {},
   "outputs": [
    {
     "name": "stdout",
     "output_type": "stream",
     "text": [
      "X_train shape: (158783, 100)\n",
      "X_test shape: (68051, 100)\n",
      "WARNING:tensorflow:From c:\\users\\alex\\venv-3.6.8\\lib\\site-packages\\keras\\backend\\tensorflow_backend.py:517: The name tf.placeholder is deprecated. Please use tf.compat.v1.placeholder instead.\n",
      "\n",
      "WARNING:tensorflow:From c:\\users\\alex\\venv-3.6.8\\lib\\site-packages\\keras\\backend\\tensorflow_backend.py:4138: The name tf.random_uniform is deprecated. Please use tf.random.uniform instead.\n",
      "\n",
      "WARNING:tensorflow:From c:\\users\\alex\\venv-3.6.8\\lib\\site-packages\\keras\\backend\\tensorflow_backend.py:174: The name tf.get_default_session is deprecated. Please use tf.compat.v1.get_default_session instead.\n",
      "\n",
      "WARNING:tensorflow:From c:\\users\\alex\\venv-3.6.8\\lib\\site-packages\\keras\\backend\\tensorflow_backend.py:181: The name tf.ConfigProto is deprecated. Please use tf.compat.v1.ConfigProto instead.\n",
      "\n",
      "WARNING:tensorflow:From c:\\users\\alex\\venv-3.6.8\\lib\\site-packages\\keras\\backend\\tensorflow_backend.py:3445: calling dropout (from tensorflow.python.ops.nn_ops) with keep_prob is deprecated and will be removed in a future version.\n",
      "Instructions for updating:\n",
      "Please use `rate` instead of `keep_prob`. Rate should be set to `rate = 1 - keep_prob`.\n",
      "WARNING:tensorflow:From c:\\users\\alex\\venv-3.6.8\\lib\\site-packages\\keras\\optimizers.py:790: The name tf.train.Optimizer is deprecated. Please use tf.compat.v1.train.Optimizer instead.\n",
      "\n",
      "WARNING:tensorflow:From c:\\users\\alex\\venv-3.6.8\\lib\\site-packages\\tensorflow\\python\\ops\\nn_impl.py:180: add_dispatch_support.<locals>.wrapper (from tensorflow.python.ops.array_ops) is deprecated and will be removed in a future version.\n",
      "Instructions for updating:\n",
      "Use tf.where in 2.0, which has the same broadcast rule as np.where\n",
      "Train on 134965 samples, validate on 23818 samples\n",
      "Epoch 1/10\n",
      "134965/134965 [==============================] - 1411s 10ms/step - loss: 0.2249 - precision: 0.8865 - recall: 0.8836 - f1: 0.8801 - val_loss: 0.2005 - val_precision: 0.8774 - val_recall: 0.9253 - val_f1: 0.8977\n",
      "Epoch 2/10\n",
      "134965/134965 [==============================] - 2250s 17ms/step - loss: 0.1949 - precision: 0.9052 - recall: 0.8998 - f1: 0.8991 - val_loss: 0.1928 - val_precision: 0.9081 - val_recall: 0.9005 - val_f1: 0.9014\n"
     ]
    }
   ],
   "source": [
    "maxlen = 100\n",
    "batch_size = 32\n",
    "\n",
    "X_train = sequence.pad_sequences(X_train, maxlen=maxlen)\n",
    "X_test = sequence.pad_sequences(X_test, maxlen=maxlen)\n",
    "print('X_train shape:', X_train.shape)\n",
    "print('X_test shape:', X_test.shape)\n",
    "y_train = np.array(y_train)\n",
    "y_test = np.array(y_test)\n",
    "\n",
    "model = Sequential()\n",
    "model.add(fasttext.get_keras_embedding())\n",
    "model.add(Bidirectional(LSTM(128)))\n",
    "model.add(Dropout(0.3))\n",
    "model.add(Dense(1, activation='sigmoid'))\n",
    "\n",
    "callbacks = [EarlyStopping(monitor='val_f1', patience=1, min_delta=0.005),\n",
    "             ModelCheckpoint(filepath='trained_models/fasttext_bilstm.h5', \n",
    "                             monitor='val_loss', \n",
    "                             save_best_only=True)]\n",
    "model.compile('adam', 'binary_crossentropy', metrics=[precision, recall, f1])\n",
    "history = model.fit(X_train, y_train, batch_size=batch_size, epochs=10, \n",
    "                    validation_split=0.15, \n",
    "                    callbacks=callbacks)"
   ]
  },
  {
   "cell_type": "markdown",
   "metadata": {},
   "source": [
    "Fitting plots"
   ]
  },
  {
   "cell_type": "code",
   "execution_count": 14,
   "metadata": {},
   "outputs": [
    {
     "data": {
      "image/png": "[encoded data removed]",
      "text/plain": [
       "<Figure size 432x288 with 1 Axes>"
      ]
     },
     "metadata": {
      "needs_background": "light"
     },
     "output_type": "display_data"
    }
   ],
   "source": [
    "plt.plot(history.history['f1'])\n",
    "plt.plot(history.history['val_f1'])\n",
    "plt.title('Model F1')\n",
    "plt.ylabel('F1')\n",
    "plt.xlabel('Epoch')\n",
    "plt.legend(['Train', 'Validation'], loc='upper left')\n",
    "plt.show()"
   ]
  },
  {
   "cell_type": "code",
   "execution_count": 15,
   "metadata": {},
   "outputs": [
    {
     "data": {
      "image/png": "[encoded data removed]",
      "text/plain": [
       "<Figure size 432x288 with 1 Axes>"
      ]
     },
     "metadata": {
      "needs_background": "light"
     },
     "output_type": "display_data"
    }
   ],
   "source": [
    "plt.plot(history.history['precision'])\n",
    "plt.plot(history.history['val_precision'])\n",
    "plt.title('Model precision')\n",
    "plt.ylabel('Precision')\n",
    "plt.xlabel('Epoch')\n",
    "plt.legend(['Train', 'Validation'], loc='upper left')\n",
    "plt.show()"
   ]
  },
  {
   "cell_type": "code",
   "execution_count": 16,
   "metadata": {},
   "outputs": [
    {
     "data": {
      "image/png": "[encoded data removed]",
      "text/plain": [
       "<Figure size 432x288 with 1 Axes>"
      ]
     },
     "metadata": {
      "needs_background": "light"
     },
     "output_type": "display_data"
    }
   ],
   "source": [
    "plt.plot(history.history['recall'])\n",
    "plt.plot(history.history['val_recall'])\n",
    "plt.title('Model recall')\n",
    "plt.ylabel('Recall')\n",
    "plt.xlabel('Epoch')\n",
    "plt.legend(['Train', 'Validation'], loc='upper left')\n",
    "plt.show()"
   ]
  },
  {
   "cell_type": "code",
   "execution_count": 17,
   "metadata": {},
   "outputs": [
    {
     "data": {
      "image/png": "[encoded data removed]",
      "text/plain": [
       "<Figure size 432x288 with 1 Axes>"
      ]
     },
     "metadata": {
      "needs_background": "light"
     },
     "output_type": "display_data"
    }
   ],
   "source": [
    "plt.plot(history.history['loss'])\n",
    "plt.plot(history.history['val_loss'])\n",
    "plt.title('Model loss')\n",
    "plt.ylabel('Loss')\n",
    "plt.xlabel('Epoch')\n",
    "plt.legend(['Train', 'Validation'], loc='upper right')\n",
    "plt.show()"
   ]
  },
  {
   "cell_type": "markdown",
   "metadata": {},
   "source": [
    "Test scores"
   ]
  },
  {
   "cell_type": "code",
   "execution_count": 18,
   "metadata": {},
   "outputs": [
    {
     "name": "stdout",
     "output_type": "stream",
     "text": [
      "              precision    recall  f1-score   support\n",
      "\n",
      "           0       0.90      0.90      0.90     33592\n",
      "           1       0.90      0.90      0.90     34459\n",
      "\n",
      "    accuracy                           0.90     68051\n",
      "   macro avg       0.90      0.90      0.90     68051\n",
      "weighted avg       0.90      0.90      0.90     68051\n",
      "\n"
     ]
    }
   ],
   "source": [
    "from sklearn.metrics import classification_report\n",
    "\n",
    "print(classification_report(y_test, model.predict_classes(X_test)))"
   ]
  },
  {
   "cell_type": "markdown",
   "metadata": {},
   "source": [
    "Concrete examples"
   ]
  },
  {
   "cell_type": "code",
   "execution_count": 19,
   "metadata": {},
   "outputs": [],
   "source": [
    "def encode_text(text):\n",
    "    preprocessed_text = preprocess_text(text)\n",
    "    tokenized_text = tweet_tokenizer.tokenize(preprocessed_text)\n",
    "    replaced_by_num = [fasttext.vocab[word].index for word in tokenized_text if word in fasttext.vocab]\n",
    "    encoded = sequence.pad_sequences([replaced_by_num], maxlen=maxlen)\n",
    "    \n",
    "    return encoded"
   ]
  },
  {
   "cell_type": "code",
   "execution_count": 20,
   "metadata": {},
   "outputs": [
    {
     "name": "stdout",
     "output_type": "stream",
     "text": [
      "я так рад тебя видеть [[0.6500975]]\n",
      "я так рад тебя видеть) [[0.99972266]]\n",
      "я так рад тебя видеть))) [[0.9999981]]\n"
     ]
    }
   ],
   "source": [
    "positive_without_smiles = \"я так рад тебя видеть\"\n",
    "positive_with_smiles = \"я так рад тебя видеть)\"\n",
    "positive_with_many_smiles = \"я так рад тебя видеть)))\"\n",
    "\n",
    "print(positive_without_smiles, model.predict(encode_text(positive_without_smiles)))\n",
    "print(positive_with_smiles, model.predict(encode_text(positive_with_smiles)))\n",
    "print(positive_with_many_smiles, model.predict(encode_text(positive_with_many_smiles)))"
   ]
  },
  {
   "cell_type": "code",
   "execution_count": 21,
   "metadata": {},
   "outputs": [
    {
     "name": "stdout",
     "output_type": "stream",
     "text": [
      "мы недовольны твоей работой. ты плохой работник [[0.35039848]]\n",
      "мы недовольны твоей работой. ты плохой работник( [[8.55082e-05]]\n",
      "мы недовольны твоей работой. ты плохой работник((( [[2.7726142e-07]]\n"
     ]
    }
   ],
   "source": [
    "negative_without_smiles = \"мы недовольны твоей работой. ты плохой работник\"\n",
    "negative_with_smiles = \"мы недовольны твоей работой. ты плохой работник(\"\n",
    "negative_with_many_smiles = \"мы недовольны твоей работой. ты плохой работник(((\"\n",
    "\n",
    "print(negative_without_smiles, model.predict(encode_text(negative_without_smiles)))\n",
    "print(negative_with_smiles, model.predict(encode_text(negative_with_smiles)))\n",
    "print(negative_with_many_smiles, model.predict(encode_text(negative_with_many_smiles)))"
   ]
  },
  {
   "cell_type": "code",
   "execution_count": 22,
   "metadata": {},
   "outputs": [
    {
     "name": "stdout",
     "output_type": "stream",
     "text": [
      "общее собрание состоится во вторник [[0.538129]]\n"
     ]
    }
   ],
   "source": [
    "neutral = \"общее собрание состоится во вторник\"\n",
    "print(neutral, model.predict(encode_text(neutral)))"
   ]
  }
 ],
 "metadata": {
  "kernelspec": {
   "display_name": "Python 3",
   "language": "python",
   "name": "python3"
  },
  "language_info": {
   "codemirror_mode": {
    "name": "ipython",
    "version": 3
   },
   "file_extension": ".py",
   "mimetype": "text/x-python",
   "name": "python",
   "nbconvert_exporter": "python",
   "pygments_lexer": "ipython3",
   "version": "3.6.8"
  },
  "pycharm": {
   "stem_cell": {
    "cell_type": "raw",
    "metadata": {
     "collapsed": false
    },
    "source": []
   }
  }
 },
 "nbformat": 4,
 "nbformat_minor": 2
}
