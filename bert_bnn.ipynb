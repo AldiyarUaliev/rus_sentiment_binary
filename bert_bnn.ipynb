{
 "cells": [
  {
   "cell_type": "markdown",
   "metadata": {},
   "source": [
    "Some imports"
   ]
  },
  {
   "cell_type": "code",
   "execution_count": 1,
   "metadata": {},
   "outputs": [],
   "source": [
    "import pandas as pd\n",
    "import re\n",
    "from sklearn.model_selection import train_test_split\n",
    "import pickle\n",
    "from impartial_text_cls.impartial_text_cls import ImpartialTextClassifier\n",
    "import tensorflow as tf\n",
    "import tensorflow_hub as tfhub"
   ]
  },
  {
   "cell_type": "markdown",
   "metadata": {},
   "source": [
    "Uncomment and run, if you don't have checkpoint downloaded"
   ]
  },
  {
   "cell_type": "code",
   "execution_count": 2,
   "metadata": {},
   "outputs": [],
   "source": [
    "# tfhub.Module('https://tfhub.dev/google/bert_multi_cased_L-12_H-768_A-12/1')"
   ]
  },
  {
   "cell_type": "markdown",
   "metadata": {},
   "source": [
    "Load the data"
   ]
  },
  {
   "cell_type": "code",
   "execution_count": 3,
   "metadata": {},
   "outputs": [
    {
     "data": {
      "text/html": [
       "<div>\n",
       "<style scoped>\n",
       "    .dataframe tbody tr th:only-of-type {\n",
       "        vertical-align: middle;\n",
       "    }\n",
       "\n",
       "    .dataframe tbody tr th {\n",
       "        vertical-align: top;\n",
       "    }\n",
       "\n",
       "    .dataframe thead th {\n",
       "        text-align: right;\n",
       "    }\n",
       "</style>\n",
       "<table border=\"1\" class=\"dataframe\">\n",
       "  <thead>\n",
       "    <tr style=\"text-align: right;\">\n",
       "      <th></th>\n",
       "      <th>text</th>\n",
       "      <th>class</th>\n",
       "    </tr>\n",
       "  </thead>\n",
       "  <tbody>\n",
       "    <tr>\n",
       "      <th>0</th>\n",
       "      <td>@lida_holub ты когда фото закинешь вк для всех ?(</td>\n",
       "      <td>neg</td>\n",
       "    </tr>\n",
       "    <tr>\n",
       "      <th>1</th>\n",
       "      <td>И самое смешное, что у неё даже нет доказательств того, что пиздят у меня за спиной шавки)\\nА у меня как раз есть интересные видео про неё..</td>\n",
       "      <td>pos</td>\n",
       "    </tr>\n",
       "    <tr>\n",
       "      <th>2</th>\n",
       "      <td>@alina_royal нет, на балты, но сначала в армейку проводить человека а это к пол 8 на московские врота((</td>\n",
       "      <td>neg</td>\n",
       "    </tr>\n",
       "    <tr>\n",
       "      <th>3</th>\n",
       "      <td>@sashka_dovgal Да-да,вот так я не люблю некоторых особ:)</td>\n",
       "      <td>pos</td>\n",
       "    </tr>\n",
       "    <tr>\n",
       "      <th>4</th>\n",
       "      <td>Лентовцы жгут =) \"Это нтернет, детка. тут могут и на **й послать.\" Конечно баян но жгут. =)</td>\n",
       "      <td>pos</td>\n",
       "    </tr>\n",
       "    <tr>\n",
       "      <th>5</th>\n",
       "      <td>@razvratniza короткая :(\\nЯ не привыкла к таким вещам((</td>\n",
       "      <td>neg</td>\n",
       "    </tr>\n",
       "    <tr>\n",
       "      <th>6</th>\n",
       "      <td>RT @qwhout90: - Папа, я замуж не выйду, — я с вами жить буду!\\n- Не смей угрожать отцу!:)</td>\n",
       "      <td>pos</td>\n",
       "    </tr>\n",
       "    <tr>\n",
       "      <th>7</th>\n",
       "      <td>@MeowMeowVox Да, к сожалению, иначе никак(</td>\n",
       "      <td>neg</td>\n",
       "    </tr>\n",
       "    <tr>\n",
       "      <th>8</th>\n",
       "      <td>И это не смотря на то, что цены в Партер были от 5000 до 15000 рублей) В Фанзоне дела обстоят попроще: там билеты от 3500 до 4000 рублей)</td>\n",
       "      <td>pos</td>\n",
       "    </tr>\n",
       "    <tr>\n",
       "      <th>9</th>\n",
       "      <td>\"Миша Ковриженко Не, ну стоит беркут и титушек поблагодарить, разобрали плохие и ветхие баррикады, чтобы мы построили новые и крепкие)))))\"</td>\n",
       "      <td>pos</td>\n",
       "    </tr>\n",
       "  </tbody>\n",
       "</table>\n",
       "</div>"
      ],
      "text/plain": [
       "                                                                                                                                           text  \\\n",
       "0  @lida_holub ты когда фото закинешь вк для всех ?(                                                                                              \n",
       "1  И самое смешное, что у неё даже нет доказательств того, что пиздят у меня за спиной шавки)\\nА у меня как раз есть интересные видео про неё..   \n",
       "2  @alina_royal нет, на балты, но сначала в армейку проводить человека а это к пол 8 на московские врота((                                        \n",
       "3  @sashka_dovgal Да-да,вот так я не люблю некоторых особ:)                                                                                       \n",
       "4  Лентовцы жгут =) \"Это нтернет, детка. тут могут и на **й послать.\" Конечно баян но жгут. =)                                                    \n",
       "5  @razvratniza короткая :(\\nЯ не привыкла к таким вещам((                                                                                        \n",
       "6  RT @qwhout90: - Папа, я замуж не выйду, — я с вами жить буду!\\n- Не смей угрожать отцу!:)                                                      \n",
       "7  @MeowMeowVox Да, к сожалению, иначе никак(                                                                                                     \n",
       "8  И это не смотря на то, что цены в Партер были от 5000 до 15000 рублей) В Фанзоне дела обстоят попроще: там билеты от 3500 до 4000 рублей)      \n",
       "9  \"Миша Ковриженко Не, ну стоит беркут и титушек поблагодарить, разобрали плохие и ветхие баррикады, чтобы мы построили новые и крепкие)))))\"    \n",
       "\n",
       "  class  \n",
       "0  neg   \n",
       "1  pos   \n",
       "2  neg   \n",
       "3  pos   \n",
       "4  pos   \n",
       "5  neg   \n",
       "6  pos   \n",
       "7  neg   \n",
       "8  pos   \n",
       "9  pos   "
      ]
     },
     "execution_count": 3,
     "metadata": {},
     "output_type": "execute_result"
    }
   ],
   "source": [
    "pd.set_option('max_colwidth', -1)\n",
    "\n",
    "negative = pd.read_csv('data/negative.csv', header=None, sep=';', usecols=[3])\n",
    "negative['class'] = 'neg'\n",
    "positive = pd.read_csv('data/positive.csv', header=None, sep=';', usecols=[3])\n",
    "positive['class'] = 'pos'\n",
    "df = pd.concat([negative, positive], ignore_index=True, copy=False)\n",
    "df = df.sample(frac=1).reset_index(drop=True)\n",
    "df.rename(columns={3: 'text'}, inplace=True)\n",
    "df.head(n=10)"
   ]
  },
  {
   "cell_type": "markdown",
   "metadata": {},
   "source": [
    "Text preprocessing"
   ]
  },
  {
   "cell_type": "code",
   "execution_count": 4,
   "metadata": {},
   "outputs": [],
   "source": [
    "def preprocess_text(text):\n",
    "    # Lower text\n",
    "    text = text.lower()\n",
    "    # Remove URLs\n",
    "    text = re.sub(r\"http\\S+\", \"\", text)\n",
    "    # Remove @ mentions\n",
    "    text = re.sub(r\"@\\S+\", \"\", text)\n",
    "    # Remove hashtags\n",
    "    text = re.sub(r\"#\\S+\", \"\", text)\n",
    "    # Remove rt (retweets)\n",
    "    text = re.sub(\"rt\", \"\", text)\n",
    "    # Remove unneeded symbols\n",
    "    text = re.sub(r\"[/~/`/@/#/$/%/&/-/_/+/,/.]\", \"\", text)\n",
    "    # Remove extra spaces\n",
    "    text = re.sub(\" +\", ' ', text)\n",
    "    \n",
    "    return text"
   ]
  },
  {
   "cell_type": "code",
   "execution_count": 5,
   "metadata": {},
   "outputs": [
    {
     "data": {
      "text/html": [
       "<div>\n",
       "<style scoped>\n",
       "    .dataframe tbody tr th:only-of-type {\n",
       "        vertical-align: middle;\n",
       "    }\n",
       "\n",
       "    .dataframe tbody tr th {\n",
       "        vertical-align: top;\n",
       "    }\n",
       "\n",
       "    .dataframe thead th {\n",
       "        text-align: right;\n",
       "    }\n",
       "</style>\n",
       "<table border=\"1\" class=\"dataframe\">\n",
       "  <thead>\n",
       "    <tr style=\"text-align: right;\">\n",
       "      <th></th>\n",
       "      <th>text</th>\n",
       "      <th>class</th>\n",
       "      <th>preprocessed_text</th>\n",
       "    </tr>\n",
       "  </thead>\n",
       "  <tbody>\n",
       "    <tr>\n",
       "      <th>0</th>\n",
       "      <td>@lida_holub ты когда фото закинешь вк для всех ?(</td>\n",
       "      <td>neg</td>\n",
       "      <td>ты когда фото закинешь вк для всех ?(</td>\n",
       "    </tr>\n",
       "    <tr>\n",
       "      <th>1</th>\n",
       "      <td>И самое смешное, что у неё даже нет доказательств того, что пиздят у меня за спиной шавки)\\nА у меня как раз есть интересные видео про неё..</td>\n",
       "      <td>pos</td>\n",
       "      <td>и самое смешное что у неё даже нет доказательств того что пиздят у меня за спиной шавки)\\nа у меня как раз есть интересные видео про неё</td>\n",
       "    </tr>\n",
       "    <tr>\n",
       "      <th>2</th>\n",
       "      <td>@alina_royal нет, на балты, но сначала в армейку проводить человека а это к пол 8 на московские врота((</td>\n",
       "      <td>neg</td>\n",
       "      <td>нет на балты но сначала в армейку проводить человека а это к пол 8 на московские врота((</td>\n",
       "    </tr>\n",
       "    <tr>\n",
       "      <th>3</th>\n",
       "      <td>@sashka_dovgal Да-да,вот так я не люблю некоторых особ:)</td>\n",
       "      <td>pos</td>\n",
       "      <td>да-давот так я не люблю некоторых особ:)</td>\n",
       "    </tr>\n",
       "    <tr>\n",
       "      <th>4</th>\n",
       "      <td>Лентовцы жгут =) \"Это нтернет, детка. тут могут и на **й послать.\" Конечно баян но жгут. =)</td>\n",
       "      <td>pos</td>\n",
       "      <td>лентовцы жгут =) \"это нтернет детка тут могут и на **й послать\" конечно баян но жгут =)</td>\n",
       "    </tr>\n",
       "  </tbody>\n",
       "</table>\n",
       "</div>"
      ],
      "text/plain": [
       "                                                                                                                                           text  \\\n",
       "0  @lida_holub ты когда фото закинешь вк для всех ?(                                                                                              \n",
       "1  И самое смешное, что у неё даже нет доказательств того, что пиздят у меня за спиной шавки)\\nА у меня как раз есть интересные видео про неё..   \n",
       "2  @alina_royal нет, на балты, но сначала в армейку проводить человека а это к пол 8 на московские врота((                                        \n",
       "3  @sashka_dovgal Да-да,вот так я не люблю некоторых особ:)                                                                                       \n",
       "4  Лентовцы жгут =) \"Это нтернет, детка. тут могут и на **й послать.\" Конечно баян но жгут. =)                                                    \n",
       "\n",
       "  class  \\\n",
       "0  neg    \n",
       "1  pos    \n",
       "2  neg    \n",
       "3  pos    \n",
       "4  pos    \n",
       "\n",
       "                                                                                                                          preprocessed_text  \n",
       "0   ты когда фото закинешь вк для всех ?(                                                                                                    \n",
       "1  и самое смешное что у неё даже нет доказательств того что пиздят у меня за спиной шавки)\\nа у меня как раз есть интересные видео про неё  \n",
       "2   нет на балты но сначала в армейку проводить человека а это к пол 8 на московские врота((                                                 \n",
       "3   да-давот так я не люблю некоторых особ:)                                                                                                 \n",
       "4  лентовцы жгут =) \"это нтернет детка тут могут и на **й послать\" конечно баян но жгут =)                                                   "
      ]
     },
     "execution_count": 5,
     "metadata": {},
     "output_type": "execute_result"
    }
   ],
   "source": [
    "df['preprocessed_text'] = df['text'].apply(lambda x: preprocess_text(x))\n",
    "df.head()"
   ]
  },
  {
   "cell_type": "markdown",
   "metadata": {},
   "source": [
    "Split to train/test"
   ]
  },
  {
   "cell_type": "code",
   "execution_count": 6,
   "metadata": {},
   "outputs": [],
   "source": [
    "text_train, text_test, label_train, label_test = train_test_split(\n",
    "    df['preprocessed_text'],\n",
    "    df['class'],\n",
    "    test_size=0.2,\n",
    "    shuffle=True,\n",
    "    random_state=42\n",
    ")"
   ]
  },
  {
   "cell_type": "markdown",
   "metadata": {},
   "source": [
    "Training (I reduced filters num and other params to make training/inference faster)"
   ]
  },
  {
   "cell_type": "code",
   "execution_count": 7,
   "metadata": {},
   "outputs": [
    {
     "name": "stdout",
     "output_type": "stream",
     "text": [
      "INFO:tensorflow:Saver not created because there are no variables in the graph to restore\n",
      "WARNING:tensorflow:From /home/rdalex/venv3/lib/python3.6/site-packages/bert_tensorflow-1.0.1-py3.6.egg/bert/tokenization.py:125: The name tf.gfile.GFile is deprecated. Please use tf.io.gfile.GFile instead.\n",
      "\n",
      "\n",
      "Maximal length of text (in BPE): 64\n",
      "Mean length of text (in BPE): 26.13\n",
      "Median length of text (in BPE): 24\n",
      "\n",
      "Number of known texts for training is 900.\n",
      "Number of known texts for validation is 100.\n",
      "\n",
      "INFO:tensorflow:Saver not created because there are no variables in the graph to restore\n",
      "The BERT model has been loaded from the TF-Hub.\n",
      "WARNING:tensorflow:From /home/rdalex/venv3/lib/python3.6/site-packages/tensorflow_core/python/ops/resource_variable_ops.py:1630: calling BaseResourceVariable.__init__ (from tensorflow.python.ops.resource_variable_ops) with constraint is deprecated and will be removed in a future version.\n",
      "Instructions for updating:\n",
      "If using Keras pass *_constraint arguments to layers.\n",
      "WARNING:tensorflow:From /home/rdalex/venv3/lib/python3.6/site-packages/tensorflow_probability-0.7.0-py3.6.egg/tensorflow_probability/python/layers/util.py:102: Layer.add_variable (from tensorflow.python.keras.engine.base_layer) is deprecated and will be removed in a future version.\n",
      "Instructions for updating:\n",
      "Please use `layer.add_weight` method instead.\n",
      "WARNING:tensorflow:\n",
      "The TensorFlow contrib module will not be included in TensorFlow 2.0.\n",
      "For more information, please see:\n",
      "  * https://github.com/tensorflow/community/blob/master/rfcs/20180907-contrib-sunset.md\n",
      "  * https://github.com/tensorflow/addons\n",
      "  * https://github.com/tensorflow/io (for I/O related ops)\n",
      "If you depend on functionality not listed there, please file an issue.\n",
      "\n",
      "Epoch 0\n",
      "  Duration is 411.080 seconds\n",
      "  KL weight: 0.500000\n",
      "  Train ELBO loss:  1006.136824\n",
      "  Val. loss:           0.160771\n",
      "  Val. quality for all entities:\n",
      "    F1=0.9517, P=0.9598, R=0.9452\n",
      "      Val. quality for neg:\n",
      "        F1=0.9383, P=0.9744, R=0.9048\n",
      "      Val. quality for pos:\n",
      "        F1=0.9650, P=0.9452, R=0.9857\n",
      "Epoch 1\n",
      "  Duration is 337.282 seconds\n",
      "  KL weight: 0.490151\n",
      "  Train ELBO loss:   979.846142\n",
      "  Val. loss:           0.154805\n",
      "  Val. quality for all entities:\n",
      "    F1=0.9626, P=0.9565, R=0.9714\n",
      "      Val. quality for neg:\n",
      "        F1=0.9545, P=0.9130, R=1.0000\n",
      "      Val. quality for pos:\n",
      "        F1=0.9706, P=1.0000, R=0.9429\n",
      "Epoch 2\n",
      "  Duration is 330.787 seconds\n",
      "  KL weight: 0.480402\n",
      "  Train ELBO loss:   954.211824\n",
      "  Val. loss:           0.126126\n",
      "  Val. quality for all entities:\n",
      "    F1=0.9904, P=0.9930, R=0.9881\n",
      "      Val. quality for neg:\n",
      "        F1=0.9880, P=1.0000, R=0.9762\n",
      "      Val. quality for pos:\n",
      "        F1=0.9929, P=0.9859, R=1.0000\n",
      "Epoch 3\n",
      "  Duration is 331.606 seconds\n",
      "  KL weight: 0.470753\n",
      "  Train ELBO loss:   929.067930\n",
      "  Val. loss:           0.112834\n",
      "  Val. quality for all entities:\n",
      "    F1=0.9808, P=0.9861, R=0.9762\n",
      "      Val. quality for neg:\n",
      "        F1=0.9756, P=1.0000, R=0.9524\n",
      "      Val. quality for pos:\n",
      "        F1=0.9859, P=0.9722, R=1.0000\n",
      "Epoch 4\n",
      "  Duration is 325.070 seconds\n",
      "  KL weight: 0.461204\n",
      "  Train ELBO loss:   904.394375\n",
      "  Val. loss:           0.124711\n",
      "  Val. quality for all entities:\n",
      "    F1=0.9904, P=0.9930, R=0.9881\n",
      "      Val. quality for neg:\n",
      "        F1=0.9880, P=1.0000, R=0.9762\n",
      "      Val. quality for pos:\n",
      "        F1=0.9929, P=0.9859, R=1.0000\n",
      "Epoch 5\n",
      "  Duration is 323.286 seconds\n",
      "  KL weight: 0.451755\n",
      "  Train ELBO loss:   880.165391\n",
      "  Val. loss:           0.025205\n",
      "  Val. quality for all entities:\n",
      "    F1=0.9904, P=0.9930, R=0.9881\n",
      "      Val. quality for neg:\n",
      "        F1=0.9880, P=1.0000, R=0.9762\n",
      "      Val. quality for pos:\n",
      "        F1=0.9929, P=0.9859, R=1.0000\n",
      "Epoch 6\n",
      "  Duration is 323.024 seconds\n",
      "  KL weight: 0.442406\n",
      "  Train ELBO loss:   856.446002\n",
      "  Val. loss:           0.194585\n",
      "  Val. quality for all entities:\n",
      "    F1=0.9811, P=0.9773, R=0.9857\n",
      "      Val. quality for neg:\n",
      "        F1=0.9767, P=0.9545, R=1.0000\n",
      "      Val. quality for pos:\n",
      "        F1=0.9855, P=1.0000, R=0.9714\n",
      "Epoch 7\n",
      "  Duration is 323.470 seconds\n",
      "  KL weight: 0.433157\n",
      "  Train ELBO loss:   833.094535\n",
      "  Val. loss:           0.056395\n",
      "  Val. quality for all entities:\n",
      "    F1=0.9810, P=0.9810, R=0.9810\n",
      "      Val. quality for neg:\n",
      "        F1=0.9762, P=0.9762, R=0.9762\n",
      "      Val. quality for pos:\n",
      "        F1=0.9857, P=0.9857, R=0.9857\n",
      "Epoch 00008: early stopping\n",
      "WARNING:tensorflow:From /home/rdalex/venv3/lib/python3.6/site-packages/impartial_text_cls-0.0.4-py3.6.egg/impartial_text_cls/impartial_text_cls.py:1051: The name tf.train.import_meta_graph is deprecated. Please use tf.compat.v1.train.import_meta_graph instead.\n",
      "\n",
      "INFO:tensorflow:Restoring parameters from /tmp/tmpgj_qx0c_bert_cls.ckpt\n",
      "Certainty threshold has been detected as minimum of maximal recognition probabilities for labeled samples.\n",
      "This threshold is 0.531.\n"
     ]
    },
    {
     "data": {
      "text/plain": [
       "ImpartialTextClassifier(batch_size=16, bayesian=True,\n",
       "                        bert_hub_module_handle='/tmp/tfhub_modules/2e9b4b015e19c732663e0684f163c86f1deeee30/',\n",
       "                        filters_for_conv1=100, filters_for_conv2=25,\n",
       "                        filters_for_conv3=25, filters_for_conv4=25,\n",
       "                        filters_for_conv5=25, gpu_memory_frac=1.0,\n",
       "                        hidden_layer_size=300, kl_weight_fin=0.01,\n",
       "                        kl_weight_init=0.5, max_epochs=100, multioutput=False,\n",
       "                        n_hidden_layers=2, num_monte_carlo=10, patience=5,\n",
       "                        random_seed=42, validation_fraction=0.1, verbose=True)"
      ]
     },
     "execution_count": 7,
     "metadata": {},
     "output_type": "execute_result"
    }
   ],
   "source": [
    "cls = ImpartialTextClassifier(\n",
    "    bert_hub_module_handle='/tmp/tfhub_modules/2e9b4b015e19c732663e0684f163c86f1deeee30/',\n",
    "    filters_for_conv2=25, \n",
    "    filters_for_conv3=25, \n",
    "    filters_for_conv4=25, \n",
    "    filters_for_conv5=25,\n",
    "    hidden_layer_size=300, \n",
    "    n_hidden_layers=2, \n",
    "    batch_size=16, \n",
    "    num_monte_carlo=10,\n",
    "    bayesian=True, \n",
    "    multioutput=False, \n",
    "    random_seed=42, \n",
    "    validation_fraction=0.1,\n",
    "    max_epochs=100, \n",
    "    patience=5, \n",
    "    verbose=True, \n",
    "    kl_weight_init=0.5, \n",
    "    kl_weight_fin=1e-2\n",
    ")\n",
    "cls.fit(list(text_train)[:1000], list(label_train)[:1000])"
   ]
  },
  {
   "cell_type": "markdown",
   "metadata": {},
   "source": [
    "Sample size against inference time (in sec)"
   ]
  },
  {
   "cell_type": "code",
   "execution_count": 8,
   "metadata": {},
   "outputs": [
    {
     "data": {
      "image/png": "[encoded data removed]",
      "text/plain": [
       "<Figure size 432x288 with 1 Axes>"
      ]
     },
     "metadata": {
      "needs_background": "light"
     },
     "output_type": "display_data"
    }
   ],
   "source": [
    "from sklearn.metrics import classification_report\n",
    "import time\n",
    "import matplotlib.pyplot as plt\n",
    "%matplotlib inline\n",
    "\n",
    "sample_sizes = []\n",
    "inference_times = []\n",
    "for i in range(50):\n",
    "    start_time = time.time()\n",
    "    cls.predict(list(text_test)[:(i + 1)])\n",
    "    end_time = time.time()\n",
    "    sample_sizes.append(i + 1)\n",
    "    inference_times.append(end_time - start_time)\n",
    "plt.plot(sample_sizes, inference_times)\n",
    "plt.grid()"
   ]
  },
  {
   "cell_type": "markdown",
   "metadata": {},
   "source": [
    "As we can see, model is pretty slow on inference. Let's see what happens on small fraction of test data"
   ]
  },
  {
   "cell_type": "code",
   "execution_count": 9,
   "metadata": {},
   "outputs": [
    {
     "name": "stdout",
     "output_type": "stream",
     "text": [
      "Inference time: 306.63769936561584 seconds\n",
      "              precision    recall  f1-score   support\n",
      "\n",
      "          -1       0.00      0.00      0.00         0\n",
      "         neg       0.96      0.95      0.95       489\n",
      "         pos       0.96      0.95      0.96       511\n",
      "\n",
      "    accuracy                           0.95      1000\n",
      "   macro avg       0.64      0.63      0.64      1000\n",
      "weighted avg       0.96      0.95      0.96      1000\n",
      "\n"
     ]
    },
    {
     "name": "stderr",
     "output_type": "stream",
     "text": [
      "/home/rdalex/venv3/lib/python3.6/site-packages/sklearn/metrics/classification.py:1439: UndefinedMetricWarning: Recall and F-score are ill-defined and being set to 0.0 in labels with no true samples.\n",
      "  'recall', 'true', average, warn_for)\n"
     ]
    }
   ],
   "source": [
    "start_time = time.time()\n",
    "y_pred = cls.predict(list(text_test)[:1000])\n",
    "end_time = time.time()\n",
    "print('Inference time: {} seconds'.format(end_time - start_time))\n",
    "print(classification_report(list(label_test)[:1000], y_pred))"
   ]
  },
  {
   "cell_type": "markdown",
   "metadata": {},
   "source": [
    "Saved the model"
   ]
  },
  {
   "cell_type": "code",
   "execution_count": 12,
   "metadata": {},
   "outputs": [],
   "source": [
    "with open('trained_models/bert_bayesian.pkl', 'wb') as fp:\n",
    "    pickle.dump(cls, fp)"
   ]
  }
 ],
 "metadata": {
  "kernelspec": {
   "display_name": "Python 3",
   "language": "python",
   "name": "python3"
  },
  "language_info": {
   "codemirror_mode": {
    "name": "ipython",
    "version": 3
   },
   "file_extension": ".py",
   "mimetype": "text/x-python",
   "name": "python",
   "nbconvert_exporter": "python",
   "pygments_lexer": "ipython3",
   "version": "3.6.9"
  }
 },
 "nbformat": 4,
 "nbformat_minor": 4
}
