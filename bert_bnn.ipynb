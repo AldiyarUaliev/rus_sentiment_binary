{
 "cells": [
  {
   "cell_type": "markdown",
   "metadata": {},
   "source": [
    "Some imports"
   ]
  },
  {
   "cell_type": "code",
   "execution_count": 1,
   "metadata": {},
   "outputs": [],
   "source": [
    "import pandas as pd\n",
    "import re\n",
    "from sklearn.model_selection import train_test_split\n",
    "import pickle\n",
    "from impartial_text_cls.impartial_text_cls import ImpartialTextClassifier\n",
    "import tensorflow as tf\n",
    "import tensorflow_hub as tfhub"
   ]
  },
  {
   "cell_type": "markdown",
   "metadata": {},
   "source": [
    "Uncomment and run, if you don't have checkpoint downloaded"
   ]
  },
  {
   "cell_type": "code",
   "execution_count": 2,
   "metadata": {},
   "outputs": [],
   "source": [
    "# tfhub.Module('https://tfhub.dev/google/bert_multi_cased_L-12_H-768_A-12/1')"
   ]
  },
  {
   "cell_type": "markdown",
   "metadata": {},
   "source": [
    "Load the data"
   ]
  },
  {
   "cell_type": "code",
   "execution_count": 3,
   "metadata": {},
   "outputs": [
    {
     "data": {
      "text/html": [
       "<div>\n",
       "<style scoped>\n",
       "    .dataframe tbody tr th:only-of-type {\n",
       "        vertical-align: middle;\n",
       "    }\n",
       "\n",
       "    .dataframe tbody tr th {\n",
       "        vertical-align: top;\n",
       "    }\n",
       "\n",
       "    .dataframe thead th {\n",
       "        text-align: right;\n",
       "    }\n",
       "</style>\n",
       "<table border=\"1\" class=\"dataframe\">\n",
       "  <thead>\n",
       "    <tr style=\"text-align: right;\">\n",
       "      <th></th>\n",
       "      <th>Unnamed: 0</th>\n",
       "      <th>preprocessed_text</th>\n",
       "      <th>sentiment</th>\n",
       "    </tr>\n",
       "  </thead>\n",
       "  <tbody>\n",
       "    <tr>\n",
       "      <th>0</th>\n",
       "      <td>0</td>\n",
       "      <td>теперь я знаю чего хочу на нг:dd ^^</td>\n",
       "      <td>1</td>\n",
       "    </tr>\n",
       "    <tr>\n",
       "      <th>1</th>\n",
       "      <td>1</td>\n",
       "      <td>скоро матч робин-локо болею сегодня за рубин н...</td>\n",
       "      <td>1</td>\n",
       "    </tr>\n",
       "    <tr>\n",
       "      <th>2</th>\n",
       "      <td>2</td>\n",
       "      <td>перестаньте а (</td>\n",
       "      <td>0</td>\n",
       "    </tr>\n",
       "    <tr>\n",
       "      <th>3</th>\n",
       "      <td>3</td>\n",
       "      <td>матвейка милааааш^^ соскучилась по нему)</td>\n",
       "      <td>1</td>\n",
       "    </tr>\n",
       "    <tr>\n",
       "      <th>4</th>\n",
       "      <td>4</td>\n",
       "      <td>блиин:с я и на концеерт хочу теперь:((((( а т...</td>\n",
       "      <td>0</td>\n",
       "    </tr>\n",
       "  </tbody>\n",
       "</table>\n",
       "</div>"
      ],
      "text/plain": [
       "   Unnamed: 0                                  preprocessed_text  sentiment\n",
       "0           0               теперь я знаю чего хочу на нг:dd ^^           1\n",
       "1           1  скоро матч робин-локо болею сегодня за рубин н...          1\n",
       "2           2                                    перестаньте а (          0\n",
       "3           3          матвейка милааааш^^ соскучилась по нему)           1\n",
       "4           4   блиин:с я и на концеерт хочу теперь:((((( а т...          0"
      ]
     },
     "execution_count": 3,
     "metadata": {},
     "output_type": "execute_result"
    }
   ],
   "source": [
    "df = pd.read_csv('data/preprocessed.csv')\n",
    "df.head()"
   ]
  },
  {
   "cell_type": "markdown",
   "metadata": {},
   "source": [
    "Train/test split"
   ]
  },
  {
   "cell_type": "code",
   "execution_count": 4,
   "metadata": {},
   "outputs": [],
   "source": [
    "text_train, text_test, label_train, label_test = train_test_split(\n",
    "    df['preprocessed_text'],\n",
    "    df['sentiment'],\n",
    "    test_size=0.3,\n",
    "    shuffle=True,\n",
    "    random_state=42\n",
    ")"
   ]
  },
  {
   "cell_type": "markdown",
   "metadata": {},
   "source": [
    "Training"
   ]
  },
  {
   "cell_type": "code",
   "execution_count": 5,
   "metadata": {},
   "outputs": [
    {
     "name": "stdout",
     "output_type": "stream",
     "text": [
      "INFO:tensorflow:Saver not created because there are no variables in the graph to restore\n",
      "WARNING:tensorflow:From /home/rdalex/venv3/lib/python3.6/site-packages/bert_tensorflow-1.0.1-py3.6.egg/bert/tokenization.py:125: The name tf.gfile.GFile is deprecated. Please use tf.io.gfile.GFile instead.\n",
      "\n",
      "\n",
      "Maximal length of text (in BPE): 128\n",
      "Mean length of text (in BPE): 25.99705882352941\n",
      "Median length of text (in BPE): 24\n",
      "\n",
      "Number of known texts for training is 1700.\n",
      "Number of known texts for validation is 300.\n",
      "\n",
      "INFO:tensorflow:Saver not created because there are no variables in the graph to restore\n",
      "The BERT model has been loaded from the TF-Hub.\n",
      "WARNING:tensorflow:From /home/rdalex/venv3/lib/python3.6/site-packages/tensorflow_core/python/ops/resource_variable_ops.py:1630: calling BaseResourceVariable.__init__ (from tensorflow.python.ops.resource_variable_ops) with constraint is deprecated and will be removed in a future version.\n",
      "Instructions for updating:\n",
      "If using Keras pass *_constraint arguments to layers.\n",
      "WARNING:tensorflow:From /home/rdalex/venv3/lib/python3.6/site-packages/tensorflow_probability-0.7.0-py3.6.egg/tensorflow_probability/python/layers/util.py:102: Layer.add_variable (from tensorflow.python.keras.engine.base_layer) is deprecated and will be removed in a future version.\n",
      "Instructions for updating:\n",
      "Please use `layer.add_weight` method instead.\n",
      "WARNING:tensorflow:\n",
      "The TensorFlow contrib module will not be included in TensorFlow 2.0.\n",
      "For more information, please see:\n",
      "  * https://github.com/tensorflow/community/blob/master/rfcs/20180907-contrib-sunset.md\n",
      "  * https://github.com/tensorflow/addons\n",
      "  * https://github.com/tensorflow/io (for I/O related ops)\n",
      "If you depend on functionality not listed there, please file an issue.\n",
      "\n",
      "Epoch 0\n",
      "  Duration is 664.871 seconds\n",
      "  KL weight: 0.500000\n",
      "  Train ELBO loss:   377.878198\n",
      "  Val. loss:           0.208772\n",
      "  Val. quality for all entities:\n",
      "    F1=0.9572, P=0.9573, R=0.9574\n",
      "      Val. quality for 0:\n",
      "        F1=0.9574, P=0.9669, R=0.9481\n",
      "      Val. quality for 1:\n",
      "        F1=0.9571, P=0.9477, R=0.9667\n",
      "Epoch 1\n",
      "  Duration is 665.783 seconds\n",
      "  KL weight: 0.490151\n",
      "  Train ELBO loss:   365.727475\n",
      "  Val. loss:           0.323357\n",
      "  Val. quality for all entities:\n",
      "    F1=0.9240, P=0.9335, R=0.9253\n",
      "      Val. quality for 0:\n",
      "        F1=0.9193, P=1.0000, R=0.8506\n",
      "      Val. quality for 1:\n",
      "        F1=0.9288, P=0.8671, R=1.0000\n",
      "Epoch 2\n",
      "  Duration is 657.002 seconds\n",
      "  KL weight: 0.480402\n",
      "  Train ELBO loss:   354.021553\n",
      "  Val. loss:           0.143813\n",
      "  Val. quality for all entities:\n",
      "    F1=0.9572, P=0.9575, R=0.9574\n",
      "      Val. quality for 0:\n",
      "        F1=0.9571, P=0.9732, R=0.9416\n",
      "      Val. quality for 1:\n",
      "        F1=0.9574, P=0.9419, R=0.9733\n",
      "Epoch 3\n",
      "  Duration is 658.064 seconds\n",
      "  KL weight: 0.470753\n",
      "  Train ELBO loss:   342.565709\n",
      "  Val. loss:           0.133809\n",
      "  Val. quality for all entities:\n",
      "    F1=0.9638, P=0.9638, R=0.9639\n",
      "      Val. quality for 0:\n",
      "        F1=0.9642, P=0.9673, R=0.9610\n",
      "      Val. quality for 1:\n",
      "        F1=0.9635, P=0.9603, R=0.9667\n",
      "Epoch 4\n",
      "  Duration is 680.732 seconds\n",
      "  KL weight: 0.461204\n",
      "  Train ELBO loss:   331.368801\n",
      "  Val. loss:           0.126198\n",
      "  Val. quality for all entities:\n",
      "    F1=0.9671, P=0.9671, R=0.9671\n",
      "      Val. quality for 0:\n",
      "        F1=0.9675, P=0.9675, R=0.9675\n",
      "      Val. quality for 1:\n",
      "        F1=0.9667, P=0.9667, R=0.9667\n",
      "Epoch 5\n",
      "  Duration is 683.008 seconds\n",
      "  KL weight: 0.451755\n",
      "  Train ELBO loss:   320.452892\n",
      "  Val. loss:           0.139212\n",
      "  Val. quality for all entities:\n",
      "    F1=0.9737, P=0.9737, R=0.9738\n",
      "      Val. quality for 0:\n",
      "        F1=0.9739, P=0.9803, R=0.9675\n",
      "      Val. quality for 1:\n",
      "        F1=0.9735, P=0.9671, R=0.9800\n",
      "Epoch 6\n",
      "  Duration is 684.085 seconds\n",
      "  KL weight: 0.442406\n",
      "  Train ELBO loss:   309.807333\n",
      "  Val. loss:           0.172845\n",
      "  Val. quality for all entities:\n",
      "    F1=0.9803, P=0.9804, R=0.9804\n",
      "      Val. quality for 0:\n",
      "        F1=0.9803, P=0.9933, R=0.9675\n",
      "      Val. quality for 1:\n",
      "        F1=0.9803, P=0.9675, R=0.9933\n",
      "Epoch 7\n",
      "  Duration is 688.110 seconds\n",
      "  KL weight: 0.433157\n",
      "  Train ELBO loss:   299.441709\n",
      "  Val. loss:           0.157224\n",
      "  Val. quality for all entities:\n",
      "    F1=0.9605, P=0.9607, R=0.9607\n",
      "      Val. quality for 0:\n",
      "        F1=0.9605, P=0.9733, R=0.9481\n",
      "      Val. quality for 1:\n",
      "        F1=0.9605, P=0.9481, R=0.9733\n",
      "Epoch 8\n",
      "  Duration is 675.260 seconds\n",
      "  KL weight: 0.424008\n",
      "  Train ELBO loss:   289.327403\n",
      "  Val. loss:           0.140299\n",
      "  Val. quality for all entities:\n",
      "    F1=0.9539, P=0.9544, R=0.9538\n",
      "      Val. quality for 0:\n",
      "        F1=0.9551, P=0.9430, R=0.9675\n",
      "      Val. quality for 1:\n",
      "        F1=0.9527, P=0.9658, R=0.9400\n",
      "Epoch 9\n",
      "  Duration is 675.504 seconds\n",
      "  KL weight: 0.414959\n",
      "  Train ELBO loss:   279.502918\n",
      "  Val. loss:           0.173686\n",
      "  Val. quality for all entities:\n",
      "    F1=0.9572, P=0.9585, R=0.9576\n",
      "      Val. quality for 0:\n",
      "        F1=0.9565, P=0.9862, R=0.9286\n",
      "      Val. quality for 1:\n",
      "        F1=0.9579, P=0.9308, R=0.9867\n",
      "Epoch 10\n",
      "  Duration is 675.452 seconds\n",
      "  KL weight: 0.406010\n",
      "  Train ELBO loss:   269.915837\n",
      "  Val. loss:           0.192303\n",
      "  Val. quality for all entities:\n",
      "    F1=0.9737, P=0.9737, R=0.9738\n",
      "      Val. quality for 0:\n",
      "        F1=0.9739, P=0.9803, R=0.9675\n",
      "      Val. quality for 1:\n",
      "        F1=0.9735, P=0.9671, R=0.9800\n",
      "Epoch 11\n",
      "  Duration is 677.803 seconds\n",
      "  KL weight: 0.397160\n",
      "  Train ELBO loss:   260.589774\n",
      "  Val. loss:           0.181737\n",
      "  Val. quality for all entities:\n",
      "    F1=0.9770, P=0.9770, R=0.9769\n",
      "      Val. quality for 0:\n",
      "        F1=0.9773, P=0.9742, R=0.9805\n",
      "      Val. quality for 1:\n",
      "        F1=0.9766, P=0.9799, R=0.9733\n",
      "Epoch 00012: early stopping\n",
      "WARNING:tensorflow:From /home/rdalex/venv3/lib/python3.6/site-packages/impartial_text_cls-0.0.4-py3.6.egg/impartial_text_cls/impartial_text_cls.py:1051: The name tf.train.import_meta_graph is deprecated. Please use tf.compat.v1.train.import_meta_graph instead.\n",
      "\n",
      "INFO:tensorflow:Restoring parameters from /tmp/tmp1uv8cpspbert_cls.ckpt\n",
      "Certainty threshold has been detected as minimum of maximal recognition probabilities for labeled samples.\n",
      "This threshold is 0.508.\n"
     ]
    },
    {
     "data": {
      "text/plain": [
       "ImpartialTextClassifier(batch_size=16, bayesian=True,\n",
       "                        bert_hub_module_handle='/tmp/tfhub_modules/2e9b4b015e19c732663e0684f163c86f1deeee30/',\n",
       "                        filters_for_conv1=100, filters_for_conv2=25,\n",
       "                        filters_for_conv3=25, filters_for_conv4=25,\n",
       "                        filters_for_conv5=25, gpu_memory_frac=1.0,\n",
       "                        hidden_layer_size=150, kl_weight_fin=0.01,\n",
       "                        kl_weight_init=0.5, max_epochs=100, multioutput=False,\n",
       "                        n_hidden_layers=2, num_monte_carlo=10, patience=5,\n",
       "                        random_seed=42, validation_fraction=0.15, verbose=True)"
      ]
     },
     "execution_count": 5,
     "metadata": {},
     "output_type": "execute_result"
    }
   ],
   "source": [
    "cls = ImpartialTextClassifier(\n",
    "    bert_hub_module_handle='/tmp/tfhub_modules/2e9b4b015e19c732663e0684f163c86f1deeee30/',\n",
    "    filters_for_conv2=25, \n",
    "    filters_for_conv3=25, \n",
    "    filters_for_conv4=25, \n",
    "    filters_for_conv5=25,\n",
    "    hidden_layer_size=150, \n",
    "    n_hidden_layers=2, \n",
    "    batch_size=16, \n",
    "    num_monte_carlo=10,\n",
    "    bayesian=True, \n",
    "    multioutput=False, \n",
    "    random_seed=42, \n",
    "    validation_fraction=0.15,\n",
    "    max_epochs=100, \n",
    "    patience=5, \n",
    "    verbose=True, \n",
    "    kl_weight_init=0.5, \n",
    "    kl_weight_fin=1e-2\n",
    ")\n",
    "cls.fit(list(text_train)[:2000], list(label_train)[:2000])"
   ]
  },
  {
   "cell_type": "markdown",
   "metadata": {},
   "source": [
    "Sample size against inference time (in sec)"
   ]
  },
  {
   "cell_type": "code",
   "execution_count": 6,
   "metadata": {},
   "outputs": [
    {
     "data": {
      "image/png": "[encoded data removed]",
      "text/plain": [
       "<Figure size 432x288 with 1 Axes>"
      ]
     },
     "metadata": {
      "needs_background": "light"
     },
     "output_type": "display_data"
    }
   ],
   "source": [
    "from sklearn.metrics import classification_report\n",
    "import time\n",
    "import matplotlib.pyplot as plt\n",
    "%matplotlib inline\n",
    "\n",
    "sample_sizes = []\n",
    "inference_times = []\n",
    "for i in range(50):\n",
    "    start_time = time.time()\n",
    "    cls.predict(list(text_test)[:(i + 1)])\n",
    "    end_time = time.time()\n",
    "    sample_sizes.append(i + 1)\n",
    "    inference_times.append(end_time - start_time)\n",
    "plt.plot(sample_sizes, inference_times)\n",
    "plt.xlabel('Sample size')\n",
    "plt.ylabel('Inference time (seconds)')\n",
    "plt.grid()"
   ]
  },
  {
   "cell_type": "markdown",
   "metadata": {},
   "source": [
    "As we can see, model is pretty slow on inference. Let's see what happens on small fraction of test data (first 2000 test sentences)"
   ]
  },
  {
   "cell_type": "code",
   "execution_count": 7,
   "metadata": {},
   "outputs": [
    {
     "name": "stdout",
     "output_type": "stream",
     "text": [
      "Inference time: 618.5718190670013 seconds\n",
      "              precision    recall  f1-score   support\n",
      "\n",
      "          -1       0.00      0.00      0.00         0\n",
      "           0       0.98      0.95      0.97       983\n",
      "           1       0.96      0.98      0.97      1017\n",
      "\n",
      "    accuracy                           0.97      2000\n",
      "   macro avg       0.65      0.65      0.65      2000\n",
      "weighted avg       0.97      0.97      0.97      2000\n",
      "\n"
     ]
    },
    {
     "name": "stderr",
     "output_type": "stream",
     "text": [
      "/home/rdalex/venv3/lib/python3.6/site-packages/sklearn/metrics/classification.py:1439: UndefinedMetricWarning: Recall and F-score are ill-defined and being set to 0.0 in labels with no true samples.\n",
      "  'recall', 'true', average, warn_for)\n"
     ]
    }
   ],
   "source": [
    "start_time = time.time()\n",
    "y_pred = cls.predict(list(text_test)[:2000])\n",
    "end_time = time.time()\n",
    "print('Inference time: {} seconds'.format(end_time - start_time))\n",
    "print(classification_report(list(label_test)[:2000], y_pred))"
   ]
  },
  {
   "cell_type": "markdown",
   "metadata": {},
   "source": [
    "Saved the model"
   ]
  },
  {
   "cell_type": "code",
   "execution_count": 8,
   "metadata": {},
   "outputs": [],
   "source": [
    "with open('trained_models/bert_bayesian.pkl', 'wb') as fp:\n",
    "    pickle.dump(cls, fp)"
   ]
  }
 ],
 "metadata": {
  "kernelspec": {
   "display_name": "Python 3",
   "language": "python",
   "name": "python3"
  },
  "language_info": {
   "codemirror_mode": {
    "name": "ipython",
    "version": 3
   },
   "file_extension": ".py",
   "mimetype": "text/x-python",
   "name": "python",
   "nbconvert_exporter": "python",
   "pygments_lexer": "ipython3",
   "version": "3.6.7"
  }
 },
 "nbformat": 4,
 "nbformat_minor": 4
}
